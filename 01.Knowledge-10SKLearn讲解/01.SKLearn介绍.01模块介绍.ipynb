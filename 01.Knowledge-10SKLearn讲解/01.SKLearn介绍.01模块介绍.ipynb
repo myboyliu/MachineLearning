{
 "cells": [
  {
   "cell_type": "markdown",
   "metadata": {},
   "source": [
    "# SKLearn介绍(SciKit-Learn)"
   ]
  },
  {
   "cell_type": "markdown",
   "metadata": {},
   "source": [
    "#1 模块介绍"
   ]
  },
  {
   "cell_type": "markdown",
   "metadata": {},
   "source": [
    "##1.1 监督学习\n",
    "- neighbors:近邻算法\n",
    "- svm：支持向量机\n",
    "- kernal_ridge：核岭回归\n",
    "- discriminant_analysis:判别分析\n",
    "- linear_model:广义线性模型\n",
    "- ensemble:集成方法，包括随机森林，bagging\n",
    "- tree:决策树\n",
    "- naive_bayes：朴素贝叶斯\n",
    "- cross_decomposition：交叉分解\n",
    "- gaussian_process：高斯过程\n",
    "- neural_network：多层神经网络\n",
    "- calibration:概率校准\n",
    "- isotonic：保序回归\n",
    "- feature_selection：监督特征选择\n",
    "- multiclass：多类多标签算法"
   ]
  },
  {
   "cell_type": "markdown",
   "metadata": {},
   "source": [
    "##1.2 无监督学习\n",
    "- decomposition:矩阵因子分解\n",
    "- cluster：聚类分析\n",
    "- manifold：流形学习\n",
    "- mixture:高斯混合模型\n",
    "- neural_network:无监督神经网络\n",
    "- density：密度估计\n",
    "- covariance：协方差估计"
   ]
  },
  {
   "cell_type": "markdown",
   "metadata": {},
   "source": [
    "##1.3 数据变换\n",
    "- preprocessing：数据预处理。包括数据缺失值的处理，数据的规范化，数据的归一化等等。比如数据原来不是标准正太分布\n",
    "- feature_extraction:特征抽取。只负责把特征提取出来\n",
    "- feature_selection:特征选择。留下好的特征，丢掉不好的特征\n",
    "- random_projection:随机投影。将特征进行空间变换,将特征映射到好处理的空间上去\n",
    "- kernel_approximation：核逼近。将特征进行空间变换,将特征映射到好处理的空间上去\n",
    "- pipeline:管道流。"
   ]
  },
  {
   "cell_type": "markdown",
   "metadata": {},
   "source": [
    "#2 六大板块与统一调用API\n",
    "分类、回归、聚类、维数约简、特征抽取选择、数据预处理\n",
    "```Python\n",
    "estimator.fit(x_train,[y_train])\n",
    "```\n",
    "- 对于Classification、Regression和Clustering,有predict函数\n",
    "- 对于Preprocessing、Dimensionality Reduction、Feature Extraction和Feature selection，有transform函数"
   ]
  }
 ],
 "metadata": {},
 "nbformat": 4,
 "nbformat_minor": 0
}
