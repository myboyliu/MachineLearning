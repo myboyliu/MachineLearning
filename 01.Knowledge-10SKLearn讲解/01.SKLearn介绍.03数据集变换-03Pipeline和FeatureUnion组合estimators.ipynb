{
 "cells": [
  {
   "cell_type": "markdown",
   "metadata": {},
   "source": [
    "# Pipeline和FeatureUnion组合estimators"
   ]
  },
  {
   "cell_type": "markdown",
   "metadata": {},
   "source": [
    "#1 Pipeline\n",
    "Pipeline可以用于把多个estimators级联成一个estimator。比如feature selection - normalization - classification\n",
    "\n",
    "Pipeline提供两种服务\n",
    "- Convenience：调用一次fit和predict就可以在数据集上训练一组estimators\n",
    "- Joint parameter selection：把grid search用在pipeline中所有的estimators的参数组合上面\n",
    "\n",
    "Pipeline中除最后一个之外的所有的estimators都必须是变换器(有transform方法)，最有一个estimator可以是任意类型；如果最后一个estimator是一个分类器，那么整个pipeline就可以作为分类器使用，如果最后一个estimator是个聚类器，则整个pipeline就可以作为聚类器使用"
   ]
  },
  {
   "cell_type": "markdown",
   "metadata": {},
   "source": [
    "#2 FeatureUnion\n",
    "把若干transformer objects组合成一个新的transformer。这个新的transformer组合了它们的输出。和Pipeline一样，也是提供了两种服务\n",
    "- Convenience：调用一次fit和transform就可以在数据集上训练一组estimators\n",
    "- Joint parameter selection：把grid search用在pipeline中所有的estimators的参数组合上面"
   ]
  }
 ],
 "metadata": {},
 "nbformat": 4,
 "nbformat_minor": 0
}
