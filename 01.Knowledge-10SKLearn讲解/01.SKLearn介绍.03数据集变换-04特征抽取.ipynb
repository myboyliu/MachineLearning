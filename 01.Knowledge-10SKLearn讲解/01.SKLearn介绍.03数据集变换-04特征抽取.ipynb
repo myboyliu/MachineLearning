{
 "cells": [
  {
   "cell_type": "markdown",
   "metadata": {},
   "source": [
    "# 特征抽取\n",
    "sklearn.feature_extraction提供了从原始数据如文本、图像等中抽取能够被机器学习算法直接处理的特征向量。\n",
    "![images](images/02.png)"
   ]
  },
  {
   "cell_type": "markdown",
   "metadata": {},
   "source": [
    "#1 特征抽取与特征选择的不同\n",
    "特征抽取是将任意的数据变换成机器学习算法可用的数值型的特征；特征选择是一个作用于特征空间熵的机器学习基数，是对特征空间的再次变换"
   ]
  },
  {
   "cell_type": "markdown",
   "metadata": {},
   "source": [
    "#2 SKLearn特征抽取\n",
    "- Load Features From Dicts\n",
    "- Features hashing\n",
    "- Text Feature Extraction(NLP)\n",
    "- Image Feature Extraction"
   ]
  },
  {
   "cell_type": "markdown",
   "metadata": {},
   "source": [
    "##2.1 Load Features From Dicts\n",
    "DictVectorizer"
   ]
  },
  {
   "cell_type": "code",
   "execution_count": 4,
   "metadata": {},
   "outputs": [
    {
     "name": "stdout",
     "output_type": "stream",
     "text": [
      "[[  1.   0.   0.  33.]\n [  0.   1.   0.  12.]\n [  0.   0.   1.  18.]]\n['city=Dubai', 'city=London', 'city=San Fransisco', 'temperature']\n"
     ]
    }
   ],
   "source": [
    "from sklearn.feature_extraction import DictVectorizer\n",
    "measurements = [\n",
    "    {'city':'Dubai', 'temperature':33.},\n",
    "    {'city':'London', 'temperature':12.},\n",
    "    {'city':'San Fransisco', 'temperature':18.}]\n",
    "\n",
    "vec = DictVectorizer()\n",
    "print(vec.fit_transform(measurements).toarray())\n",
    "print(vec.get_feature_names())"
   ]
  },
  {
   "cell_type": "markdown",
   "metadata": {},
   "source": [
    "##2.2 Feature hashing特征hash变换\n",
    "FeatureHasher，直接对特征应用一个hash函数来决定特征在样本矩阵中的列索引"
   ]
  },
  {
   "cell_type": "markdown",
   "metadata": {},
   "source": [
    "##2.3 文本特征抽取-词袋模型"
   ]
  },
  {
   "cell_type": "code",
   "execution_count": null,
   "metadata": {},
   "outputs": [],
   "source": [
    ""
   ]
  }
 ],
 "metadata": {},
 "nbformat": 4,
 "nbformat_minor": 0
}
