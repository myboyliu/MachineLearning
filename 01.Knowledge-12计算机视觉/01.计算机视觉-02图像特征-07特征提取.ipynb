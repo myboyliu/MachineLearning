{
 "cells": [
  {
   "cell_type": "markdown",
   "metadata": {},
   "source": [
    "#4 局部特征-SIFT关键点(Scale-Invariant Feature Transform)-抗尺度变换\n",
    "- 基于尺度空间不变的特征\n",
    "- 它具有良好的不变形，独特性好，信息丰富,多量性(即使少数物体也可以产生大量的SIFT特征)"
   ]
  },
  {
   "cell_type": "markdown",
   "metadata": {},
   "source": [
    "##4.1 基础之一-尺度空间\n",
    "使用不同标准差$\\sigma$的LoG对图片进行滤波$\\nabla^2L(x,y,\\sigma)=\\nabla^2G(x,y,\\sigma) * I(x,y), G(x,y,\\sigma)=\\frac{1}{2\\pi}e^{-\\frac{x^2+y^2}{2\\sigma^2}}$\n"
   ]
  },
  {
   "cell_type": "markdown",
   "metadata": {},
   "source": [
    "##4.2 DoG(Difference of Gaussian)\n",
    "LoG近似于2个不同尺度的$\\sigma$的高斯差分\n",
    "$$\\begin{align}D(x,y,\\sigma)&=[G(x,y,k\\sigma) - G(x,y,\\sigma)] * I(x,y) \\\\\n",
    "&\\approx (k-1)\\sigma^2\\nabla^2G * I(x,y)\\\\\n",
    "&=(k-1)\\sigma^2\\nabla^2L(x,y,\\sigma)\n",
    "\\end{align}$$"
   ]
  },
  {
   "cell_type": "markdown",
   "metadata": {},
   "source": [
    "##4.3 特征点的计算流程\n",
    "1. 计算高斯差分DoG尺度空间，获取极值点\n",
    "2. 特征点处理\n",
    "- 位置插值\n",
    "- 去除低对比度点\n",
    "- 去除边缘点\n",
    "3. 方向估计，抗方向不变形\n",
    "4. 描述子提取"
   ]
  },
  {
   "cell_type": "markdown",
   "metadata": {},
   "source": [
    "##4.4 SURF(Speeded Up Robust Features)\n",
    "- 近似SIFT算法，实现快速版，使用了均值滤波，积分图像\n",
    "- 加速6倍\n",
    "- 精度略有牺牲"
   ]
  },
  {
   "cell_type": "markdown",
   "metadata": {},
   "source": [
    "#5 纹理特征-HOG方向梯度直方图\n"
   ]
  },
  {
   "cell_type": "markdown",
   "metadata": {},
   "source": [
    "##5.1 梯度计算\n",
    "分别计算水平、垂直梯度，水平方向使用卷积核$\\begin{bmatrix}-1&0&1\\end{bmatrix}$，垂直方向使用$\\begin{bmatrix}-1\\\\0\\\\1\\end{bmatrix}$。然后计算梯度幅值$s=\\sqrt{s_x^2+s_y^2}$，以及梯度方向$\\theta=arctan(\\frac{s_y}{x_x})$，并且可以不进行平滑\n",
    "\n",
    "对于彩色图，选取梯度幅值最大的通道"
   ]
  },
  {
   "cell_type": "markdown",
   "metadata": {},
   "source": [
    "##5.2 Block拆分\n",
    "$16*16$的Block，步长8，保证重合度为50%"
   ]
  }
 ],
 "metadata": {},
 "nbformat": 4,
 "nbformat_minor": 0
}
