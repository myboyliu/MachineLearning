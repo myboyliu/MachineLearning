{
 "cells": [
  {
   "cell_type": "markdown",
   "metadata": {
    "collapsed": true
   },
   "source": [
    "# 傅里叶变换\n",
    "人们所看到的波形都是有其它波形叠加而成的，同样这个概念对操作图片也非常有帮助，因为这样我们可以区分图像里哪些区域的信号或像素变化特别强，从而可以任意的标记噪声区域、感兴趣区域、前景和背景等，通过傅里叶变换就可以分离这些频率来理解图像和提取感兴趣的数据\n",
    "\n",
    "一个信号可以有足够多个不同频率和幅值的正余弦波$A*sin(\\omega{x}) + B*cos(\\omega{x})$"
   ]
  },
  {
   "cell_type": "markdown",
   "metadata": {},
   "source": [
    "#1 矩形波\n",
    "公式$A\\sum_{k=1}^{\\infty}\\frac{1}{k}sin(2\\pi{k}t)$，我们的目的是要组合成下面的矩形波![images](images/07.png)\n",
    "过程如下![images](images/08.png)\n",
    "最下排的前两个波，组合成了第一排的第一个波，下排的前三个波，就组合成了第一排的第二个波，以此类推，等到上排的最后一个波，那就基本近似为矩形波了"
   ]
  },
  {
   "cell_type": "markdown",
   "metadata": {},
   "source": [
    "#2 信号分解\n",
    "![images](images/09.png)"
   ]
  },
  {
   "cell_type": "code",
   "execution_count": null,
   "metadata": {},
   "outputs": [],
   "source": [
    ""
   ]
  },
  {
   "cell_type": "code",
   "execution_count": null,
   "metadata": {},
   "outputs": [],
   "source": [
    ""
   ]
  },
  {
   "cell_type": "code",
   "execution_count": null,
   "metadata": {},
   "outputs": [],
   "source": [
    ""
   ]
  }
 ],
 "metadata": {
  "kernelspec": {
   "display_name": "Python 2",
   "language": "python",
   "name": "python2"
  },
  "language_info": {
   "codemirror_mode": {
    "name": "ipython",
    "version": 2
   },
   "file_extension": ".py",
   "mimetype": "text/x-python",
   "name": "python",
   "nbconvert_exporter": "python",
   "pygments_lexer": "ipython2",
   "version": "2.7.6"
  }
 },
 "nbformat": 4,
 "nbformat_minor": 0
}
