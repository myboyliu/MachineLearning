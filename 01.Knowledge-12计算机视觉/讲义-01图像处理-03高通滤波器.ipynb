{
 "cells": [
  {
   "cell_type": "markdown",
   "metadata": {},
   "source": [
    "高通就是高频率的波段能通过，高频段表现在图像上就是变化大的那部分，通常是某两部分的连接区域，这两部分有着明显差异，那么它们的连接区域反应在频谱上就是高频部分。一般地讲，高通可用于边缘检测"
   ]
  }
 ],
 "metadata": {},
 "nbformat": 4,
 "nbformat_minor": 0
}