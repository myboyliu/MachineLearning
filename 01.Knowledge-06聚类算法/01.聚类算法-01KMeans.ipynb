{
 "cells": [
  {
   "cell_type": "markdown",
   "metadata": {},
   "source": [
    "#KMeans算法"
   ]
  },
  {
   "cell_type": "markdown",
   "metadata": {},
   "source": [
    "#1 聚类算法概述"
   ]
  },
  {
   "cell_type": "markdown",
   "metadata": {},
   "source": [
    "##1.1 聚类算法概述\n",
    "- 层次聚类法：唯一分类\n",
    "- KMeans算法：唯一分类\n",
    "- 密度聚类法：唯一分类\n",
    "- 普聚类：唯一分类\n",
    "- GMM：混合高斯模型，分类后，还可以返回分到这个类的概率\n",
    "- LDA"
   ]
  },
  {
   "cell_type": "markdown",
   "metadata": {},
   "source": [
    "#1.2 聚类的定义\n",
    "聚类就是对大量未知标注的数据集，按数据的内在相似性将数据集划分为多个类别，使类别内的数据相似性较大而类别间的数据相似度较小"
   ]
  },
  {
   "cell_type": "markdown",
   "metadata": {},
   "source": [
    "##1.3 相似度/距离计算方法总结\n",
    "- 闵可夫斯基距离Minkowski距离，参见KNN算法\n",
    "- 杰拉德相似系数(Jaccard)：$J(A,B)=\\frac{|A\\cap B|}{|A\\cup B|}$\n",
    "- 余弦相似度(consine similarity):$cos(\\theta)=\\frac{\\alpha^Tb}{|\\alpha| \\bullet |b|}$\n",
    "- Pearson相似系数:$\\rho_{XY}=\\frac{cov(X,Y)}{\\sigma_X\\sigma_Y}=\\frac{E[(X-\\mu_X)(Y-\\mu_Y)]}{\\sigma_X\\sigma_Y}=\\frac{\\sum_{i=1}^n(X_i-\\mu_X)(Y_i-\\mu_Y)}{\\sqrt{\\sum_{i=1}^n(X_i-\\mu_X)^2}\\sqrt{\\sum_{i=1}^n(Y_i-\\mu_Y)^2}}$\n",
    "- 相对熵(K-L距离):$D(p||q)=\\sum_xp(x)log\\frac{p)(x)}{q(x)}=E_{p(x)}log\\frac{p(x)}{q(x)}$\n",
    "- Hellinger距离:$D_{\\alpha}(p||q)=\\frac{2}{1-\\alpha^2}[1-\\int p(x)^{\\frac{1+\\alpha}{2}}q(x)^{\\frac{1-\\alpha}{2}}dx]$"
   ]
  },
  {
   "cell_type": "markdown",
   "metadata": {},
   "source": [
    "#2 层次聚类\n",
    "\n",
    "- 找到两个距离最近的类\n",
    "- 把它们合并成一个类，并用中心点来代替原来的两个类\n",
    "- 重复上面的动作，最终得到一个树"
   ]
  },
  {
   "cell_type": "markdown",
   "metadata": {},
   "source": [
    "##2.1 类间距离的计算\n",
    "最短距离法、最长距离法、中间距离法、类平均法"
   ]
  },
  {
   "cell_type": "markdown",
   "metadata": {},
   "source": [
    "##2.2 前提\n",
    "如果样本是有若干个高斯模型混合而成，且方差一样，那么就可以使用KMeans聚类，具体见公式解释"
   ]
  },
  {
   "cell_type": "markdown",
   "metadata": {},
   "source": [
    "#3 KMeans聚类法与KMeans++聚类法\n",
    "- 随机选择K个点作为初始质心\n",
    "- 把每个点按照距离分配给最近的质心，形成K个簇\n",
    "- 重新计算每个簇的质心\n",
    "- 重复2、3步，直到质心不在变化"
   ]
  },
  {
   "cell_type": "markdown",
   "metadata": {},
   "source": [
    "##3.1 选择质心",
    "\n",
    "KMeans聚类法选择质心，是随机从样本中取出K个样本，作为质心，但是这样的话不科学，KMeans++改善了获取质心的方法，其余步骤跟KMeans一样。\n",
    "KMeans++获取质心是这样做的：\n",
    "1. 首先，随机从样本中选取一个记录作为第一个质心\n",
    "2. 获取第二个质心这样做，计算出样本中每个点到第一个质心的距离\n",
    "3. 形成一个权重数组，然后给这个数组求和，然后将这个数组的每个元素除以这个和，然后放入这个数组\n",
    "4. 生成一个0-1之间的随机数，然后从权重数组的第一个元素开始相加，直到相加的和大于这个随机数时停止，获取循环的次数N，选取第N-1个节点，作为第二个质心\n",
    "5. 获取后面的质心，计算出每个样本节点到已经选出的每一个质心的距离，然后取最小的距离，然后从夫3，4两个步骤"
   ]
  },
  {
   "cell_type": "markdown",
   "metadata": {},
   "source": [
    "##3.2 形成K簇\n",
    "无论KMeans还是KMeans++，这个时候都已经选择了K个质心，也就是中心点，接着的步骤就一样了。产生一个数组，然后计算每个样本节点离这K个质心的最近距离，这样可以将每个样本划入不同的以质心为中点的簇中.如果新找到的簇，与原来所属的簇不一致，对定义一个变量加1，当这个值大于0的时候，说明我们有太多的节点进行了调整，那么需要做3.1这一步，否则，说明我们的点都划入了适当的簇中，可以退出程序了"
   ]
  },
  {
   "cell_type": "markdown",
   "metadata": {},
   "source": [
    "##3.3 更新每个簇的质心\n",
    "1. 生成一个数组，统计出每个质心的簇里面节点的个数\n",
    "2. 生成一个数组，将每个簇中的所有点的坐标值，对应相加 ，比如K1有3个节点，每个节点有$[a_1,a_2,a_3,a_4]$四个坐标，那么需要将每个节点的a1坐标相加，然后放在数组\n",
    "第一个元素的第一个位置，每个节点的a2坐标相加，放在数组第一个元素的第二个位置，一次类推。对于K2一样，这个数组是一个K行4列的二维数组\n",
    "3. 接着，将这K行记录中，每行的每一个元素，除以对应的第一个数组的值，放入相应的位置\n",
    "4. 这个数组就是更新后的K个质心"
   ]
  },
  {
   "cell_type": "markdown",
   "metadata": {},
   "source": [
    "#4 K-Means的公式化解释\n",
    "记K个簇中心为$\\mu_1,\\mu_2,...,\\mu_k$，则每个簇的样本数目为$N_1,N_2,...,N_k$，使用平方误差作为目标函数，有$J(\\mu_1,\\mu_2,...,\\mu_k)=\\frac{1}{2}\\sum_{j=1}^K\\sum_{i=1}^{N_j}(x_i-\\mu_j)^2$，对于$\\mu_1,\\mu_2,...,\\mu_k$的函数求偏导，其驻点为$\\frac{\\partial{J}}{\\partial{\\mu_j}}=-\\sum_{i=1}^{N_j}(x_i-\\mu_j)=0 \\Rightarrow \\mu_j=\\frac{1}{N}\\sum_{i=1}^{N_j}x_i$"
   ]
  },
  {
   "cell_type": "markdown",
   "metadata": {},
   "source": [
    "#5 KMeans聚类方法总结"
   ]
  },
  {
   "cell_type": "markdown",
   "metadata": {},
   "source": [
    "##5.1 优点\n",
    "- 解决聚类问题的一种经典方法，简单、快速\n",
    "- 当处理大数据集的时候，该算法保持可伸缩性和高效率\n",
    "- 当簇近似为高斯分布时，它的效果较好"
   ]
  },
  {
   "cell_type": "markdown",
   "metadata": {},
   "source": [
    "##5.2 缺点\n",
    "- 在簇的平均值可被定义的情况下才能使用，可能不适用于某些应用\n",
    "- 必须事先给出K(要生成的簇的数目)，而且对初值敏感，对于不同的初始值，可能会导致不同的结果\n",
    "- 不适合于发现非凸形状的簇或者大小差别很大的簇\n",
    "- 对噪声和孤立点的数据敏感"
   ]
  },
  {
   "cell_type": "markdown",
   "metadata": {},
   "source": [
    "#6 聚类的衡量指标\n",
    "- 均一性：一个簇只包含一个类别的样本，则满足均一性$h=\\begin{cases}\n",
    "1 & if H(C)=0\\\\\n",
    "1-\\frac{H(C|K)}{H(C)} & otherwise\\\\\n",
    "\\end{cases}$\n",
    "- 完整性：同样类别的样本被归类到相同的簇中，则满足完整性$c=\\begin{cases}\n",
    "1 & if H(K)=0\\\\\n",
    "1-\\frac{H(K|C)}{H(K)} & otherwise\\\\\n",
    "\\end{cases}$\n",
    "- V-measure：均一性和完整性的加权平均$\\nu_{\\beta}=\\frac{(1+\\beta) \\bullet h \\bullet c}{\\beta \\bullet h + c}$"
   ]
  }
 ],
 "metadata": {},
 "nbformat": 4,
 "nbformat_minor": 0
}