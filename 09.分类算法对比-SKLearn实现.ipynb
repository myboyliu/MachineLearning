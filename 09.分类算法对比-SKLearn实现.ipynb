{
 "cells": [
  {
   "cell_type": "markdown",
   "metadata": {},
   "source": [
    "# 概述\n",
    "主要的分类方法，包括朴素贝叶斯(高斯、伯努利、多项式)、K近邻、决策树、随机森林、GBDT、XGBoost、Adaboost、SVM"
   ]
  },
  {
   "cell_type": "markdown",
   "metadata": {},
   "source": [
    "#1 鸢尾花二特征的各种分类算法之比较"
   ]
  },
  {
   "cell_type": "code",
   "execution_count": null,
   "metadata": {},
   "outputs": [],
   "source": [
    ""
   ]
  }
 ],
 "metadata": {},
 "nbformat": 4,
 "nbformat_minor": 0
}