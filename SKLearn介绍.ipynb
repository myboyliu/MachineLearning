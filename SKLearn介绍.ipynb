{
 "cells": [
  {
   "cell_type": "markdown",
   "metadata": {},
   "source": [
    "# SKLearn介绍(SciKit-Learn)"
   ]
  },
  {
   "cell_type": "markdown",
   "metadata": {},
   "source": [
    "#1 模块介绍"
   ]
  },
  {
   "cell_type": "markdown",
   "metadata": {},
   "source": [
    "##1.1 监督学习\n",
    "- neighbors:近邻算法\n",
    "- svm：支持向量机\n",
    "- kernal_ridge：核岭回归\n",
    "- discriminant_analysis:判别分析\n",
    "- linear_model:广义线性模型\n",
    "- ensemble:集成方法，包括随机森林，bagging\n",
    "- tree:决策树\n",
    "- naive_bayes：朴素贝叶斯\n",
    "- cross_decomposition：交叉分解\n",
    "- gaussian_process：高斯过程\n",
    "- neural_network：多层神经网络\n",
    "- calibration:概率校准\n",
    "- isotonic：保序回归\n",
    "- feature_selection：监督特征选择\n",
    "- multiclass：多类多标签算法"
   ]
  },
  {
   "cell_type": "markdown",
   "metadata": {},
   "source": [
    "##1.2 无监督学习\n",
    "- decomposition:矩阵因子分解\n",
    "- cluster：聚类分析\n",
    "- manifold：流形学习\n",
    "- mixture:高斯混合模型\n",
    "- neural_network:无监督神经网络\n",
    "- density：密度估计\n",
    "- covariance：协方差估计"
   ]
  },
  {
   "cell_type": "markdown",
   "metadata": {},
   "source": [
    "##1.3 数据变换\n",
    "- preprocessing：数据预处理。包括数据缺失值的处理，数据的规范化，数据的归一化等等。比如数据原来不是标准正太分布\n",
    "- feature_extraction:特征抽取。只负责把特征提取出来\n",
    "- feature_selection:特征选择。留下好的特征，丢掉不好的特征\n",
    "- random_projection:随机投影。将特征进行空间变换,将特征映射到好处理的空间上去\n",
    "- kernel_approximation：核逼近。将特征进行空间变换,将特征映射到好处理的空间上去\n",
    "- pipeline:管道流。"
   ]
  },
  {
   "cell_type": "markdown",
   "metadata": {},
   "source": [
    "#2 六大板块与统一调用API\n",
    "分类、回归、聚类、维数约简、特征抽取选择、数据预处理\n",
    "```Python\n",
    "estimator.fit(x_train,[y_train])\n",
    "```\n",
    "- 对于Classification、Regression和Clustering,有predict函数\n",
    "- 对于Preprocessing、Dimensionality Reduction、Feature Extraction和Feature selection，有transform函数"
   ]
  },
  {
   "cell_type": "markdown",
   "metadata": {},
   "source": [
    "##2.1 predict相关例子"
   ]
  },
  {
   "cell_type": "code",
   "execution_count": 1,
   "metadata": {},
   "outputs": [
    {
     "name": "stdout",
     "output_type": "stream",
     "text": [
      "[0 0 0 0 0 0 0 0 0 0 0 0 0 0 0 0 0 0 0 0 0 0 0 0 0 0 0 0 0 0 0 0 0 0 0 0 0\n 0 0 0 0 0 0 0 0 0 0 0 0 0 1 1 1 1 1 1 1 1 1 1 1 1 1 1 1 1 1 1 1 1 1 1 1 1\n 1 1 1 1 1 1 1 1 1 1 1 1 1 1 1 1 1 1 1 1 1 1 1 1 1 1 2 2 2 2 2 2 2 2 2 2 2\n 2 2 2 2 2 2 2 2 2 2 2 2 2 2 2 2 2 2 2 2 2 2 2 2 2 2 2 2 2 2 2 2 2 2 2 2 2\n 2 2]\nAll: [ 33.33333333  33.33333333  33.33333333]\nTraining: [ 33.92857143  33.03571429  33.03571429]\nTest: [ 31.57894737  34.21052632  34.21052632]\nFraction Correct [Accuracy]:\n0.973684210526\nSamples correctly classified:\n[ 0  1  2  3  4  5  6  7  8  9 10 11 12 13 14 15 16 17 18 19 20 21 22 23 24\n 26 27 28 29 30 31 32 33 34 35 36 37]\nSamples incorrectly classified:\n[25]\n[[ 7.7  3.   6.1  2.3]\n [ 4.9  3.1  1.5  0.1]\n [ 5.9  3.   4.2  1.5]\n [ 7.7  3.8  6.7  2.2]\n [ 4.4  3.2  1.3  0.2]\n [ 4.4  3.   1.3  0.2]\n [ 6.7  3.1  4.4  1.4]\n [ 7.2  3.2  6.   1.8]\n [ 5.5  2.4  3.8  1.1]\n [ 5.1  3.8  1.5  0.3]\n [ 5.6  2.9  3.6  1.3]\n [ 5.5  4.2  1.4  0.2]\n [ 6.4  3.2  5.3  2.3]\n [ 6.3  2.5  5.   1.9]\n [ 5.6  2.7  4.2  1.3]\n [ 6.5  3.   5.5  1.8]\n [ 5.2  3.4  1.4  0.2]\n [ 5.2  4.1  1.5  0.1]\n [ 4.9  3.1  1.5  0.1]\n [ 5.1  3.5  1.4  0.3]\n [ 5.   3.5  1.3  0.3]\n [ 4.6  3.6  1.   0.2]\n [ 5.   2.3  3.3  1. ]\n [ 6.7  3.3  5.7  2.5]\n [ 4.7  3.2  1.3  0.2]\n [ 6.7  3.   5.   1.7]\n [ 7.7  2.8  6.7  2. ]\n [ 6.   3.   4.8  1.8]\n [ 6.5  3.2  5.1  2. ]\n [ 6.3  3.3  4.7  1.6]\n [ 5.6  3.   4.5  1.5]\n [ 5.8  2.7  5.1  1.9]\n [ 6.2  2.2  4.5  1.5]\n [ 6.8  2.8  4.8  1.4]\n [ 7.6  3.   6.6  2.1]\n [ 6.7  3.1  4.7  1.5]\n [ 6.1  3.   4.9  1.8]\n [ 5.8  2.6  4.   1.2]]\n"
     ]
    },
    {
     "data": {
      "image/png": "[encoded data removed]",
      "text/plain": [
       "<matplotlib.figure.Figure at 0x10ab00518>"
      ]
     },
     "metadata": {},
     "output_type": "display_data"
    }
   ],
   "source": [
    "import matplotlib.pyplot as plt\n",
    "import numpy as np\n",
    "from sklearn.datasets import load_iris\n",
    "from sklearn.model_selection import train_test_split\n",
    "from sklearn.neighbors import KNeighborsClassifier\n",
    "\n",
    "iris = load_iris()\n",
    "X, y = iris.data, iris.target\n",
    "print(y)\n",
    "train_X, test_X, train_y, test_y = train_test_split(X, y, train_size=0.75, random_state=123,\n",
    "                                                    stratify=y)\n",
    "print('All:', np.bincount(y) / float(len(y)) * 100.0)\n",
    "print('Training:', np.bincount(train_y) / float(len(train_y)) * 100.0)\n",
    "print('Test:', np.bincount(test_y) / float(len(test_y)) * 100.0)\n",
    "\n",
    "classifier = KNeighborsClassifier()\n",
    "classifier.fit(train_X, train_y)\n",
    "pred_y = classifier.predict(test_X)\n",
    "\n",
    "print(\"Fraction Correct [Accuracy]:\")\n",
    "accuracy = np.sum(pred_y == test_y) / float(len(test_y))\n",
    "print(accuracy)\n",
    "\n",
    "print(\"Samples correctly classified:\")\n",
    "correct_idx = np.where(pred_y == test_y)[0]\n",
    "print(correct_idx)\n",
    "\n",
    "print(\"Samples incorrectly classified:\")\n",
    "incorrect_idx = np.where(pred_y != test_y)[0]\n",
    "print(incorrect_idx)\n",
    "\n",
    "colors = [\"darkblue\",\"darkgreen\",\"gray\"]\n",
    "for n, color in enumerate(colors):\n",
    "    idx = np.where(test_y == n)[0]\n",
    "    plt.scatter(test_X[idx, 1],test_X[idx, 2],c=color, s =40, label=\"Class %s\" % n)\n",
    "    \n",
    "plt.scatter(test_X[incorrect_idx, 1],test_X[incorrect_idx,2],c='darkred', s =40)\n",
    "plt.xlabel(\"sepal width [cm]\")\n",
    "plt.ylabel(\"petal length [cm]\")\n",
    "plt.legend(loc=\"lower left\")\n",
    "plt.title(\"Iris Classification results\")\n",
    "plt.show()"
   ]
  },
  {
   "cell_type": "code",
   "execution_count": 43,
   "metadata": {},
   "outputs": [
    {
     "name": "stdout",
     "output_type": "stream",
     "text": [
      "before: (100,)\nafter: (100, 1)\nWeight coefficients: [ 0.90211711]\ny-axis intercept: 0.448409749883\n"
     ]
    },
    {
     "name": "stdout",
     "output_type": "stream",
     "text": [
      "Score: 0.799432140508\n"
     ]
    },
    {
     "data": {
      "image/png": "[encoded data removed]",
      "text/plain": [
       "<matplotlib.figure.Figure at 0x1137d3080>"
      ]
     },
     "metadata": {},
     "output_type": "display_data"
    }
   ],
   "source": [
    "import numpy as np\n",
    "import matplotlib.pyplot as plt\n",
    "from sklearn.model_selection import train_test_split\n",
    "from sklearn.linear_model import LinearRegression\n",
    "\n",
    "x = np.linspace(-3, 3, 100)\n",
    "rng = np.random.RandomState(42)\n",
    "y = np.sin(4 * x) + x + rng.uniform(size=len(x))\n",
    "\n",
    "print('before:', x.shape)\n",
    "X = x[:, np.newaxis]\n",
    "print('after:', X.shape)\n",
    "\n",
    "X_train, X_test, y_train, y_test = train_test_split(X, y, test_size=0.25, \n",
    "                                                    random_state=42)\n",
    "regressor = LinearRegression()\n",
    "regressor.fit(X_train, y_train)\n",
    "print('Weight coefficients:', regressor.coef_) # 最小二乘法的系数\n",
    "print('y-axis intercept:', regressor.intercept_) # 最小二乘法的截距\n",
    "\n",
    "min_pt = X.min() * regressor.coef_[0] + regressor.intercept_\n",
    "max_pt = X.max() * regressor.coef_[0] + regressor.intercept_\n",
    "\n",
    "\n",
    "plt.plot(X_train, y_train, 'o')\n",
    "\n",
    "y_pred_train = regressor.predict(X_train)\n",
    "print('Score:', regressor.score(X_test, y_test))\n",
    "plt.plot(X_train, y_train, 'o', label=\"data\")\n",
    "plt.plot(X_train, y_pred_train, 'o', label=\"prediction\")\n",
    "plt.plot([X.min(), X.max()], [min_pt, max_pt], label='fit')\n",
    "plt.legend(loc='best')\n",
    "plt.show()"
   ]
  }
 ],
 "metadata": {},
 "nbformat": 4,
 "nbformat_minor": 0
}