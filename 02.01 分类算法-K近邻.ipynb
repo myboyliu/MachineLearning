{
 "cells": [
  {
   "cell_type": "markdown",
   "metadata": {},
   "source": [
    "#KNN算法-K Nearest Neighbor(分类算法)"
   ]
  },
  {
   "cell_type": "markdown",
   "metadata": {},
   "source": [
    "#1 原理"
   ]
  },
  {
   "cell_type": "markdown",
   "metadata": {},
   "source": [
    "数据映射到高维空间中的点、找出K个最近的样本、投票结果![images](images/02/01.png)"
   ]
  },
  {
   "cell_type": "markdown",
   "metadata": {},
   "source": [
    "#2 如何衡量距离"
   ]
  },
  {
   "cell_type": "markdown",
   "metadata": {},
   "source": [
    "数学中距离满足三个要求：必须是正数、必须对称、满足三角不等式"
   ]
  },
  {
   "cell_type": "markdown",
   "metadata": {},
   "source": [
    "#3 常用的距离"
   ]
  },
  {
   "cell_type": "markdown",
   "metadata": {},
   "source": [
    "##3.1 闵可夫斯基距离 Minkowski"
   ]
  },
  {
   "cell_type": "markdown",
   "metadata": {},
   "source": [
    "$d_{ij}(q)=[\\sum_{k=1}^p(x_{ik}-x_{jk})^q]^{\\frac{1}{q}},q>0$,其中q越大，差异越大的维度对最终距离影响越大\n",
    "- 曼哈顿距离:q = 1，城市距离$d_{ij}=|X_1-X_2|+|Y_1-Y_2|$\n",
    "- 欧氏距离：q = 2，直线距离$d_{ij}=\\sqrt{(x_1-x_2)^2+(y_1-y_2)^2}$\n",
    "- 切比雪夫距离:q趋近于无穷大，棋盘距离$d_{ij}=\\lim\\limits_{p\\to\\infty}(\\sum_{i=1}^n|x_i-y_i|^p)^{\\frac{1}{p}}=max|x_i-y_i|$\n"
   ]
  },
  {
   "cell_type": "markdown",
   "metadata": {},
   "source": [
    "##3.2 马氏距离"
   ]
  },
  {
   "cell_type": "markdown",
   "metadata": {},
   "source": [
    "考虑数据分布\n",
    "![images](images/02/02.png)"
   ]
  },
  {
   "cell_type": "markdown",
   "metadata": {},
   "source": [
    "#4 具体做法"
   ]
  },
  {
   "cell_type": "markdown",
   "metadata": {},
   "source": [
    "就是计算出测试点与样本中的每个点的距离，找到一个导致最小距离的点，它的类别就是测试点的类别，这个距离的计算，一般使用欧氏距离\n",
    "\n",
    "K近邻的意思是K个最近的点，如果K=1，那么就是找到离测试点最近的一个样本点，这个样本点是什么分类，那么测试点就是什么分类；如果K>1，那么就是找到离测试点最近的K个点，然后归纳出这些点的分类，看看哪一种分类的样本点最多，那么测试点就是哪一种分类"
   ]
  }
 ],
 "metadata": {},
 "nbformat": 4,
 "nbformat_minor": 0
}