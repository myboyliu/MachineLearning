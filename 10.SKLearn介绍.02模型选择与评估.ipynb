{
 "cells": [
  {
   "cell_type": "markdown",
   "metadata": {},
   "source": [
    "# 模型选择与评估"
   ]
  },
  {
   "cell_type": "markdown",
   "metadata": {},
   "source": [
    "#1 数据集划分方法"
   ]
  },
  {
   "cell_type": "markdown",
   "metadata": {},
   "source": [
    "##1.1 K折交叉验证\n",
    "在机器学习中，将数据集A分为训练集（training set）B和测试集（test set）C，在样本量不充足的情况下，为了充分利用数据集对算法效果进行测试，将数据集A随机分为k个不相交包，每次将其中一个包作为测试集，剩下k-1个包作为训练集进行训练，可以得到k个学习器，然后求出这k次的分类率平均值作为该模型的真实分类率\n",
    "- KFold\n",
    "- GroupKFold\n",
    "- StratifiedKFold"
   ]
  },
  {
   "cell_type": "code",
   "execution_count": 1,
   "metadata": {},
   "outputs": [
    {
     "name": "stdout",
     "output_type": "stream",
     "text": [
      "Train Index: [3 4 5] , Test Index: [0 1 2]\nTrain Index: [0 1 2] , Test Index: [3 4 5]\n"
     ]
    }
   ],
   "source": [
    "import numpy as np\n",
    "from sklearn.model_selection import KFold\n",
    "x = np.array([[1,2],[3,4],[5,6],[7,8],[9,10],[11,12]])\n",
    "y = np.array([1,2,3,4,5,6])\n",
    "kf = KFold(n_splits=2)\n",
    "kf.get_n_splits(x)\n",
    "\n",
    "for train_index, test_index in kf.split(x):\n",
    "    print('Train Index:', train_index, ', Test Index:', test_index)\n",
    "    x_train, x_test = x[train_index], x[test_index]\n",
    "    y_train, y_test = y[train_index], y[test_index]"
   ]
  },
  {
   "cell_type": "markdown",
   "metadata": {},
   "source": [
    "##1.2 留一法\n",
    "留一法就是每次只留下一个样本做测试集，其它样本做训练集，如果有k个样本，则需要训练k次，测试k次。留一发计算最繁琐，但样本利用率最高。适合于小样本的情况。最有用所有分类器的平均值来衡量模型的性能\n",
    "\n",
    "如果留下P个样本，那就是留P法\n",
    "- LeaveOneOut\n",
    "- LeaveOneGroupOut\n",
    "- LeavePOut\n",
    "- LeavePGroupsOut"
   ]
  },
  {
   "cell_type": "markdown",
   "metadata": {},
   "source": [
    "##1.3 随机划分\n",
    "- ShuffleSplit\n",
    "- GroupShuffleSplit\n",
    "- StratifiedShuffleSplit"
   ]
  },
  {
   "cell_type": "markdown",
   "metadata": {},
   "source": [
    "#2 超参数优化方法"
   ]
  },
  {
   "cell_type": "markdown",
   "metadata": {},
   "source": [
    "##2.1 超参数Hyper-Parameters\n",
    "学习器模型中一般有两类参数\n",
    "- 模型参数：可以从数据中学习估计得到\n",
    "- 超参数：无法从数据中估计，只能靠人的经验进行设计指定。比如SVM里面的C、Kernel、$\\gamma$，朴素贝叶斯里的$\\alpha$等\n",
    "\n",
    "可以通过```get_params()```来获取学习器的参数和取值\n",
    "\n",
    "参数空间的搜索包括\n",
    "- 学习器\n",
    "- 参数空间\n",
    "- 用于获得候选参数组合的搜索或采样方法\n",
    "- 交叉验证机制\n",
    "- 评分函数"
   ]
  },
  {
   "cell_type": "code",
   "execution_count": 2,
   "metadata": {},
   "outputs": [
    {
     "name": "stdout",
     "output_type": "stream",
     "text": [
      "===============RandomizedSearchCV的结果==============================\n"
     ]
    },
    {
     "name": "stdout",
     "output_type": "stream",
     "text": [
      "RandomizedSearchCV took 7.85 seconds for 20 candidates parameter settings.\nModel with rank: 1\nMean validation score: 0.928 (std: 0.010)\nParameters:{'criterion': 'gini', 'max_depth': None, 'min_samples_split': 8, 'bootstrap': False, 'min_samples_leaf': 1, 'max_features': 4}\n\nModel with rank: 2\nMean validation score: 0.927 (std: 0.016)\nParameters:{'criterion': 'entropy', 'max_depth': None, 'min_samples_split': 8, 'bootstrap': False, 'min_samples_leaf': 2, 'max_features': 6}\n\nModel with rank: 2\nMean validation score: 0.927 (std: 0.009)\nParameters:{'criterion': 'entropy', 'max_depth': None, 'min_samples_split': 4, 'bootstrap': False, 'min_samples_leaf': 1, 'max_features': 5}\n\n===============GridSearchCV的结果==============================\n"
     ]
    },
    {
     "name": "stdout",
     "output_type": "stream",
     "text": [
      "GridSearchCV took 63.49 seconds for 216 candidates parameter settings.\nModel with rank: 1\nMean validation score: 0.934 (std: 0.014)\nParameters:{'criterion': 'entropy', 'max_depth': None, 'min_samples_split': 3, 'bootstrap': False, 'min_samples_leaf': 1, 'max_features': 10}\n\nModel with rank: 2\nMean validation score: 0.934 (std: 0.016)\nParameters:{'criterion': 'entropy', 'max_depth': None, 'min_samples_split': 2, 'bootstrap': False, 'min_samples_leaf': 1, 'max_features': 3}\n\nModel with rank: 3\nMean validation score: 0.933 (std: 0.008)\nParameters:{'criterion': 'gini', 'max_depth': None, 'min_samples_split': 3, 'bootstrap': False, 'min_samples_leaf': 3, 'max_features': 3}\n\n"
     ]
    }
   ],
   "source": [
    "import numpy as np\n",
    "from time import time\n",
    "from scipy.stats import randint as sp_randint\n",
    "from sklearn import model_selection,datasets,ensemble\n",
    "\n",
    "def report(results, n_top=3):\n",
    "    for i in range(1, n_top + 1):\n",
    "        candidates = np.flatnonzero(results['rank_test_score'] == i)\n",
    "        for candidate in candidates:\n",
    "            print('Model with rank: {0}'.format(i))\n",
    "            print('Mean validation score: {0:.3f} (std: {1:.3f})'.format(results['mean_test_score'][candidate],\n",
    "                                                                         results['std_test_score'][candidate]))\n",
    "            print('Parameters:{0}'.format(results['params'][candidate]))\n",
    "            print(\"\")\n",
    "digits = datasets.load_digits()\n",
    "x, y = digits.data, digits.target\n",
    "clf = ensemble.RandomForestClassifier(n_estimators=20)\n",
    "print('===============RandomizedSearchCV的结果==============================')\n",
    "param_dist = {'max_depth':[3, None],\n",
    "              'max_features':sp_randint(1,11),\n",
    "              'min_samples_split':sp_randint(2,11),\n",
    "              'min_samples_leaf':sp_randint(1,11),\n",
    "              'bootstrap':[True, False],\n",
    "              'criterion':['gini', 'entropy']}\n",
    "n_iter_search = 20\n",
    "random_search = model_selection.RandomizedSearchCV(clf, param_distributions=param_dist, n_iter=n_iter_search)\n",
    "start = time()\n",
    "random_search.fit(x, y)\n",
    "print('RandomizedSearchCV took %.2f seconds for %d candidates parameter settings.' % ((time() - start), n_iter_search))\n",
    "report(random_search.cv_results_)\n",
    "\n",
    "print('===============GridSearchCV的结果==============================')\n",
    "param_grid = {'max_depth':[3, None],\n",
    "              'max_features':[1,3,10],\n",
    "              'min_samples_split':[2,3,10],\n",
    "              'min_samples_leaf':[1,3,10],\n",
    "              'bootstrap':[True, False],\n",
    "              'criterion':['gini', 'entropy']}\n",
    "\n",
    "grid_search = model_selection.GridSearchCV(clf, param_grid=param_grid)\n",
    "start = time()\n",
    "grid_search.fit(x, y)\n",
    "print('GridSearchCV took %.2f seconds for %d candidates parameter settings.' % ((time() - start, len(grid_search.cv_results_['params']))))\n",
    "report(grid_search.cv_results_)"
   ]
  },
  {
   "cell_type": "markdown",
   "metadata": {},
   "source": [
    "随机搜索的运行时间比网格搜索显著的少，随机搜索得到的超参数组合的性能稍差一些，但这很大程度上时候噪声引起的\n",
    "优化方法\n",
    "- 指定一个合适的目标测度对模型进行评估\n",
    "- 使用SKLearn的PipeLine将estimators和他们的参数空间结合起来\n",
    "- 合理划分数据集。model_selection.train_test_split()来搞定\n",
    "- 在参数节点的计算上可以做到并行计算，通过参数n_jobs来指定\n",
    "- 提高在某些参数节点上发生错误时的鲁棒性：在出错节点上只提示警告，error_score=0来搞定"
   ]
  },
  {
   "cell_type": "markdown",
   "metadata": {},
   "source": [
    "#3 模型验证方法"
   ]
  },
  {
   "cell_type": "markdown",
   "metadata": {},
   "source": [
    "##3.1 通过交叉验证计算得分\n",
    "```\n",
    "model_selection.cross_val_score(estimator,x)\n",
    "```\n",
    "estimator是一个实现了fit函数的学习器。有多少个交叉验证，就会返回多少个得分\n",
    "\n",
    "可以看到过了$10^{-4}$，CV得分会突然增大，所以我们应该选择大于$10^{-4}$的某一个值，而不是其它"
   ]
  },
  {
   "cell_type": "code",
   "execution_count": 4,
   "metadata": {},
   "outputs": [
    {
     "name": "stdout",
     "output_type": "stream",
     "text": [
      "参数列表长度 10\n"
     ]
    },
    {
     "name": "stderr",
     "output_type": "stream",
     "text": [
      "/anaconda/lib/python3.5/site-packages/matplotlib/mathtext.py:866: MathTextWarning: Font 'default' does not have a glyph for '-' [U+2212]\n  MathTextWarning)\n/anaconda/lib/python3.5/site-packages/matplotlib/mathtext.py:867: MathTextWarning: Substituting with a dummy symbol.\n  warn(\"Substituting with a dummy symbol.\", MathTextWarning)\n"
     ]
    },
    {
     "data": {
      "image/png": "[encoded data removed]",
      "text/plain": [
       "<matplotlib.figure.Figure at 0x10ae3e940>"
      ]
     },
     "metadata": {},
     "output_type": "display_data"
    }
   ],
   "source": [
    "import numpy as np\n",
    "from sklearn import model_selection, datasets, svm\n",
    "import matplotlib.pyplot as plt\n",
    "\n",
    "digits = datasets.load_digits()\n",
    "x,y = digits.data, digits.target\n",
    "svc = svm.SVC(kernel='linear')\n",
    "c_s = np.logspace(-10, 0, 10)\n",
    "print('参数列表长度', len(c_s))\n",
    "scores_std = list()\n",
    "scores = list()\n",
    "for c in c_s:\n",
    "    svc.C = c\n",
    "    this_scores = model_selection.cross_val_score(svc, x, y, n_jobs=4)\n",
    "    scores.append(np.mean(this_scores))\n",
    "    scores_std.append(np.std(this_scores))\n",
    "plt.figure(1, figsize=(4,3))\n",
    "plt.clf()\n",
    "plt.semilogx(c_s, scores)\n",
    "plt.semilogx(c_s, np.array(scores) + np.array(scores_std), 'b--')\n",
    "plt.semilogx(c_s, np.array(scores) - np.array(scores_std), 'b--')\n",
    "locs, labels = plt.yticks()\n",
    "plt.yticks(locs, list(map(lambda x: '%g' % x, locs)))\n",
    "plt.ylabel('CV score')\n",
    "plt.xlabel('Parameter C')\n",
    "plt.ylim(0,1.1)\n",
    "plt.title('绘制SVM在digits数据集上的交叉验证曲线')\n",
    "plt.show()"
   ]
  },
  {
   "cell_type": "markdown",
   "metadata": {},
   "source": [
    "##3.2 对每个输入数据点产生交叉验证估计\n",
    "```\n",
    "model_selection.cross_val_predict(estimator,x)\n",
    "```"
   ]
  },
  {
   "cell_type": "code",
   "execution_count": 6,
   "metadata": {},
   "outputs": [
    {
     "name": "stdout",
     "output_type": "stream",
     "text": [
      "[ 174.26933996  117.6539241   164.60228641  155.65049088  132.68647979\n  128.49511245  120.76146877  141.069413    164.18904498  182.37394949\n  111.04181265  127.94311443  135.0869234   162.83066014  135.3573514\n  157.64516523  178.95843326  163.3919841   143.85237903  144.29748882\n  133.58117218  124.77928571  132.90918003  208.52927     153.61908967\n  154.16616341  118.95351821  163.50467541  145.89406196  168.3308101\n  155.87411031  123.45960148  185.70459144  133.38468582  117.2789469\n  150.27895019  174.1541028   160.03235091  192.31389633  161.58568256\n  154.2224809   119.35517679  146.15706413  133.82056934  179.68118754\n  137.96619936  146.07788398  126.77579723  123.32101099  166.26710247\n  146.41559964  161.67261029  147.47731459  138.44595305  144.85421048\n  113.77990664  185.54970402  115.31624749  142.23672103  171.07792136\n  132.5394716   177.80524864  116.5616502   134.25230846  142.88707475\n  173.2830912   154.31273504  149.16680759  144.88238997  121.97783103\n  110.38457621  180.25559631  199.06141058  151.1195546   161.14217698\n  153.96960812  150.77179755  113.30903579  165.15755771  115.85735727\n  174.19267171  150.12027233  115.47891783  153.38967232  115.31573467\n  156.49909623   92.62211515  178.15649994  131.59320715  134.46166754\n  116.97678633  190.00790119  166.01173292  126.25944471  134.29256991\n  144.71971963  190.9769591   182.39199466  154.45325308  148.30325558\n  151.72036937  124.12825466  138.6011155   137.75891286  123.0917243\n  131.74735403  112.07367481  124.56956904  156.78432061  128.63135591\n   93.68260079  130.54324394  131.8693231   154.5708257   179.81343019\n  165.78130755  150.04779033  162.37974736  143.92996797  143.15645843\n  125.20161377  145.99590279  155.3505536   145.97574185  134.66120515\n  163.92450638  101.92329396  139.33014324  122.71377023  152.20573113\n  153.36931089  116.76545147  131.96936127  109.74817383  132.57453994\n  159.38030328  109.31343881  147.69926269  156.3664255   161.12509958\n  128.16523686  156.78446286  154.04375702  124.83705022  143.85606595\n  143.23651701  147.76316913  154.21572891  129.07895017  157.79644923]\n"
     ]
    }
   ],
   "source": [
    "from sklearn import datasets,linear_model,model_selection\n",
    "\n",
    "diabetes = datasets.load_diabetes()\n",
    "x = diabetes.data[:150]\n",
    "y = diabetes.target[:150]\n",
    "lasso = linear_model.Lasso()\n",
    "y_pred = model_selection.cross_val_predict(lasso, x, y)\n",
    "print(y_pred)\n",
    "# 如果调用lasso.predict，那么就没有交叉验证的过程了"
   ]
  },
  {
   "cell_type": "markdown",
   "metadata": {},
   "source": [
    "###3.3 计算并绘制模型的学习率曲线\n",
    "```\n",
    "model_selection.learning_curve(estimator, x, y)\n",
    "```\n",
    "计算指定的学习器模型在不同大小的训练集上经过交叉验证的训练得分和测试得分。\n",
    "1. 用一个交叉验证生成器划分整体数据集K次，每一次划分都有一个训练集和测试集\n",
    "2. 从第K次的训练集中难处若干个数量不断增加的子集，在这些子训练集上训练模型\n",
    "3. 计算模型在对应的子训练集和测试集熵的得分\n",
    "4. 对于在每种子训练集大小下，将K次训练集得分和测试集得分分别进行平均"
   ]
  },
  {
   "cell_type": "code",
   "execution_count": null,
   "metadata": {},
   "outputs": [
    {
     "data": {
      "image/png": "[encoded data removed]",
      "text/plain": [
       "<matplotlib.figure.Figure at 0x115042550>"
      ]
     },
     "metadata": {},
     "output_type": "display_data"
    },
    {
     "data": {
      "image/png": "[encoded data removed]",
      "text/plain": [
       "<matplotlib.figure.Figure at 0x115002b38>"
      ]
     },
     "metadata": {},
     "output_type": "display_data"
    }
   ],
   "source": [
    "# 绘制学习器的交叉验证学习率曲线\n",
    "import numpy as np\n",
    "import matplotlib.pyplot as plt\n",
    "from sklearn import naive_bayes, svm, datasets, model_selection\n",
    "\n",
    "def plot_learning_curve(estimator, title, x, y, ylim=None, cv=None,\n",
    "                        n_jobs=1, train_sizes=np.linspace(.1, 1.0, 5)):\n",
    "    plt.figure()\n",
    "    plt.title(title)\n",
    "    if ylim is not None:\n",
    "        plt.ylim(*ylim)\n",
    "    plt.xlabel('Training examples')\n",
    "    plt.ylabel('Score')\n",
    "    train_sizes, train_scores, test_scores = model_selection.learning_curve(\n",
    "        estimator, x, y, cv=cv, n_jobs=n_jobs, train_sizes=train_sizes\n",
    "    )\n",
    "    train_scores_mean = np.mean(train_scores, axis=1)\n",
    "    train_scores_std = np.std(train_scores, axis=1)\n",
    "    test_scores_mean = np.mean(test_scores, axis=1)\n",
    "    test_scores_std = np.std(test_scores, axis=1)\n",
    "    plt.grid()\n",
    "    \n",
    "    plt.fill_between(train_sizes, train_scores_mean - train_scores_std,\n",
    "                     train_scores_mean + train_scores_std, alpha=0.1,\n",
    "                     color='r')\n",
    "    plt.fill_between(train_sizes, test_scores_mean - test_scores_std,\n",
    "                     test_scores_mean + test_scores_std, alpha=0.1,\n",
    "                     color='g')\n",
    "    plt.plot(train_sizes, train_scores_mean, 'o-', color='r',\n",
    "             label='Training score')\n",
    "    plt.plot(train_sizes, test_scores_mean, 'o-', color='g',\n",
    "             label='Cross-validation score')\n",
    "    plt.legend(loc='best')\n",
    "    return plt\n",
    "digits = datasets.load_digits()\n",
    "x, y = digits.data, digits.target\n",
    "title = 'Learning Curves (Naive Bayes)'\n",
    "cv = model_selection.ShuffleSplit(n_splits=100, test_size=0.2, random_state=0)\n",
    "estimator = naive_bayes.GaussianNB()\n",
    "plot_learning_curve(estimator, title, x, y, ylim=(0.7, 1.01), cv=cv, n_jobs=4)\n",
    "\n",
    "title=\"Learning Curves (SVM, RBF kernel, $\\gamma=0.001$)\"\n",
    "cv = model_selection.ShuffleSplit(n_splits=10, test_size=0.2, random_state=0)\n",
    "\n",
    "estimator = svm.SVC(gamma=0.001)\n",
    "plot_learning_curve(estimator, title, x, y, ylim=(0.7, 1.01), cv=cv, n_jobs=4)\n",
    "\n",
    "plt.show()"
   ]
  },
  {
   "cell_type": "markdown",
   "metadata": {},
   "source": [
    "##3.4 计算并绘制模型的验证曲线\n",
    "```\n",
    "model_selection.validation_curve(estimator,...)\n",
    "```\n",
    "当某个参数不断变化时，在每一个取值上计算出的模型在训练集和测试集上的得分。"
   ]
  },
  {
   "cell_type": "code",
   "execution_count": null,
   "metadata": {},
   "outputs": [],
   "source": [
    "#绘制SVM学习器模型的验证曲线\n",
    "import matplotlib.pyplot as plt\n",
    "import numpy as np\n",
    "from sklearn import datasets, svm, model_selection\n",
    "digits = datasets.load_digits()\n",
    "x,y = digits.data,digits.target\n",
    "\n",
    "param_range = np.logspace(-6,-1,5)\n",
    "train_scores, test_scores = model_selection.validation_curve(svm.SVC(), x, y, param_name='gamma', param_range=param_range,\n",
    "                                                             cv=10,scoring='accuracy', n_jobs=1)\n",
    "train_scores_mean = np.mean(train_scores, axis=1) #axis=1 表示按行\n",
    "train_scores_std = np.std(train_scores, axis=1)\n",
    "test_scores_mean = np.mean(test_scores, axis=1)\n",
    "test_scores_std = np.std(test_scores, axis=1)\n",
    "\n",
    "plt.title('Validation Curve with SVM')\n",
    "plt.xlabel('$\\gamma$')\n",
    "plt.ylabel('Score')\n",
    "plt.ylim(0.0,1.1)\n",
    "lw = 2\n",
    "plt.semilogx(param_range, train_scores_mean, label='Training score', color='darkorange',lw=lw)\n",
    "plt.fill_between(param_range, train_scores_mean - train_scores_std, train_scores_mean + train_scores_std,\n",
    "                 alpha=0.2,color='darkorange',lw=lw)\n",
    "plt.semilogx(param_range, test_scores_mean, label='Cross-validation score', color='navy',lw=lw)\n",
    "plt.fill_between(param_range, test_scores_mean - train_scores_std, train_scores_mean + train_scores_std,\n",
    "                 alpha=0.2,color='navy',lw=lw)\n",
    "plt.legend(loc='best')\n",
    "plt.show()"
   ]
  },
  {
   "cell_type": "markdown",
   "metadata": {},
   "source": [
    "##3.5 通过排序评估交叉验证得分的重要性\n",
    "```\n",
    "model_selection.permutation_test_score(...)\n",
    "```"
   ]
  },
  {
   "cell_type": "code",
   "execution_count": null,
   "metadata": {},
   "outputs": [],
   "source": [
    ""
   ]
  }
 ],
 "metadata": {},
 "nbformat": 4,
 "nbformat_minor": 0
}