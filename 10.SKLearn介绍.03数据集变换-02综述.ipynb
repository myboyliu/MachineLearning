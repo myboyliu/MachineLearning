{
 "cells": [
  {
   "cell_type": "markdown",
   "metadata": {},
   "source": [
    "# 综述\n",
    "数据集变换包括数据预处理、特征抽取、特征变换和维数约简，主要功能有清扫数据(填充丢失值等等)、压缩特征维度、扩展维度、生成和提取特征"
   ]
  },
  {
   "cell_type": "markdown",
   "metadata": {},
   "source": [
    "#1 通用函数\n",
    "- fit:用于学习模型参数\n",
    "- transform:把估计到的变换模型参数用于未知的数据集上"
   ]
  }
 ],
 "metadata": {},
 "nbformat": 4,
 "nbformat_minor": 0
}