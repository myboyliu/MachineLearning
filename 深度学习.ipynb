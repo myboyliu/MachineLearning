{
 "cells": [
  {
   "cell_type": "markdown",
   "metadata": {},
   "source": [
    "# 深度学习"
   ]
  },
  {
   "cell_type": "markdown",
   "metadata": {},
   "source": [
    "#1 概述与架构图\n",
    "![images](images/deeplearning/01.png)"
   ]
  },
  {
   "cell_type": "markdown",
   "metadata": {},
   "source": [
    "##1.1 传统的机器学习与深度学习的区别\n",
    "传统的机器学习流程是：\n",
    "- 数据预处理:归一化、降维和去噪\n",
    "- 特征提取:人为的找到一种模式，对数据进行一种提炼。图像：SIFT、LBP、Fisher、Gabor、Hog。语言：MFCC、小波、Word2Vec\n",
    "- 选择分类器:包括SVM、决策树、随机森林、贝叶斯网络、线性回归或者聚类"
   ]
  },
  {
   "cell_type": "markdown",
   "metadata": {},
   "source": [
    "深度学习的流程是：\n",
    "- 数据准备\n",
    "- 设计模型：CNN、RNN或CNN+RNN\n",
    "- 训练：调结构、损失函数、训练参数"
   ]
  },
  {
   "cell_type": "markdown",
   "metadata": {},
   "source": [
    "##1.2 深度学习的应用\n",
    "指挥交通、预测股票、诊断疾病、写小说、编笑话、打游戏、心理咨询、买菜砍价"
   ]
  },
  {
   "cell_type": "markdown",
   "metadata": {},
   "source": [
    "![images](images/deeplearning/02.png)"
   ]
  },
  {
   "cell_type": "code",
   "execution_count": null,
   "metadata": {},
   "outputs": [],
   "source": [
    ""
   ]
  },
  {
   "cell_type": "code",
   "execution_count": null,
   "metadata": {},
   "outputs": [],
   "source": [
    ""
   ]
  },
  {
   "cell_type": "code",
   "execution_count": null,
   "metadata": {},
   "outputs": [],
   "source": [
    ""
   ]
  }
 ],
 "metadata": {},
 "nbformat": 4,
 "nbformat_minor": 0
}