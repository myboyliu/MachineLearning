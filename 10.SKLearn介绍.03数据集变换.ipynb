{
 "cells": [
  {
   "cell_type": "markdown",
   "metadata": {},
   "source": [
    "# 数据集变换\n",
    "主要包括四个部分：数据预处理、特征抽取、特征变换、维数约简"
   ]
  },
  {
   "cell_type": "markdown",
   "metadata": {},
   "source": [
    "#1 常用的两个函数\n",
    "- fit：用于学习模型参数\n",
    "- transformer：将估计到的变换模型参数用于位置的数据集上"
   ]
  },
  {
   "cell_type": "code",
   "execution_count": null,
   "metadata": {},
   "outputs": [],
   "source": [
    ""
   ]
  }
 ],
 "metadata": {},
 "nbformat": 4,
 "nbformat_minor": 0
}