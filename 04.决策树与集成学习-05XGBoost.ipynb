{
 "cells": [
  {
   "cell_type": "markdown",
   "metadata": {},
   "source": [
    "# XGBoost (eXtreme Gradient Boosting)\n",
    "XGBoost是使用梯度提升框架实现高效、灵活、可移植的机器学习哭，是GBDT的一个C++实现。它将树的生成并行完成，从而提高学习速度"
   ]
  }
 ],
 "metadata": {},
 "nbformat": 4,
 "nbformat_minor": 0
}