{
 "cells": [
  {
   "cell_type": "markdown",
   "metadata": {},
   "source": [
    "# 最小二乘法"
   ]
  },
  {
   "cell_type": "markdown",
   "metadata": {},
   "source": [
    "#1 问题的引入"
   ]
  },
  {
   "cell_type": "markdown",
   "metadata": {},
   "source": [
    "设函数y=f(x)在m个互异点的观测数据为$\\{(x_1,y_1),(x_2,y_2),...,(x_m,y_m)\\}$，求一个简单的近似函数$\\varphi{(x)}$,使之\"最好\"的逼近f(x)，而不必满足插值原则。一般我们是无法也没必要找到完全符合$\\varphi{(x_i)}=y_i$的曲线，而是需要找到使得$\\xi_i=\\varphi{(x_i)}-y_i$总体上尽可能的小，这也就是\"最好\"的含义.这种构造近似函数的方法叫做曲线拟合，称函数$y=\\varphi(x)$为经验公式或拟合曲线"
   ]
  },
  {
   "cell_type": "markdown",
   "metadata": {},
   "source": [
    "#2 残差\n",
    "如何定义\"最好\"的逼近f(x)呢？这个时候就引入了残差的概念\n",
    "\n",
    "若令$\\xi_i=\\varphi(x_i)-y_i,i = 0,1,2,...,m$，称$\\xi=(\\xi_0,\\xi_1,...,\\xi_m)^T$为残向量，或残差。所谓最好，就是使$\\xi_i=\\varphi(x_i)-y_i$尽可能的小"
   ]
  },
  {
   "cell_type": "markdown",
   "metadata": {},
   "source": [
    "#3 残差的选择与最小二乘法"
   ]
  },
  {
   "cell_type": "markdown",
   "metadata": {},
   "source": [
    "##3.1 残差的选择\n",
    "残差的一般选择有\n",
    "- 使得$max_{1 \\leq i \\leq m}|\\varphi(x_i)-y_i|$最小\n",
    "- 使得$\\sum_{i=1}^m|\\varphi(x_i)-y_i|$最小\n",
    "- 使得$\\sum_{i=1}^m|\\varphi(x_i)-y_i|^2$"
   ]
  },
  {
   "cell_type": "markdown",
   "metadata": {},
   "source": [
    "##3.2 最小二乘法\n",
    "使得\"偏差平方和最小\"的原则成为最小二乘原则，按照最小二乘原则选取拟合曲线的方法，成为最小二乘法"
   ]
  },
  {
   "cell_type": "markdown",
   "metadata": {},
   "source": [
    "##3.3 为何选取最小二乘法而不是别的"
   ]
  },
  {
   "cell_type": "markdown",
   "metadata": {},
   "source": [
    "#4 最小二乘法\n",
    "##4.1 定义\n",
    "在某个函数类$\\Phi=\\{\\varphi_0(x),\\varphi_1(x),...,\\varphi(x)\\}$来寻求一个函数$\\varphi(x)=\\alpha_0^*\\varphi_0(x)+\\alpha_1^*\\varphi_1(x)+...+\\alpha_n^*\\varphi_n(x)$使其满足$\\sum_{i=1}^m[\\varphi^*(x_i)-y_i]^2=min_{\\varphi(x) \\in \\Phi}\\sum_{i=1}^m[\\varphi(x_i)-y_i]^2$,其中$\\varphi(x)=\\alpha_0\\varphi_0(x)+\\alpha_1\\varphi_1(x)+...+\\alpha_n\\varphi_n(x)$是函数类$\\Phi$中任一函数。$\\alpha_0,\\alpha_1,...,\\alpha_n$是待定常数，满足上述关系式的函数$\\varphi(x)$称为上述最小二乘问题的最小二乘解。\n",
    "\n",
    "将$\\varphi(x)$展开，有$L(\\alpha)=\\frac{1}{2}\\sum_{i=1}^n(\\sum_{j=0}^m\\alpha_jx_i^j-y_i)^2$,加上$\\frac{1}{2}$是为了求导方便"
   ]
  },
  {
   "cell_type": "markdown",
   "metadata": {},
   "source": [
    "##4.2 解法\n",
    "怎么理解上面的定义呢，假设我们现在的样本X有n条记录，每条记录有m个特征，那么最小二乘法要求的是残差的平方和最小，则有$L$最小，其中$x_0=1$,x,y都是已知数，所以L是一个关于$\\alpha$的方程，我们需要叫L最小\n",
    "\n",
    "有$\\frac{\\partial{L}}{\\partial{\\alpha_j}}=0$\n",
    "\n",
    "$\\Rightarrow \\frac{1}{2}\\sum_{i=1}^n2(\\sum_{j=0}^m\\alpha_jx_i^j-y_i)x_i^k=0$\n",
    "\n",
    "$\\Rightarrow \\sum_{i=1}^n\\sum_{j=0}^m\\alpha_jx_i^j=\\sum_{i=1}^nx_i^ky_i,k=0,1,2,...,m$\n",
    "\n",
    "$\\begin{cases}\n",
    "\\alpha_0n+\\alpha_1\\sum{x_i}+...+\\alpha_m\\sum{x_i^m}=\\sum{y_i} \\\\\n",
    "\\alpha_0\\sum{x_i}+\\alpha_1\\sum{x_i^2}+...+\\alpha_m\\sum{x_i^{m+1}}=\\sum{x_iy_i} \\\\\n",
    "... \\\\\n",
    "\\alpha_0\\sum{x_i^m}+\\alpha_1\\sum{x_i^{m+1}}+...+\\alpha_m\\sum{x_i^{2m}}=\\sum{x_i^my_i}\n",
    "\\end{cases}$\n",
    "\n",
    "也可以转换成$\\alpha=(X^TX)^{-1}X^Ty$\n",
    "\n",
    "转化为矩阵，形式如下:\n",
    "\n",
    "$\\begin{bmatrix}\n",
    "N&\\sum{x_i}&\\sum{x_i^2}&...&\\sum{x_i^M}\\\\\n",
    "\\sum{x_i}&\\sum{x_i^2}&\\sum{x_i^3}&...&\\sum{x_i^{M+1}}\\\\\n",
    "\\vdots&\\vdots&\\vdots&\\vdots&\\vdots\\\\\n",
    "\\sum{x_i^M}&\\sum{x_i^{M+1}}&\\sum{x_i^{M+2}}&...&\\sum{x_i^{2M}}\n",
    "\\end{bmatrix}$\n",
    "$\\begin{bmatrix}\n",
    "\\alpha_0\\\\\n",
    "\\alpha_1\\\\\n",
    "\\alpha_2\\\\\n",
    "\\vdots\\\\\n",
    "\\alpha_m\n",
    "\\end{bmatrix}$\n",
    "$=$\n",
    "$\\begin{bmatrix}\n",
    "\\sum{y_i}\\\\\n",
    "\\sum{x_iy_i}\\\\\n",
    "\\sum{x_i^2y_i}\\\\\n",
    "\\vdots\\\\\n",
    "\\sum{x_i^My_i}\n",
    "\\end{bmatrix}$"
   ]
  },
  {
   "cell_type": "markdown",
   "metadata": {},
   "source": [
    "##4.3 具体解法\n",
    "- 由已知数据画出函数粗略的图形-散点图，确定拟合多项式的次数n；\n",
    "- 列表计算$\\sum_{i=1}^nx_i^j,j=0,1,2,...,2m$和$\\sum_{i=1}^nx_i^jy_i,j=0,1,...,2n$\n",
    "- 写出正规方程组，求出$\\alpha_0,\\alpha_1,\\alpha_2,...,\\alpha_n$\n",
    "- 写出拟合多项式$P_n(x)=\\sum_{k=0}^n\\alpha_kx^k$"
   ]
  },
  {
   "cell_type": "markdown",
   "metadata": {},
   "source": [
    "#5. 实例"
   ]
  }
 ],
 "metadata": {},
 "nbformat": 4,
 "nbformat_minor": 0
}