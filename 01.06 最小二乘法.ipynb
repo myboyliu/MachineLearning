{
 "cells": [
  {
   "cell_type": "markdown",
   "metadata": {},
   "source": [
    "# 最小二乘法"
   ]
  },
  {
   "cell_type": "markdown",
   "metadata": {},
   "source": [
    "#1 问题的引入"
   ]
  },
  {
   "cell_type": "markdown",
   "metadata": {},
   "source": [
    "设函数y=f(x)在m个互异点的观测数据为$\\{(x_1,y_1),(x_2,y_2),...,(x_m,y_m)\\}$，求一个简单的近似函数$\\varphi{(x)}$,使之\"最好\"的逼近f(x)，而不必满足插值原则。一般我们是无法也没必要找到完全符合$\\varphi{(x_i)}=y_i$的曲线，而是需要找到使得$\\xi_i=\\varphi{(x_i)}-y_i$总体上尽可能的小，这也就是\"最好\"的含义.这种构造近似函数的方法叫做曲线拟合，称函数$y=\\varphi(x)$为经验公式或拟合曲线"
   ]
  },
  {
   "cell_type": "markdown",
   "metadata": {},
   "source": [
    "#2 残差\n",
    "如何定义\"最好\"的逼近f(x)呢？这个时候就引入了残差的概念\n",
    "\n",
    "若令$\\xi_i=\\varphi(x_i)-y_i,i = 0,1,2,...,m$，称$\\xi=(\\xi_0,\\xi_1,...,\\xi_m)^T$为残向量，或残差。所谓最好，就是使$\\xi_i=\\varphi(x_i)-y_i$尽可能的小"
   ]
  },
  {
   "cell_type": "markdown",
   "metadata": {},
   "source": [
    "#3 残差的选择与最小二乘法"
   ]
  },
  {
   "cell_type": "markdown",
   "metadata": {},
   "source": [
    "##3.1 残差的选择\n",
    "残差的一般选择有\n",
    "- 使得$\\mathop{max}\\limits_{1 \\leq i \\leq m}|\\varphi(x_i)-y_i|$"
   ]
  },
  {
   "cell_type": "code",
   "execution_count": null,
   "metadata": {},
   "outputs": [],
   "source": [
    ""
   ]
  }
 ],
 "metadata": {},
 "nbformat": 4,
 "nbformat_minor": 0
}