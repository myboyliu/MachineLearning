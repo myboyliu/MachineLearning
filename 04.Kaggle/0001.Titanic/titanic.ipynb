{
 "cells": [
  {
   "cell_type": "markdown",
   "metadata": {},
   "source": [
    "#1 查看数据"
   ]
  },
  {
   "cell_type": "code",
   "execution_count": 2,
   "metadata": {
    "collapsed": true
   },
   "outputs": [
    {
     "name": "stdout",
     "output_type": "stream",
     "text": [
      "     PassengerId  Survived  Pclass  \\\n142          143         1       3   \n521          522         0       3   \n\n                                                  Name     Sex   Age  SibSp  \\\n142  Hakkarainen, Mrs. Pekka Pietari (Elin Matilda ...  female  24.0      1   \n521                                    Vovk, Mr. Janko    male  22.0      0   \n\n     Parch            Ticket     Fare Cabin Embarked  \n142      0  STON/O2. 3101279  15.8500   NaN        S  \n521      0            349252   7.8958   NaN        S  \n<class 'pandas.core.frame.DataFrame'>\nRangeIndex: 891 entries, 0 to 890\nData columns (total 12 columns):\nPassengerId    891 non-null int64\nSurvived       891 non-null int64\nPclass         891 non-null int64\nName           891 non-null object\nSex            891 non-null object\nAge            714 non-null float64\nSibSp          891 non-null int64\nParch          891 non-null int64\nTicket         891 non-null object\nFare           891 non-null float64\nCabin          204 non-null object\nEmbarked       889 non-null object\ndtypes: float64(2), int64(5), object(5)\nmemory usage: 83.6+ KB\n"
     ]
    },
    {
     "data": {
      "text/html": [
       "<div>\n",
       "<style>\n",
       "    .dataframe thead tr:only-child th {\n",
       "        text-align: right;\n",
       "    }\n",
       "\n",
       "    .dataframe thead th {\n",
       "        text-align: left;\n",
       "    }\n",
       "\n",
       "    .dataframe tbody tr th {\n",
       "        vertical-align: top;\n",
       "    }\n",
       "</style>\n",
       "<table border=\"1\" class=\"dataframe\">\n",
       "  <thead>\n",
       "    <tr style=\"text-align: right;\">\n",
       "      <th></th>\n",
       "      <th>PassengerId</th>\n",
       "      <th>Survived</th>\n",
       "      <th>Pclass</th>\n",
       "      <th>Age</th>\n",
       "      <th>SibSp</th>\n",
       "      <th>Parch</th>\n",
       "      <th>Fare</th>\n",
       "    </tr>\n",
       "  </thead>\n",
       "  <tbody>\n",
       "    <tr>\n",
       "      <th>count</th>\n",
       "      <td>891.000000</td>\n",
       "      <td>891.000000</td>\n",
       "      <td>891.000000</td>\n",
       "      <td>714.000000</td>\n",
       "      <td>891.000000</td>\n",
       "      <td>891.000000</td>\n",
       "      <td>891.000000</td>\n",
       "    </tr>\n",
       "    <tr>\n",
       "      <th>mean</th>\n",
       "      <td>446.000000</td>\n",
       "      <td>0.383838</td>\n",
       "      <td>2.308642</td>\n",
       "      <td>29.699118</td>\n",
       "      <td>0.523008</td>\n",
       "      <td>0.381594</td>\n",
       "      <td>32.204208</td>\n",
       "    </tr>\n",
       "    <tr>\n",
       "      <th>std</th>\n",
       "      <td>257.353842</td>\n",
       "      <td>0.486592</td>\n",
       "      <td>0.836071</td>\n",
       "      <td>14.526497</td>\n",
       "      <td>1.102743</td>\n",
       "      <td>0.806057</td>\n",
       "      <td>49.693429</td>\n",
       "    </tr>\n",
       "    <tr>\n",
       "      <th>min</th>\n",
       "      <td>1.000000</td>\n",
       "      <td>0.000000</td>\n",
       "      <td>1.000000</td>\n",
       "      <td>0.420000</td>\n",
       "      <td>0.000000</td>\n",
       "      <td>0.000000</td>\n",
       "      <td>0.000000</td>\n",
       "    </tr>\n",
       "    <tr>\n",
       "      <th>25%</th>\n",
       "      <td>223.500000</td>\n",
       "      <td>0.000000</td>\n",
       "      <td>2.000000</td>\n",
       "      <td>20.125000</td>\n",
       "      <td>0.000000</td>\n",
       "      <td>0.000000</td>\n",
       "      <td>7.910400</td>\n",
       "    </tr>\n",
       "    <tr>\n",
       "      <th>50%</th>\n",
       "      <td>446.000000</td>\n",
       "      <td>0.000000</td>\n",
       "      <td>3.000000</td>\n",
       "      <td>28.000000</td>\n",
       "      <td>0.000000</td>\n",
       "      <td>0.000000</td>\n",
       "      <td>14.454200</td>\n",
       "    </tr>\n",
       "    <tr>\n",
       "      <th>75%</th>\n",
       "      <td>668.500000</td>\n",
       "      <td>1.000000</td>\n",
       "      <td>3.000000</td>\n",
       "      <td>38.000000</td>\n",
       "      <td>1.000000</td>\n",
       "      <td>0.000000</td>\n",
       "      <td>31.000000</td>\n",
       "    </tr>\n",
       "    <tr>\n",
       "      <th>max</th>\n",
       "      <td>891.000000</td>\n",
       "      <td>1.000000</td>\n",
       "      <td>3.000000</td>\n",
       "      <td>80.000000</td>\n",
       "      <td>8.000000</td>\n",
       "      <td>6.000000</td>\n",
       "      <td>512.329200</td>\n",
       "    </tr>\n",
       "  </tbody>\n",
       "</table>\n",
       "</div>"
      ],
      "text/plain": [
       "<div>\n",
       "<style>\n",
       "    .dataframe thead tr:only-child th {\n",
       "        text-align: right;\n",
       "    }\n",
       "\n",
       "    .dataframe thead th {\n",
       "        text-align: left;\n",
       "    }\n",
       "\n",
       "    .dataframe tbody tr th {\n",
       "        vertical-align: top;\n",
       "    }\n",
       "</style>\n",
       "<table border=\"1\" class=\"dataframe\">\n",
       "  <thead>\n",
       "    <tr style=\"text-align: right;\">\n",
       "      <th></th>\n",
       "      <th>PassengerId</th>\n",
       "      <th>Survived</th>\n",
       "      <th>Pclass</th>\n",
       "      <th>Age</th>\n",
       "      <th>SibSp</th>\n",
       "      <th>Parch</th>\n",
       "      <th>Fare</th>\n",
       "    </tr>\n",
       "  </thead>\n",
       "  <tbody>\n",
       "    <tr>\n",
       "      <th>count</th>\n",
       "      <td>891.000000</td>\n",
       "      <td>891.000000</td>\n",
       "      <td>891.000000</td>\n",
       "      <td>714.000000</td>\n",
       "      <td>891.000000</td>\n",
       "      <td>891.000000</td>\n",
       "      <td>891.000000</td>\n",
       "    </tr>\n",
       "    <tr>\n",
       "      <th>mean</th>\n",
       "      <td>446.000000</td>\n",
       "      <td>0.383838</td>\n",
       "      <td>2.308642</td>\n",
       "      <td>29.699118</td>\n",
       "      <td>0.523008</td>\n",
       "      <td>0.381594</td>\n",
       "      <td>32.204208</td>\n",
       "    </tr>\n",
       "    <tr>\n",
       "      <th>std</th>\n",
       "      <td>257.353842</td>\n",
       "      <td>0.486592</td>\n",
       "      <td>0.836071</td>\n",
       "      <td>14.526497</td>\n",
       "      <td>1.102743</td>\n",
       "      <td>0.806057</td>\n",
       "      <td>49.693429</td>\n",
       "    </tr>\n",
       "    <tr>\n",
       "      <th>min</th>\n",
       "      <td>1.000000</td>\n",
       "      <td>0.000000</td>\n",
       "      <td>1.000000</td>\n",
       "      <td>0.420000</td>\n",
       "      <td>0.000000</td>\n",
       "      <td>0.000000</td>\n",
       "      <td>0.000000</td>\n",
       "    </tr>\n",
       "    <tr>\n",
       "      <th>25%</th>\n",
       "      <td>223.500000</td>\n",
       "      <td>0.000000</td>\n",
       "      <td>2.000000</td>\n",
       "      <td>20.125000</td>\n",
       "      <td>0.000000</td>\n",
       "      <td>0.000000</td>\n",
       "      <td>7.910400</td>\n",
       "    </tr>\n",
       "    <tr>\n",
       "      <th>50%</th>\n",
       "      <td>446.000000</td>\n",
       "      <td>0.000000</td>\n",
       "      <td>3.000000</td>\n",
       "      <td>28.000000</td>\n",
       "      <td>0.000000</td>\n",
       "      <td>0.000000</td>\n",
       "      <td>14.454200</td>\n",
       "    </tr>\n",
       "    <tr>\n",
       "      <th>75%</th>\n",
       "      <td>668.500000</td>\n",
       "      <td>1.000000</td>\n",
       "      <td>3.000000</td>\n",
       "      <td>38.000000</td>\n",
       "      <td>1.000000</td>\n",
       "      <td>0.000000</td>\n",
       "      <td>31.000000</td>\n",
       "    </tr>\n",
       "    <tr>\n",
       "      <th>max</th>\n",
       "      <td>891.000000</td>\n",
       "      <td>1.000000</td>\n",
       "      <td>3.000000</td>\n",
       "      <td>80.000000</td>\n",
       "      <td>8.000000</td>\n",
       "      <td>6.000000</td>\n",
       "      <td>512.329200</td>\n",
       "    </tr>\n",
       "  </tbody>\n",
       "</table>\n",
       "</div>"
      ]
     },
     "execution_count": 2,
     "metadata": {},
     "output_type": "execute_result"
    }
   ],
   "source": [
    "import pandas as pd\n",
    "data=pd.read_csv('05.Kaggle/0001.Titanic/train.csv')\n",
    "data.info()\n",
    "data.describe()"
   ]
  },
  {
   "cell_type": "markdown",
   "metadata": {},
   "source": [
    "#2 分析数据"
   ]
  },
  {
   "cell_type": "code",
   "execution_count": 3,
   "metadata": {
    "collapsed": true
   },
   "outputs": [],
   "source": [
    "#干掉ticket和cabin，因为这两列缺失值太多，并且对于最后的预测没有任何帮助\n",
    "df = data.drop(['Ticket', 'Cabin'], axis=1)\n",
    "\n",
    "#干掉NaN的值\n",
    "df = df.dropna()"
   ]
  },
  {
   "cell_type": "code",
   "execution_count": 16,
   "metadata": {},
   "outputs": [
    {
     "data": {
      "image/png": "[encoded data removed]",
      "text/plain": [
       "<matplotlib.figure.Figure at 0x11a6ec048>"
      ]
     },
     "metadata": {},
     "output_type": "display_data"
    }
   ],
   "source": [
    "import matplotlib.pyplot as plt\n",
    "# specifies the parameters of our graphs\n",
    "figure = plt.figure(figsize=(18,16), facecolor='w')\n",
    "alpha=alpha_scatterplot = 0.2\n",
    "alpha_bar_chart = 0.55\n",
    "ax1 = plt.subplot2grid((3,3),(0,0))\n",
    "df.Survived.value_counts().plot(kind='bar', alpha=alpha_bar_chart)\n",
    "ax1.set_xlim(-1, 2)\n",
    "plt.title(\"生死直方图, (1 = Survived)\")\n",
    "\n",
    "plt.subplot2grid((3,3),(0,1))\n",
    "plt.scatter(df.Survived, df.Age, alpha=alpha_scatterplot)\n",
    "# sets the y axis lable\n",
    "plt.ylabel(\"Age\")\n",
    "# formats the grid line style of our graphs                          \n",
    "plt.grid(b=True, which='major', axis='y')\n",
    "plt.title(\"Survival by Age,  (1 = Survived)\")\n",
    "\n",
    "ax3 = plt.subplot2grid((3,3),(0,2))\n",
    "df.Pclass.value_counts().plot(kind=\"barh\", alpha=alpha_bar_chart)\n",
    "ax3.set_ylim(-1, len(df.Pclass.value_counts()))\n",
    "plt.title(\"Class Distribution\")\n",
    "\n",
    "plt.subplot2grid((3,3),(1,0), colspan=2)\n",
    "# plots a kernel density estimate of the subset of the 1st class passangers's age\n",
    "df.Age[df.Pclass == 1].plot(kind='kde')\n",
    "df.Age[df.Pclass == 2].plot(kind='kde')\n",
    "df.Age[df.Pclass == 3].plot(kind='kde')\n",
    "# plots an axis lable\n",
    "plt.xlabel(\"Age\")\n",
    "plt.title(\"Age Distribution within classes\")\n",
    "# sets our legend for our graph.\n",
    "plt.legend(('1st Class', '2nd Class','3rd Class'),loc='best')\n",
    "\n",
    "ax5 = plt.subplot2grid((3,3),(1,2))\n",
    "df.Embarked.value_counts().plot(kind='bar', alpha=alpha_bar_chart)\n",
    "ax5.set_xlim(-1, len(df.Embarked.value_counts()))\n",
    "# specifies the parameters of our graphs\n",
    "plt.title(\"Passengers per boarding location\")\n",
    "\n",
    "df_male = df.Survived[df.Sex == 'male'].value_counts().sort_index()\n",
    "df_female = df.Survived[df.Sex == 'female'].value_counts().sort_index()\n",
    "ax6 = plt.subplot2grid((3,3),(2,0))\n",
    "df_male.plot(kind='barh',label='Male', alpha=0.55)\n",
    "df_female.plot(kind='barh', color='#FA2379',label='Female', alpha=0.55)\n",
    "plt.title(\"男女生存死亡数量比较图\"); \n",
    "plt.legend(loc='best')\n",
    "ax6.set_ylim(-1, 2)\n",
    "\n",
    "#adjust graph to display the proportions of survival by gender\n",
    "ax7 = plt.subplot2grid((3,3),(2,1))\n",
    "(df_male/float(df_male.sum())).plot(kind='barh',label='Male', alpha=0.55)\n",
    "(df_female/float(df_female.sum())).plot(kind='barh', color='#FA2379',label='Female', alpha=0.55)\n",
    "plt.title(\"男女生存死亡比率比较图\")\n",
    "plt.legend(loc='best')\n",
    "\n",
    "ax7.set_ylim(-1, 2)\n",
    "plt.show()"
   ]
  },
  {
   "cell_type": "markdown",
   "metadata": {},
   "source": [
    "可以看出，男人死亡率25%大于女人的死亡率20%"
   ]
  },
  {
   "cell_type": "code",
   "execution_count": 19,
   "metadata": {},
   "outputs": [
    {
     "data": {
      "image/png": "[encoded data removed]",
      "text/plain": [
       "<matplotlib.figure.Figure at 0x11a9ee828>"
      ]
     },
     "metadata": {},
     "output_type": "display_data"
    }
   ],
   "source": [
    "#男女座位等级的分布\n",
    "fig = plt.figure(figsize=(18,4), facecolor='w')\n",
    "alpha_level = 0.65\n",
    "\n",
    "# building on the previous code, here we create an additional subset with in the gender subset \n",
    "# we created for the survived variable. I know, thats a lot of subsets. After we do that we call \n",
    "# value_counts() so it it can be easily plotted as a bar graph. this is repeated for each gender \n",
    "# class pair.\n",
    "ax1=fig.add_subplot(141)\n",
    "female_highclass = df.Survived[df.Sex == 'female'][df.Pclass != 3].value_counts()\n",
    "female_highclass.plot(kind='bar', label='female, highclass', color='#FA2479', alpha=alpha_level)\n",
    "ax1.set_xticklabels([\"Survived\", \"Died\"], rotation=0)\n",
    "ax1.set_xlim(-1, len(female_highclass))\n",
    "plt.title(\"Who Survived? with respect to Gender and Class\"); plt.legend(loc='best')\n",
    "\n",
    "ax2=fig.add_subplot(142, sharey=ax1)\n",
    "female_lowclass = df.Survived[df.Sex == 'female'][df.Pclass == 3].value_counts()\n",
    "female_lowclass.plot(kind='bar', label='female, low class', color='pink', alpha=alpha_level)\n",
    "ax2.set_xticklabels([\"Died\",\"Survived\"], rotation=0)\n",
    "ax2.set_xlim(-1, len(female_lowclass))\n",
    "plt.legend(loc='best')\n",
    "\n",
    "ax3=fig.add_subplot(143, sharey=ax1)\n",
    "male_lowclass = df.Survived[df.Sex == 'male'][df.Pclass == 3].value_counts()\n",
    "male_lowclass.plot(kind='bar', label='male, low class',color='lightblue', alpha=alpha_level)\n",
    "ax3.set_xticklabels([\"Died\",\"Survived\"], rotation=0)\n",
    "ax3.set_xlim(-1, len(male_lowclass))\n",
    "plt.legend(loc='best')\n",
    "\n",
    "ax4=fig.add_subplot(144, sharey=ax1)\n",
    "male_highclass = df.Survived[df.Sex == 'male'][df.Pclass != 3].value_counts()\n",
    "male_highclass.plot(kind='bar', label='male, highclass', alpha=alpha_level, color='steelblue')\n",
    "ax4.set_xticklabels([\"Died\",\"Survived\"], rotation=0)\n",
    "ax4.set_xlim(-1, len(male_highclass))\n",
    "plt.legend(loc='best')\n",
    "plt.show()"
   ]
  },
  {
   "cell_type": "code",
   "execution_count": null,
   "metadata": {},
   "outputs": [],
   "source": [
    "dmatrices()"
   ]
  },
  {
   "cell_type": "code",
   "execution_count": null,
   "metadata": {},
   "outputs": [],
   "source": [
    ""
   ]
  },
  {
   "cell_type": "code",
   "execution_count": null,
   "metadata": {},
   "outputs": [],
   "source": [
    ""
   ]
  },
  {
   "cell_type": "code",
   "execution_count": null,
   "metadata": {},
   "outputs": [],
   "source": [
    ""
   ]
  },
  {
   "cell_type": "code",
   "execution_count": null,
   "metadata": {},
   "outputs": [],
   "source": [
    ""
   ]
  },
  {
   "cell_type": "markdown",
   "metadata": {},
   "source": [
    "#3 数据预处理"
   ]
  },
  {
   "cell_type": "code",
   "execution_count": null,
   "metadata": {},
   "outputs": [],
   "source": [
    ""
   ]
  },
  {
   "cell_type": "code",
   "execution_count": 3,
   "metadata": {},
   "outputs": [
    {
     "name": "stderr",
     "output_type": "stream",
     "text": [
      "/anaconda/lib/python3.5/site-packages/sklearn/utils/validation.py:429: DataConversionWarning: Data with input dtype int64 was converted to float64 by StandardScaler.\n  warnings.warn(msg, _DataConversionWarning)\n/anaconda/lib/python3.5/site-packages/sklearn/preprocessing/data.py:586: DeprecationWarning: Passing 1d arrays as data is deprecated in 0.17 and will raise ValueError in 0.19. Reshape your data either using X.reshape(-1, 1) if your data has a single feature or X.reshape(1, -1) if it contains a single sample.\n  warnings.warn(DEPRECATION_MSG_1D, DeprecationWarning)\n/anaconda/lib/python3.5/site-packages/ipykernel_launcher.py:65: FutureWarning: reshape is deprecated and will raise in a subsequent release. Please use .values.reshape(...) instead\n/anaconda/lib/python3.5/site-packages/sklearn/preprocessing/data.py:586: DeprecationWarning: Passing 1d arrays as data is deprecated in 0.17 and will raise ValueError in 0.19. Reshape your data either using X.reshape(-1, 1) if your data has a single feature or X.reshape(1, -1) if it contains a single sample.\n  warnings.warn(DEPRECATION_MSG_1D, DeprecationWarning)\n/anaconda/lib/python3.5/site-packages/ipykernel_launcher.py:67: FutureWarning: reshape is deprecated and will raise in a subsequent release. Please use .values.reshape(...) instead\n/anaconda/lib/python3.5/site-packages/sklearn/preprocessing/data.py:586: DeprecationWarning: Passing 1d arrays as data is deprecated in 0.17 and will raise ValueError in 0.19. Reshape your data either using X.reshape(-1, 1) if your data has a single feature or X.reshape(1, -1) if it contains a single sample.\n  warnings.warn(DEPRECATION_MSG_1D, DeprecationWarning)\n/anaconda/lib/python3.5/site-packages/ipykernel_launcher.py:69: FutureWarning: reshape is deprecated and will raise in a subsequent release. Please use .values.reshape(...) instead\n/anaconda/lib/python3.5/site-packages/sklearn/preprocessing/data.py:586: DeprecationWarning: Passing 1d arrays as data is deprecated in 0.17 and will raise ValueError in 0.19. Reshape your data either using X.reshape(-1, 1) if your data has a single feature or X.reshape(1, -1) if it contains a single sample.\n  warnings.warn(DEPRECATION_MSG_1D, DeprecationWarning)\n/anaconda/lib/python3.5/site-packages/ipykernel_launcher.py:71: FutureWarning: reshape is deprecated and will raise in a subsequent release. Please use .values.reshape(...) instead\n"
     ]
    },
    {
     "name": "stderr",
     "output_type": "stream",
     "text": [
      "/anaconda/lib/python3.5/site-packages/sklearn/preprocessing/data.py:586: DeprecationWarning: Passing 1d arrays as data is deprecated in 0.17 and will raise ValueError in 0.19. Reshape your data either using X.reshape(-1, 1) if your data has a single feature or X.reshape(1, -1) if it contains a single sample.\n  warnings.warn(DEPRECATION_MSG_1D, DeprecationWarning)\n/anaconda/lib/python3.5/site-packages/ipykernel_launcher.py:76: FutureWarning: reshape is deprecated and will raise in a subsequent release. Please use .values.reshape(...) instead\n"
     ]
    }
   ],
   "source": [
    "import pandas as pd\n",
    "from sklearn.preprocessing import OneHotEncoder\n",
    "from sklearn.preprocessing import LabelEncoder\n",
    "from sklearn.preprocessing import StandardScaler\n",
    "from sklearn.ensemble import RandomForestRegressor\n",
    "\n",
    "def replace_name(x):\n",
    "    if 'Mrs' in x:\n",
    "        return 'Mrs'\n",
    "    elif 'Mr' in x:\n",
    "        return 'Mr'\n",
    "    else:\n",
    "        return 'Miss'\n",
    "\n",
    "def set_missing_age(data):\n",
    "    train=data[['Age','SibSp_scaled','Parch_scaled',\n",
    "                # 'Name_0','Name_1','Name_2',\n",
    "                'Sex_0','Sex_1']]\n",
    "    known_age=train[train.Age.notnull()].as_matrix()\n",
    "    unknown_age=train[train.Age.isnull()].as_matrix()\n",
    "    y=known_age[:,0]\n",
    "    x=known_age[:,1:]\n",
    "    rf=RandomForestRegressor(random_state=0,n_estimators=200,n_jobs=-1) #使用随机森林拟合年龄\n",
    "    rf.fit(x,y)\n",
    "    predictage=rf.predict(unknown_age[:,1:])\n",
    "    data.loc[data.Age.isnull(),'Age']=predictage\n",
    "    return data,rf\n",
    "    \n",
    "data=pd.read_csv('05.Kaggle/0001.Titanic/train.csv')\n",
    " \n",
    "data.drop(['PassengerId','Ticket'],axis=1,inplace=True) #剔除变量\n",
    "data.loc[data.Embarked.isnull(),'Embarked']='S' #补全Embarked变量\n",
    "\n",
    "#one-hot编码   \n",
    "# le_sex=LabelEncoder().fit(data['Sex'])\n",
    "Sex_label=pd.Categorical(data['Sex']).codes #le_sex.transform(data['Sex'])\n",
    "\n",
    "ohe_sex=OneHotEncoder(sparse=False).fit(Sex_label.reshape(-1,1))\n",
    "Sex_ohe=ohe_sex.transform(Sex_label.reshape(-1,1))\n",
    "\n",
    "# le_embarked=LabelEncoder().fit(data['Embarked'])\n",
    "Embarked_label=pd.Categorical(data['Embarked']).codes #le_embarked.transform(data['Embarked'])\n",
    "\n",
    "ohe_embarked=OneHotEncoder(sparse=False).fit(Embarked_label.reshape(-1,1))\n",
    "Embarked_ohe=ohe_embarked.transform(Embarked_label.reshape(-1,1))\n",
    "\n",
    "data['Name']=data['Name'].map(lambda x:replace_name(x)) # 将Mrs，Mr和Miss从名字中提出来\n",
    "# le_name=LabelEncoder().fit(data['Name'])\n",
    "Name_label=pd.Categorical(data['Name']).codes # le_name.transform(data['Name'])\n",
    "\n",
    "ohe_name=OneHotEncoder(sparse=False).fit(Name_label.reshape(-1,1))\n",
    "Name_ohe=ohe_name.transform(Name_label.reshape(-1,1))\n",
    "\n",
    "data['Sex_0']=Sex_ohe[:,0]\n",
    "data['Sex_1']=Sex_ohe[:,1]\n",
    "data['Embarked_0']=Embarked_ohe[:,0]\n",
    "data['Embarked_1']=Embarked_ohe[:,1]\n",
    "data['Embarked_2']=Embarked_ohe[:,2]\n",
    "# data['Name_0']=Name_ohe[:,0]\n",
    "# data['Name_1']=Name_ohe[:,1]\n",
    "# data['Name_2']=Name_ohe[:,2]\n",
    "\n",
    "#归一化处理  \n",
    "Pclass_scale=StandardScaler().fit(data['Pclass'])\n",
    "data['Pclass_scaled']=StandardScaler().fit_transform(data['Pclass'].reshape(-1,1),Pclass_scale)\n",
    "Fare_scale=StandardScaler().fit(data['Fare'])\n",
    "data['Fare_scaled']=StandardScaler().fit_transform(data['Fare'].reshape(-1,1),Fare_scale)\n",
    "SibSp_scale=StandardScaler().fit(data['SibSp'])\n",
    "data['SibSp_scaled']=StandardScaler().fit_transform(data['SibSp'].reshape(-1,1),SibSp_scale)\n",
    "Parch_scale=StandardScaler().fit(data['Parch'])\n",
    "data['Parch_scaled']=StandardScaler().fit_transform(data['Parch'].reshape(-1,1),Parch_scale)\n",
    "\n",
    "#预测年纪并补全  \n",
    "data,rf=set_missing_age(data)\n",
    "Age_scale=StandardScaler().fit(data['Age'])\n",
    "data['Age_scaled']=StandardScaler().fit_transform(data['Age'].reshape(-1,1),Age_scale)\n",
    "train_x=data[['Sex_0','Sex_1','Embarked_0','Embarked_1','Embarked_2',\n",
    "              # 'Name_0','Name_1','Name_2',\n",
    "              'Pclass_scaled','Age_scaled','Fare_scaled']].as_matrix()\n",
    "train_y=data['Survived'].as_matrix()\n",
    "data.drop(['Pclass','Name', 'Sex', 'Age', 'SibSp', 'Parch', 'Fare', 'Cabin', 'Embarked'],axis=1,inplace=True) #剔除变量\n",
    "data.to_csv('05.Kaggle/0001.Titanic/preDo.csv', index=False)"
   ]
  },
  {
   "cell_type": "markdown",
   "metadata": {},
   "source": [
    "#4 数据训练"
   ]
  },
  {
   "cell_type": "code",
   "execution_count": 4,
   "metadata": {},
   "outputs": [
    {
     "name": "stderr",
     "output_type": "stream",
     "text": [
      "/anaconda/lib/python3.5/site-packages/sklearn/cross_validation.py:44: DeprecationWarning: This module was deprecated in version 0.18 in favor of the model_selection module into which all the refactored classes and functions are moved. Also note that the interface of the new CV iterators are different from that of this module. This module will be removed in 0.20.\n  \"This module will be removed in 0.20.\", DeprecationWarning)\n/anaconda/lib/python3.5/site-packages/sklearn/grid_search.py:43: DeprecationWarning: This module was deprecated in version 0.18 in favor of the model_selection module into which all the refactored classes and functions are moved. This module will be removed in 0.20.\n  DeprecationWarning)\n"
     ]
    },
    {
     "name": "stdout",
     "output_type": "stream",
     "text": [
      "0.783582089552\n"
     ]
    },
    {
     "name": "stdout",
     "output_type": "stream",
     "text": [
      "0.791044776119\n{'C': 2, 'kernel': 'rbf'}\n0.817164179104\n"
     ]
    },
    {
     "name": "stdout",
     "output_type": "stream",
     "text": [
      "0.805970149254\n"
     ]
    },
    {
     "name": "stdout",
     "output_type": "stream",
     "text": [
      "0.817164179104\n"
     ]
    }
   ],
   "source": [
    "from sklearn.model_selection import train_test_split\n",
    "from sklearn.linear_model import LogisticRegression\n",
    "import pandas as pd\n",
    "from sklearn.svm import SVC\n",
    "from sklearn.ensemble import RandomForestClassifier\n",
    "from sklearn.ensemble import GradientBoostingClassifier\n",
    "from sklearn import cross_validation, grid_search\n",
    "from sklearn.neighbors import KNeighborsClassifier\n",
    "from sklearn.decomposition import PCA\n",
    "\n",
    "data=pd.read_csv('05.Kaggle/0001.Titanic/preDo.csv')\n",
    "train_x = data[['Sex_0','Sex_1','Embarked_0','Embarked_1','Embarked_2',\n",
    "                # 'Name_0','Name_1','Name_2',\n",
    "                'Pclass_scaled','Age_scaled','Fare_scaled']].as_matrix()\n",
    "train_y = data['Survived'].as_matrix()\n",
    "# pca = PCA(n_components=2, whiten=True, random_state=0)\n",
    "# train_x = pca.fit_transform(train_x)\n",
    "\n",
    "x_tr,x_te,y_tr,y_te=train_test_split(train_x,train_y,test_size=0.3,random_state=0)\n",
    "\n",
    "knn = KNeighborsClassifier();\n",
    "knn.fit(x_tr,y_tr)\n",
    "print(knn.score(x_te,y_te))\n",
    "\n",
    "lr=LogisticRegression(C=1.0,tol=1e-6)\n",
    "lr.fit(x_tr,y_tr)\n",
    "print(lr.score(x_te,y_te))\n",
    "\n",
    "tuned_parameters = [\n",
    "    {'kernel': ['rbf'], 'C': [2]}\n",
    "]\n",
    "\n",
    "cv = cross_validation.StratifiedKFold(y_tr,4)\n",
    "svc=grid_search.GridSearchCV(SVC(decision_function_shape='ovo'), param_grid=tuned_parameters, cv=cv)\n",
    "# svc=SVC(C=2, kernel='rbf', decision_function_shape='ovo')\n",
    "svc.fit(x_tr,y_tr)\n",
    "print(svc.best_params_)\n",
    "print(svc.score(x_te,y_te))\n",
    "\n",
    "randomf=RandomForestClassifier(n_estimators=500,max_depth=4,random_state=0)\n",
    "randomf.fit(x_tr,y_tr)\n",
    "print(randomf.score(x_te,y_te))\n",
    "\n",
    "gdbt=GradientBoostingClassifier(n_estimators=600,max_depth=1,random_state=0)\n",
    "gdbt.fit(x_tr,y_tr)\n",
    "print(gdbt.score(x_te,y_te))"
   ]
  },
  {
   "cell_type": "markdown",
   "metadata": {},
   "source": [
    "#5 在测试集上进行测试"
   ]
  }
 ],
 "metadata": {},
 "nbformat": 4,
 "nbformat_minor": 0
}
