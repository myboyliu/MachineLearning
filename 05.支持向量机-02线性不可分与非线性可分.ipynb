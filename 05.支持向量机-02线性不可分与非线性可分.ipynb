{
 "cells": [
  {
   "cell_type": "markdown",
   "metadata": {},
   "source": [
    "# 线性不可分与非线性不可分"
   ]
  },
  {
   "cell_type": "markdown",
   "metadata": {},
   "source": [
    "#1 线性不可分"
   ]
  },
  {
   "cell_type": "markdown",
   "metadata": {},
   "source": [
    "##1.1 概述\n",
    "\n",
    "间隔代表着向量机的健壮性，完美分离的平面未必最好(间隔不够大，那么就不够健壮)，并且有时候有些数据是非线性可分的，所以这个时候我们就会找到一个平面，只要近似可分就可以了。\n",
    "- 硬间隔：完美分割所有数据样本的间隔，就是硬间隔\n",
    "- 软间隔：有部分数据样本分错的间隔，就是软间隔"
   ]
  },
  {
   "cell_type": "markdown",
   "metadata": {},
   "source": [
    "##1.2 松弛变量与惩罚因子\n",
    "松弛变量代表着分错的样本(分到两个支撑平面里面的样本)距离最近的支撑平面的距离.C代表对分错的数据点的惩罚，C越大，惩罚越重，分错的数据点就越少，容易过拟合；C越小，惩罚越小，分错的数据点越多，精度下降，C趋近于无穷大的时候，就等价于硬间隔。C越小，支撑平面间隔就越大，反之，就会越小"
   ]
  },
  {
   "cell_type": "markdown",
   "metadata": {},
   "source": [
    "##1.3 目标函数与约束条件\n",
    "假如松弛变量后，目标变为\n",
    "$\\begin{cases}\n",
    "min(\\frac{1}{2}||w||^2+C\\sum_{i=1}^n\\zeta_i) &\\zeta_i\\geq 0,i=1,2,...,n \\\\\n",
    "y_i(w^Tx_i+b)\\geq 1-\\zeta_i &i=1,2,...,n\n",
    "\\end{cases}$\n",
    ",也就是说，虽然可以允许一部分样本分错，但是不能离支撑平面太远，跟逻辑回归类似.对此函数求导，跟线性可分的求导结果一样，对偶函数的结果也一样"
   ]
  },
  {
   "cell_type": "markdown",
   "metadata": {},
   "source": [
    "##1.4 硬间隔与软间隔的求解方程\n",
    "目标是：$max_\\alpha(\\sum_{i=1}^n\\alpha_i-\\frac{1}{2}\\sum_{i,j=1}^n\\alpha_i\\alpha_jy_iy_jx_i^Tx_j),\\alpha_i\\geq 0$,KKT条件是：\n",
    "\n",
    "$\\begin{cases}\n",
    "0\\leq \\alpha_i\\leq C \\\\\n",
    "y_i(w^Tx_i+b)-1\\geq 0 \\\\\n",
    "\\alpha_i(y_i(w^Tx_i+b)-1)=0 \\\\\n",
    "\\sum_{i=1}^n\\alpha_iy_i=0\n",
    "\\end{cases}$\n",
    "\n",
    ",其中$x_i^Tx_j$是向量$x_i$的转置与向量$x_j$的点积"
   ]
  },
  {
   "cell_type": "markdown",
   "metadata": {},
   "source": [
    "#2 非线性可分"
   ]
  },
  {
   "cell_type": "markdown",
   "metadata": {},
   "source": [
    "##2.1 引入\n",
    "思路：对于在二维空间中的非线性可分，我们可以引入一个第三维，将二维空间扩展到三维空间，从而将低维度的非线性可分，转化为高维度的线性可分，因为在三维空间中的Z轴上，会有一个平面可以进行线性可分的，现在就有两个问题：\n",
    "- 在不知道数据规律的情况下，如果确定该映射到几维空间？\n",
    "- 新空间坐标如何根据现有维度来确定？\n",
    "\n",
    "根据非线性可分的求解方程，我们知道如果映射到高维空间，只有X的部分会发生变化，因为映射到高维空间，数据样本会发生变化，点积也必然会发生变化，这个时候的点积是高维空间的点积，所以如果我们能够这个点积的结果，那么就可以不用思考上面的两个问题了，这个时候，进引入了核函数\n"
   ]
  },
  {
   "cell_type": "markdown",
   "metadata": {},
   "source": [
    "##2.2 核函数\n",
    "将低维空间的变量，带入一个函数，可以得到映射到高维空间后的点积，这个函数就是核函数.核函数只是一种运算技巧，用来计算映射到高维空间之后的点积的一种简便方法，实际中我们根本就不知道映射到底是什么形式的。\n",
    "\n",
    "使用核函数将原始输入空间映射到新的特征空间，从而使得原本非线性可分的样本在核函数空间可分。"
   ]
  },
  {
   "cell_type": "markdown",
   "metadata": {},
   "source": [
    "###2.2.1 多项式核函数\n",
    "$K(\\overrightarrow{x},\\overrightarrow{y})=(\\overrightarrow{x} \\bullet \\overrightarrow{y} + c)^d$\n",
    "\n",
    "假设$c=0,d=2$，则变为$K(\\overrightarrow{x},\\overrightarrow{y})=(\\overrightarrow{x} \\bullet \\overrightarrow{y})^2 \\Rightarrow \\sum_{i=1}^n\\sum_{j=1}^n(x_ix_j)(y_iy_j)$"
   ]
  },
  {
   "cell_type": "markdown",
   "metadata": {},
   "source": [
    "###2.2.2 高斯核函数\n",
    "径向基核，RBF，高斯核可以映射到无穷维$K(x_1,x_2)=e^{-\\gamma \\bullet ||x_1-x_2||^2}$"
   ]
  },
  {
   "cell_type": "markdown",
   "metadata": {},
   "source": [
    "###2.2.3 Sigmoid核函数\n",
    "$K(x_1,x_2)=tanh(x_1 \\bullet x_2 + c)$"
   ]
  },
  {
   "cell_type": "markdown",
   "metadata": {},
   "source": [
    "##2.3 引入核函数前后的做法\n",
    "引入核函数后，唯一变化的就是向量的点积不再是原始空间上的了，而是通过核函数计算出来的映射到高维空间上的点积。$max_\\alpha(\\sum_{i=1}^n\\alpha_i-\\frac{1}{2}\\sum_{i,j=1}^n\\alpha_i\\alpha_jy_iy_jK(x_i^T,x_j)),\\alpha_i\\geq 0$"
   ]
  },
  {
   "cell_type": "code",
   "execution_count": null,
   "metadata": {},
   "outputs": [],
   "source": [
    ""
   ]
  }
 ],
 "metadata": {},
 "nbformat": 4,
 "nbformat_minor": 0
}