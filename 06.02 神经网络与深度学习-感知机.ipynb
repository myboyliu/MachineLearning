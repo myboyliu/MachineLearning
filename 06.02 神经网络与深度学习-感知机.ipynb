{
 "cells": [
  {
   "cell_type": "markdown",
   "metadata": {},
   "source": [
    "# 感知机\n",
    "感知机是最简单的神经网络，他具备神经网络的必备因素"
   ]
  },
  {
   "cell_type": "markdown",
   "metadata": {},
   "source": [
    "#1 感知机模型\n",
    "假设输入空间(特征空间)是$X \\in R^n$，输出空间是$Y=\\{+1,-1\\}$，输入$x \\in X$表示实例的特征向量，对应于输入空间的点；输出$y \\in Y$表示实例的类别，由输入空间到输出空间的函数$f(x)=\\varphi(w \\bullet x + b)$称为感知机。其中w和b为感知机的模型参数，$w \\in R^n$叫做权值或权值向量，$b \\in R$叫做偏置bias，$w \\bullet x$表示w和x的内积。$\\varphi$是传递函数，一般为符号函数即$sign(x)=\\begin{cases}\n",
    "+1 & x \\geq 0\\\\\n",
    "-1 & x < 0\n",
    "\\end{cases}$\n",
    "\n",
    "传递函数不一定非要是sign，也可以是Step阶梯函数等等，这个取决于输出空间Y的取值\n",
    "\n",
    "$step(x)=\\begin{cases}\n",
    "0 & x \\leq 0\\\\\n",
    "1 & x > 0\n",
    "\\end{cases}$"
   ]
  },
  {
   "cell_type": "markdown",
   "metadata": {},
   "source": [
    "可以看出，感知机是一种线性分类器，属于判别模型。感知机模型的假设空间是定义在特征空间的所有线性分类模型活线性分类器，即函数集合$\\{f|f(x)=w \\bullet x + b\\}$"
   ]
  },
  {
   "cell_type": "markdown",
   "metadata": {},
   "source": [
    "#2 感知机学习模型\n",
    "感知机的学习模型也是一种训练方法，其目的是修改神经网络的权值w和偏置b。根据上面的感知机模型，我们需要找到一系列的w以及偏置b，使得感知机能够很好的进行二分类\n",
    "\n",
    "1. 初始化$w=\\{w_1,w_2,...,w_n\\}$以及偏置b\n",
    "2. 计算实际结果$s = \\sum_{i=1}^nw_ix_i+b$，然后带入某一类传递函数(符号函数或者阶梯函数)，得到实际结果$\\alpha$\n",
    "3. 计算误差$\\epsilon=y-\\alpha$\n",
    "4. 如果$\\epsilon=0$，则退出，否则往下\n",
    "5. 计算$w_i^{new}=w_1^{old}+\\epsilon \\bullet x_i$\n",
    "6. 计算$b^{new}=b^{old}+\\epsilon$\n",
    "7. 执行第2步直到收敛"
   ]
  },
  {
   "cell_type": "markdown",
   "metadata": {},
   "source": [
    "#3 举例说明\n",
    "![images](images/06/05.png)\n",
    "\n",
    "假设$w_1=0.3, w_2=-3, b=0$，\n",
    "1. 苹果的形状和颜色都是1，那么$s_1=w_1*x_1+w_2*x_2+b=0.3*1+(-3)*1+0=-2.7$，带入符号函数，得到实际结果$\\alpha=-1$\n",
    "2. 误差$\\epsilon=y-\\alpha=1-(-1)=2$\n",
    "3. $w_1^{new}=w_1^{old}+\\epsilon \\bullet x_1=0.3 + 2 * 1 = 2.3$\n",
    "4. $w_2^{new}=w_2^{old}+\\epsilon \\bullet x_2=-3 + 2 * 1 = -1$\n",
    "5. $b^{new}=b^{old}+\\epsilon=0+2=2$\n",
    "6. $s_2=w_1*x_1+w_2*x_2+b=2.3 * 1 + (-1) * 1 + 2 = 3.3$，带入符号函数，得到实际结果$\\alpha=1$，正确\n",
    "1. 香蕉的形状和颜色都是-1,，那么$s_1=w_1*x_1+w_2*x_2+b=2.3*(-1)+(-1)*(-1)+2=0.7$，带入符号函数，得到实际结果$\\alpha=1$\n",
    "2. 误差$\\epsilon=y-\\alpha=-1-1=-2$\n",
    "3. $w_1^{new}=w_1^{old}+\\epsilon \\bullet x_1=2.3 + (-2) * (-1) = 4.3$\n",
    "4. $w_2^{new}=w_2^{old}+\\epsilon \\bullet x_2=-1 + (-2) * (-1) = 1$\n",
    "5. $b^{new}=b^{old}+\\epsilon=2-2=0$\n",
    "6. $s_2=w_1*x_1+w_2*x_2+b=4.3 * (-1) + 1 * (-1) + 0 = -5.3$，带入符号函数，得到实际结果$\\alpha=-1$，正确\n",
    "\n",
    "那么利用$w_1,w_2,b$来判断苹果，$s=w_1*x_1+w_2*x_2+b=4.3 * 1 + 1 * 1 + 0 = 5.3$，带入符号函数，得到实际结果1正确"
   ]
  },
  {
   "cell_type": "code",
   "execution_count": null,
   "metadata": {},
   "outputs": [],
   "source": [
    ""
   ]
  }
 ],
 "metadata": {},
 "nbformat": 4,
 "nbformat_minor": 0
}