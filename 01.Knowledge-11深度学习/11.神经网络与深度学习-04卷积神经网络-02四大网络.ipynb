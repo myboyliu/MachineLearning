{
 "cells": [
  {
   "cell_type": "markdown",
   "metadata": {},
   "source": [
    "# 卷积神经网络的四大网络\n",
    "网络复杂度有三个表征维度：深度、宽度、基数"
   ]
  },
  {
   "cell_type": "markdown",
   "metadata": {},
   "source": [
    "#1 AlexNet\n",
    "8层,ImageNet-2012竞赛第一名，标志这DNN(深度神经网络)深度学习革命的开始，它使用了5个卷积层和3个全连接层的网络结构，包含60M个参数，以及650K个神经元，使用了两个GPU。特点是加入了局部响应归一化(Local Response Normalization$\\Rightarrow$LRN)，模拟神经元的侧抑制机制. 红色的数字表示输出通道数(卷积核的个数，也就是输出的层数)，天蓝色表示卷积核的厚度\n",
    "- 输入：$224*224*3$\n",
    "- 卷积层1：<span style='color:red'>96</span>$*11*11*$<span style='color:cyan'>3</span>, $\\rightarrow{LRN}\\rightarrow{MP}\\rightarrow{ReLU}$, LRN：局部响应归一化，MP：最大池化，每个显卡是$\\frac{96}{2}=48$。采用96个$11*11*3$的卷积核，在步长为4的情况下进行滤波，然后进行一次ReLU，一次Norm，一次Pooling，输出到下一层\n",
    "- 卷积层2：<span style='color:red'>256</span>$*5*5*$<span style='color:cyan'>48</span>, $\\rightarrow{LRN}\\rightarrow{MP}\\rightarrow{ReLU}$，(<span style='color:cyan'>通道独立</span>)\n",
    "- 卷积层3：<span style='color:red'>384</span>$*3*3*$<span style='color:cyan'>256</span>, $\\rightarrow{ReLU}$，(<span style='color:cyan'>通道合并，双GPU交互</span>)\n",
    "- 卷积层4：<span style='color:red'>384</span>$*3*3*$<span style='color:cyan'>192</span>, $\\rightarrow{MP}\\rightarrow{ReLU}$，(<span style='color:cyan'>通道独立</span>)\n",
    "- 卷积层5：<span style='color:red'>256</span>$*3*3*$<span style='color:cyan'>192</span>, $\\rightarrow{ReLU}$，(<span style='color:cyan'>通道独立</span>)\n",
    "- 全连接层1：$4096\\rightarrow{ReLU}$\n",
    "- 全连接层2：$4096\\rightarrow{ReLU}$\n",
    "- 全连接层3：$4096\\rightarrow{ReLU}$\n",
    "- Softmax层：$1000$\n",
    "- Loss:标签概率的log值之和$argmax_{\\omega}\\{\\frac{1}{N}\\sum-log[p(f(w,\\omega)=y(x))]\\}$"
   ]
  },
  {
   "cell_type": "markdown",
   "metadata": {},
   "source": [
    "<span style='color:red'>sdf</a>"
   ]
  },
  {
   "cell_type": "markdown",
   "metadata": {},
   "source": [
    "#2 VGG\n",
    "19层(一般有16层和19层两种，19层使用的比较多)，结构简洁，容易修改，容易迁移到其它任务中去.高层任务的基础网络，ImageNet2014年竞赛第二名.它的重要思想就是大卷积核分解成连续多个小卷积核，这样有两个好处\n",
    "- 核分解：$7*7\\rightarrow$3个$3*3$核(核与核之间用ReLU连接)(被$7*7$的卷积核卷积后，会丢失6个维度，被$3*3$的卷积核卷积后，会丢失2个维度，所以说$7*7$的卷积核就等于3个$3*3$的卷积核的级联  )\n",
    "- 参数数量：$49C^2\\rightarrow{27C^2}$，这样可以减少参数， ，增加深度\n",
    "\n",
    "网络改造的首选基础网络，例如FCN，图片描述，图片问答等等，一样也是5个卷积层+3个全连接层，一样是两个GPU.![images](images/12/28.png)"
   ]
  },
  {
   "cell_type": "markdown",
   "metadata": {},
   "source": [
    "#3 GoogleLeNet\n",
    "22层"
   ]
  },
  {
   "cell_type": "markdown",
   "metadata": {},
   "source": [
    "#4 ResNet-残差网络\n",
    "152层，结构简洁，容易修改，容易迁移到其它任务中去.高层任务的基础网络"
   ]
  }
 ],
 "metadata": {},
 "nbformat": 4,
 "nbformat_minor": 0
}