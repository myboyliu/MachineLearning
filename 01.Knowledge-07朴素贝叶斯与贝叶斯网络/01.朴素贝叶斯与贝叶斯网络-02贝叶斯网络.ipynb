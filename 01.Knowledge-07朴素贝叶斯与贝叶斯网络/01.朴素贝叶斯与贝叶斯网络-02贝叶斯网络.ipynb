{
 "cells": [
  {
   "cell_type": "markdown",
   "metadata": {},
   "source": [
    "# 贝叶斯网络"
   ]
  },
  {
   "cell_type": "markdown",
   "metadata": {},
   "source": [
    "#1 定义\n",
    "把某个研究系统中涉及的随机变量，根据是否条件 独立绘制在一个有向图中，就形成了贝叶斯网络.贝叶斯网络(Bayesian Network)，又称有向无环图模 型(directed acyclic graphical model,DAG)，是一种概率图模型，根据概率图的拓扑结构，考察一组随机变量$\\{X_1,X_2,...,X_n\\}$及其n组条件概率分布(Conditional Probability Distributions, CPD)的性质\n",
    "\n",
    "一般而言，贝叶斯网络的有向无环图中的节点表示随机变量，它们可以是可观察到的变量，或隐变量、未知参数等。连接两个节点的箭头代表此两个随机变量是具有因果关系(或非条件独立)。若两个节点间以一个单箭头连接在一起，表示其中一个节点是“因(parents)”，另一个是“果(children)”，两节点就会产生一个条件概率值\n",
    "\n",
    "每个结点在给定其直接前驱时，条件独立于其非后继\n",
    "\n",
    "如果是无向图，那就是马尔可夫网络，有向图就是贝叶斯网络"
   ]
  },
  {
   "cell_type": "markdown",
   "metadata": {},
   "source": [
    "#2 概率图模型PGM\n",
    "概率图模型分为有向图的贝叶斯网络，和无向图的马尔可夫网络。\n",
    "\n",
    "在马尔可夫网络中，如果给定了条件，那么就叫做条件随机场CRF，如果条件是一种链式结构，那么叫做链式条件随机场"
   ]
  },
  {
   "cell_type": "markdown",
   "metadata": {},
   "source": [
    "#3 贝叶斯网络\n",
    "$P(a,b,c)=P(c|a,b)P(b|a)P(a)$，则有如下有向图\n",
    "![images](images/03.png)"
   ]
  },
  {
   "cell_type": "markdown",
   "metadata": {},
   "source": [
    "##3.1 全连接贝叶斯网络\n",
    "每一对节点之间都有边连接\n",
    "$P(x_1,...,x_K)=P(x_K|x_1,...,x_{K-1})...P(x_2|x_1)P(x_1)$\n",
    "\n",
    "联合概率密度函数就是$P(X_1=x_1,...,X_n=x_n)=\\prod_{i=1}^nP(X_i=x_i|X_{i+1}=x_{i+1},...,X_n=x_n)$"
   ]
  },
  {
   "cell_type": "markdown",
   "metadata": {},
   "source": [
    "##3.2 正常的贝叶斯网络\n",
    "正常的贝叶斯网络，一般有些边是缺失的，比如下图![images](images/04.png)\n",
    "它的联合密度函数就是$p(x_1)p(x_2)p(x_3)p(x_4|x_1,x_2,x_3)p(x_5|x_1,x_3)p(x_6|x_4)p(x_7|x_4,x_5)$"
   ]
  },
  {
   "cell_type": "markdown",
   "metadata": {},
   "source": [
    "##3.3 实际贝叶斯网络\n",
    "![images](images/05.png)"
   ]
  }
 ],
 "metadata": {},
 "nbformat": 4,
 "nbformat_minor": 0
}
