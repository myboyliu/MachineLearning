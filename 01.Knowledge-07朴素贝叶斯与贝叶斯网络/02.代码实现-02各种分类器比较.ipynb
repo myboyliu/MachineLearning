{
 "cells": [
  {
   "cell_type": "markdown",
   "metadata": {},
   "source": [
    "#1 新闻组文本数据不同分类器间的比较"
   ]
  },
  {
   "cell_type": "code",
   "execution_count": 3,
   "metadata": {},
   "outputs": [
    {
     "name": "stdout",
     "output_type": "stream",
     "text": [
      "开始下载/加载数据...\n"
     ]
    },
    {
     "name": "stdout",
     "output_type": "stream",
     "text": [
      "下载/加载数据完成，耗时2.018秒\n['alt.atheism', 'comp.graphics', 'sci.space', 'talk.religion.misc']\n"
     ]
    },
    {
     "name": "stdout",
     "output_type": "stream",
     "text": [
      "\n\n===================\n分类器的比较：\n\n分类器： MultinomialNB(alpha=1.0, class_prior=None, fit_prior=True)\n"
     ]
    },
    {
     "name": "stdout",
     "output_type": "stream",
     "text": [
      "5折交叉验证的训练时间为：1.458秒/(5*10)=0.029秒\n最优超参数为： {'alpha': 0.0035938136638046258}\n测试时间：0.003秒\n测试集准确率：89.58%\n\n\n分类器： BernoulliNB(alpha=1.0, binarize=0.0, class_prior=None, fit_prior=True)\n"
     ]
    },
    {
     "name": "stdout",
     "output_type": "stream",
     "text": [
      "5折交叉验证的训练时间为：2.258秒/(5*10)=0.045秒\n最优超参数为： {'alpha': 0.001}\n测试时间：0.025秒\n测试集准确率：88.54%\n\n\n分类器： KNeighborsClassifier(algorithm='auto', leaf_size=30, metric='minkowski',\n           metric_params=None, n_jobs=1, n_neighbors=5, p=2,\n           weights='uniform')\n"
     ]
    },
    {
     "name": "stdout",
     "output_type": "stream",
     "text": [
      "5折交叉验证的训练时间为：31.062秒/(5*14)=0.444秒\n最优超参数为： {'n_neighbors': 3}\n"
     ]
    },
    {
     "name": "stdout",
     "output_type": "stream",
     "text": [
      "测试时间：0.343秒\n测试集准确率：86.03%\n\n\n分类器： RidgeClassifier(alpha=1.0, class_weight=None, copy_X=True, fit_intercept=True,\n        max_iter=None, normalize=False, random_state=None, solver='auto',\n        tol=0.001)\n"
     ]
    },
    {
     "name": "stdout",
     "output_type": "stream",
     "text": [
      "5折交叉验证的训练时间为：50.740秒/(5*10)=1.015秒\n最优超参数为： {'alpha': 0.01291549665014884}\n测试时间：0.003秒\n测试集准确率：89.36%\n\n\n分类器： RandomForestClassifier(bootstrap=True, class_weight=None, criterion='gini',\n            max_depth=None, max_features='auto', max_leaf_nodes=None,\n            min_impurity_split=1e-07, min_samples_leaf=1,\n            min_samples_split=2, min_weight_fraction_leaf=0.0,\n            n_estimators=200, n_jobs=1, oob_score=False, random_state=None,\n            verbose=0, warm_start=False)\n"
     ]
    },
    {
     "name": "stdout",
     "output_type": "stream",
     "text": [
      "5折交叉验证的训练时间为：72.067秒/(5*6)=2.402秒\n最优超参数为： {'max_depth': 9}\n"
     ]
    },
    {
     "name": "stdout",
     "output_type": "stream",
     "text": [
      "测试时间：0.352秒\n测试集准确率：77.01%\n\n\n分类器： SVC(C=1.0, cache_size=200, class_weight=None, coef0=0.0,\n  decision_function_shape=None, degree=3, gamma='auto', kernel='rbf',\n  max_iter=-1, probability=False, random_state=None, shrinking=True,\n  tol=0.001, verbose=False)\n"
     ]
    },
    {
     "name": "stdout",
     "output_type": "stream",
     "text": [
      "5折交叉验证的训练时间为：452.954秒/(5*9)=10.066秒\n最优超参数为： {'gamma': 0.031622776601683791, 'C': 100.0}\n"
     ]
    },
    {
     "name": "stdout",
     "output_type": "stream",
     "text": [
      "测试时间：2.759秒\n测试集准确率：90.10%\n\n\n"
     ]
    },
    {
     "data": {
      "image/png": "[encoded data removed]",
      "text/plain": [
       "<matplotlib.figure.Figure at 0x110e40cc0>"
      ]
     },
     "metadata": {},
     "output_type": "display_data"
    }
   ],
   "source": [
    "import numpy as np\n",
    "from sklearn.naive_bayes import MultinomialNB, BernoulliNB\n",
    "from sklearn.datasets import fetch_20newsgroups\n",
    "from sklearn.feature_extraction.text import TfidfVectorizer\n",
    "from sklearn.linear_model import RidgeClassifier\n",
    "from sklearn.neighbors import KNeighborsClassifier\n",
    "from sklearn.svm import SVC\n",
    "from sklearn.ensemble import RandomForestClassifier\n",
    "from sklearn.model_selection import GridSearchCV\n",
    "from sklearn import metrics\n",
    "from time import time\n",
    "from pprint import pprint\n",
    "import matplotlib.pyplot as plt\n",
    "import matplotlib as mpl\n",
    "\n",
    "\n",
    "def test_clf(clf):\n",
    "    print(u'分类器：', clf)\n",
    "    alpha_can = np.logspace(-3, 2, 10)\n",
    "    model = GridSearchCV(clf, param_grid={'alpha': alpha_can}, cv=5)\n",
    "    m = alpha_can.size\n",
    "    if hasattr(clf, 'alpha'):\n",
    "        model.set_params(param_grid={'alpha': alpha_can})\n",
    "        m = alpha_can.size\n",
    "    if hasattr(clf, 'n_neighbors'):\n",
    "        neighbors_can = np.arange(1, 15)\n",
    "        model.set_params(param_grid={'n_neighbors': neighbors_can})\n",
    "        m = neighbors_can.size\n",
    "    if hasattr(clf, 'C'):\n",
    "        C_can = np.logspace(1, 3, 3)\n",
    "        gamma_can = np.logspace(-3, 0, 3)\n",
    "        model.set_params(param_grid={'C':C_can, 'gamma':gamma_can})\n",
    "        m = C_can.size * gamma_can.size\n",
    "    if hasattr(clf, 'max_depth'):\n",
    "        max_depth_can = np.arange(4, 10)\n",
    "        model.set_params(param_grid={'max_depth': max_depth_can})\n",
    "        m = max_depth_can.size\n",
    "    t_start = time()\n",
    "    model.fit(x_train, y_train)\n",
    "    t_end = time()\n",
    "    t_train = (t_end - t_start) / (5*m)\n",
    "    print(u'5折交叉验证的训练时间为：%.3f秒/(5*%d)=%.3f秒' % ((t_end - t_start), m, t_train))\n",
    "    print(u'最优超参数为：', model.best_params_)\n",
    "    t_start = time()\n",
    "    y_hat = model.predict(x_test)\n",
    "    t_end = time()\n",
    "    t_test = t_end - t_start\n",
    "    print(u'测试时间：%.3f秒' % t_test)\n",
    "    acc = metrics.accuracy_score(y_test, y_hat)\n",
    "    print(u'测试集准确率：%.2f%%' % (100 * acc))\n",
    "    name = str(clf).split('(')[0]\n",
    "    index = name.find('Classifier')\n",
    "    if index != -1:\n",
    "        name = name[:index]     # 去掉末尾的Classifier\n",
    "    if name == 'SVC':\n",
    "        name = '05SVM'\n",
    "    return t_train, t_test, 1-acc, name\n",
    "\n",
    "print(u'开始下载/加载数据...')\n",
    "t_start = time()\n",
    "# remove = ('headers', 'footers', 'quotes')\n",
    "remove = ()\n",
    "categories = 'alt.atheism', 'talk.religion.misc', 'comp.graphics', 'sci.space'\n",
    "# categories = None     # 若分类所有类别，请注意内存是否够用\n",
    "data_train = fetch_20newsgroups(subset='train', categories=categories, shuffle=True, random_state=0, remove=remove)\n",
    "data_test = fetch_20newsgroups(subset='test', categories=categories, shuffle=True, random_state=0, remove=remove)\n",
    "t_end = time()\n",
    "print(u'下载/加载数据完成，耗时%.3f秒' % (t_end - t_start))\n",
    "categories = data_train.target_names\n",
    "pprint(categories)\n",
    "y_train = data_train.target\n",
    "y_test = data_test.target\n",
    "\n",
    "vectorizer = TfidfVectorizer(input='content', stop_words='english', max_df=0.5, sublinear_tf=True)\n",
    "x_train = vectorizer.fit_transform(data_train.data)  # x_train是稀疏的，scipy.sparse.csr.csr_matrix\n",
    "x_test = vectorizer.transform(data_test.data)\n",
    "# print(u'训练集样本个数：%d，特征个数：%d' % x_train.shape)\n",
    "\n",
    "feature_names = np.asarray(vectorizer.get_feature_names())\n",
    "\n",
    "print(u'\\n\\n===================\\n分类器的比较：\\n')\n",
    "clfs = (MultinomialNB(),                # 0.87(0.017), 0.002, 90.39%\n",
    "        BernoulliNB(),                  # 1.592(0.032), 0.010, 88.54%\n",
    "        KNeighborsClassifier(),         # 19.737(0.282), 0.208, 86.03%\n",
    "        RidgeClassifier(),              # 25.6(0.512), 0.003, 89.73%\n",
    "        RandomForestClassifier(n_estimators=200),   # 59.319(1.977), 0.248, 77.01%\n",
    "        SVC()                           # 236.59(5.258), 1.574, 90.10%\n",
    "        )\n",
    "result = []\n",
    "for clf in clfs:\n",
    "    a = test_clf(clf)\n",
    "    result.append(a)\n",
    "    print('\\n')\n",
    "result = np.array(result)\n",
    "time_train, time_test, err, names = result.T\n",
    "time_train = time_train.astype(np.float)\n",
    "time_test = time_test.astype(np.float)\n",
    "err = err.astype(np.float)\n",
    "x = np.arange(len(time_train))\n",
    "mpl.rcParams['font.sans-serif'] = [u'simHei']\n",
    "mpl.rcParams['axes.unicode_minus'] = False\n",
    "plt.figure(figsize=(10, 7), facecolor='w')\n",
    "ax = plt.axes()\n",
    "b1 = ax.bar(x, err, width=0.25, color='#77E0A0')\n",
    "ax_t = ax.twinx()\n",
    "b2 = ax_t.bar(x+0.25, time_train, width=0.25, color='#FFA0A0')\n",
    "b3 = ax_t.bar(x+0.5, time_test, width=0.25, color='#FF8080')\n",
    "plt.xticks(x+0.5, names)\n",
    "plt.legend([b1[0], b2[0], b3[0]], (u'错误率', u'训练时间', u'测试时间'), loc='upper left', shadow=True)\n",
    "plt.title(u'新闻组文本数据不同分类器间的比较', fontsize=18)\n",
    "plt.xlabel(u'分类器名称')\n",
    "plt.grid(True)\n",
    "plt.tight_layout(2)\n",
    "plt.show()"
   ]
  },
  {
   "cell_type": "code",
   "execution_count": null,
   "metadata": {},
   "outputs": [],
   "source": [
    ""
   ]
  }
 ],
 "metadata": {},
 "nbformat": 4,
 "nbformat_minor": 0
}