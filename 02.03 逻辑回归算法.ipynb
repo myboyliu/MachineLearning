{
 "cells": [
  {
   "cell_type": "markdown",
   "metadata": {},
   "source": [
    "#逻辑回归与最大似然"
   ]
  },
  {
   "cell_type": "markdown",
   "metadata": {},
   "source": [
    "逻辑(Logistic)回归解决的是分类问题(应变量为离散型变量，自变量即可以是连续型，也可以是离散型)，最大似然是一种通用的解决概率问题的思想，两者之间的关系是线性回归和最小二乘法的关系。逻辑回归得到的是一个分割面，可以把数据一分为二"
   ]
  },
  {
   "cell_type": "markdown",
   "metadata": {},
   "source": [
    "#1. 基本概念"
   ]
  },
  {
   "cell_type": "markdown",
   "metadata": {},
   "source": [
    "0-1事件就是一个事件发生的概率只有两种可能，那么如果我们假设1发生的概率为p，那么0发生的概率就是1-p，用一个统一个公式来表示，就是$P\\{X=x\\}=p^x(1-p)^{1-x}$,定义事件1发生的几率为$odds=\\frac{p}{1-p}$,对数几率z=ln(odds),那么可以推到出如下公式：$P\\{X=x\\}=\\frac{1}{1+e^{-z}}$"
   ]
  },
  {
   "cell_type": "markdown",
   "metadata": {},
   "source": [
    "伯努利分布是指数族分布，对于伯努利分布$Bernouli(\\varphi)$,其中$y \\in \\{0, 1\\}$，$\\therefore$Bernouli分布函数可以写成如下形式\n",
    "\n",
    "$P\\{X=x\\}=p^y(1-p)^{1-y}=e^{ln(p^y(1-p)^{1-y})}=e^{lnp^y+ln(1-p)^{1-y}}=e^{ylnp+(1-y)ln(1-p)}$\n",
    "\n",
    "$=e^{ylnp+ln(1-p)-yln(1-p)}=e^{y[lnp-ln(1-p)]+ln(1-p)}=e^{yln\\frac{p}{1-p}+ln(1-p)}$，推到这里，可以看到伯努利分布是指数族的分布\n",
    "\n",
    "令$\\varphi = ln\\frac{p}{1-p}$，有$e^{\\varphi}=\\frac{p}{1-p}, \\therefore p=\\frac{e^{\\varphi}}{1+e^{\\varphi}}$，$\\therefore p=\\frac{1}{1+e^{-\\varphi}}$，这里我们推出了Sigmoid函数.这是因为Logistic模型对问题的前置概率估计其实就是伯努利分布。"
   ]
  },
  {
   "cell_type": "markdown",
   "metadata": {},
   "source": [
    "#2. 逻辑回归曲线"
   ]
  },
  {
   "cell_type": "code",
   "execution_count": 2,
   "metadata": {
    "collapsed": true
   },
   "outputs": [
    {
     "data": {
      "image/png": "[encoded data removed]",
      "text/plain": [
       "<matplotlib.figure.Figure at 0x10f07fc88>"
      ]
     },
     "metadata": {},
     "output_type": "display_data"
    }
   ],
   "source": [
    "import matplotlib.pyplot as plt\n",
    "import numpy as np\n",
    "import math\n",
    "\n",
    "lineX = np.linspace(-6,6, 15)\n",
    "y=1/(1+np.e**(-lineX))\n",
    "\n",
    "plt.figure(1, facecolor='white')\n",
    "plt.plot(lineX, y, 'r--')\n",
    "plt.show()"
   ]
  },
  {
   "cell_type": "markdown",
   "metadata": {},
   "source": [
    "$\\frac{\\partial}{\\partial\\Theta_j}h_{\\Theta}^\\prime(x)=(\\frac{1}{1+e^{-x}})(1-\\frac{1}{1+e^{-x}})x_j$\n"
   ]
  },
  {
   "cell_type": "markdown",
   "metadata": {},
   "source": [
    "#3 求法"
   ]
  },
  {
   "cell_type": "markdown",
   "metadata": {},
   "source": [
    "##3.1 Logistic的学习规则\n",
    "$\\theta_j:=\\theta_j+\\alpha\\sum_{i=1}^n(y^{(i)}-h_{\\theta}(x^{(i)}))x_j^{(i)}$\n",
    "\n",
    "跟线性回归是一样的\n"
   ]
  },
  {
   "cell_type": "markdown",
   "metadata": {},
   "source": [
    "#4 Softmax回归\n",
    "\n",
    "利用Logistic回归来进行多分类，就是Softmax回归"
   ]
  },
  {
   "cell_type": "markdown",
   "metadata": {},
   "source": [
    "##4.1 定义\n",
    "设样本为一个m行的记录$X=\\{\\overrightarrow{x_1},\\overrightarrow{x_2},...,\\overrightarrow{x_n}\\}$, 共有K的类别，那么存在这么K个$\\Theta$向量$\\overrightarrow{\\theta_1},\\overrightarrow{\\theta_2},...,\\overrightarrow{\\theta_K}$。令$Z=\\Theta^TX$，且设$\\varphi=\\frac{1}{1+e^{-Z}}$，则有$\\varphi=\\frac{1}{1+e^{-\\Theta^TX}}$\n",
    "\n",
    "如果K=2，那么就是Logistic回归。分类为$y \\in \\{0, 1\\}$，带入$\\varphi$函数后，总能求的一个0~1之间的值，我们用0.5做分界点，大于0.5的就是分类1，否则就是分类0"
   ]
  },
  {
   "cell_type": "markdown",
   "metadata": {},
   "source": [
    "如果K>2，那么可以令$C_i=e^{\\overrightarrow{\\theta_i}^T\\overrightarrow{x_i}}$，则第i行的概率为$p(c=k|x;\\theta)=\\frac{e^{\\theta_k^Tx}}{\\sum_{i=1}^Ke^{\\theta_i^Tx}}, k=1,2,...,K$\n",
    "\n",
    "似然函数为$L(\\theta)=\\prod_{i=1}^m\\prod_{k=1}^Kp(c=k|x^{(i)};\\theta)^{y_k^{(i)}}=\\prod_{i=1}^m\\prod_{k=1}^K[\\frac{e^{\\theta_k^Tx}}{\\sum_{i=1}^Ke^{\\theta_i^Tx}}]^{y_k^{(i)}}$\n",
    "\n",
    "对数似然：$J_m(\\theta)=lnL(\\theta)=\\sum_{i=1}^m\\sum_{k=1}^Ky_k^{(i)} \\bullet (\\theta_k^Tx^{(i)}-ln\\sum_{i=1}^Ke^(\\theta_i^Tx^{(i)}))$\n",
    "\n",
    "$J(\\theta)=\\sum_{k=1}^Ky_k \\bullet (\\theta_k^Tx-ln\\sum_{i=1}^Ke^{\\theta_i^Tx})$\n",
    "\n",
    "随机梯度：$\\frac{\\partial{J(\\theta)}}{\\partial{\\theta_k}}=(y_k-p(y_k|x;\\theta)) \\bullet x$"
   ]
  }
 ],
 "metadata": {},
 "nbformat": 4,
 "nbformat_minor": 0
}