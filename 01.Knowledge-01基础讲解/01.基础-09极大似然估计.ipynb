{
 "cells": [
  {
   "cell_type": "markdown",
   "metadata": {},
   "source": [
    "# 极大似然估计\n",
    "极大似然估计也叫做最大似然估计，是一种估计分布参数的常用方法\n"
   ]
  },
  {
   "cell_type": "markdown",
   "metadata": {},
   "source": [
    "#1 定义\n",
    "最大似然估计是一种统计方法，它用来求一个样本集的相关概率密度函数的参数。 最大似然法明确地使用概率模型，其目标是寻找能够以较高概率产生观察数据的系统发生树。最大似然法是一类完全基于统计 的系统发生树重建方法的代表\n"
   ]
  },
  {
   "cell_type": "markdown",
   "metadata": {},
   "source": [
    "#2 极大似然问题需要解决的问题\n",
    "##2.1 概述\n",
    "给定一组数据和一个参数待定的模型，如何确定模型的参数，使得这个确定参数后的模型在所有模型中产生已知数据的概率最大。通俗一点讲，就是在什么情况下最有可能发生已知的事件。举个例子，假如有一个罐子，里面有黑白两种颜色的球，数目多少不知，两种颜色的比例也不知。我们想知道罐中白球和黑球的比例，但我们不能把罐中的球全部拿出来数。现在我们可以每次任意从已经摇匀的罐中拿一个球出来，记录球的颜色，然后把拿出来的球再放回罐中。这个过程可以重复，我们可以用记录的球的颜色来估计罐中黑白球的比例。假如在前面的一百次重复记录中，有七十次是白球，请问罐中白球所占的比例最有可能是多少?当然是70%，这个背后就有极大似然估计的支持.\n",
    "\n",
    "通俗点就是利用已知的样本结果，反推最有可能（最大概率）导致这样结果的参数值\n"
   ]
  },
  {
   "cell_type": "markdown",
   "metadata": {},
   "source": [
    "##2.2 身高问题\n",
    "假设我们需要调查我们学校的男生和女生的身高分布,怎么做呢？肯定是抽样了。假设你在校园里随便地找了100个男生和100个女生\n",
    "，共200个人（也就是200个身高的样本数据）都在教室里面了。然后男的左边，女的右边。接着就先统计抽样得到的100个男生的身\n",
    "高。假设他们的身高是服从高斯分布的。但是这个分布的均值$\\mu$和方差$\\sigma^2$我们不知道，这两个参数就是我们要估计的。记作$\\theta=[\\mu,\\sigma^2]$。\n",
    "\n",
    "用数学的语言来说就是：在学校那么多男生（身高）中，我们独立地按照概率密度$p(x|\\theta)$抽取100了个身高，组成样本集X，我们想通过样本集X来估计出未知参数θ。这里概率密度$p(x|\\theta)$我们知道了是高斯分布$N(\\mu,\\sigma^2)$的形式，其中的\n",
    "未知参数是$\\theta=[\\mu,\\sigma^2]$。抽到的样本集是$X=\\{x_1,x_2,…,x_N\\}$，其中$x_i$表示抽到的第i个人的身高，这里N就是100，表示抽到的样本个数。\n",
    "\n",
    "由于每个样本都是独立地从$p(x|\\theta)$中抽取的，换句话说这100个男生中的任何一个，都是随便找的，这些男生之间是没有关\n",
    "系的。那么，学校那么多男生中为什么就恰好抽到了这100个人呢？抽到这100个人的概率是多少呢？因为这些男生（的身高）是服从同一个高斯分布$p(x|\\theta)$的。那么抽到男生A的概率是$p(x_A|\\theta)$，抽到男生B的概率是$p(x_B|\\theta)$，因为他们是独立的，所以很明显，同时抽到男生A和男生B的概率是$p(x_A|\\theta)*p(x_B|\\theta)$，同理，同时抽到这100个男生的概率就是他们各自概率的乘积了。用数学家的口吻说就是用下式表示：\n",
    "$$\n",
    "L(\\theta)=L(x_1,x_2,...,x_n;\\theta)=\\prod_{i=1}^np(x_i;\\theta),\\theta \\in \\Theta\n",
    "$$\n",
    "\n",
    "这个概率反映了，在概率密度函数的参数是$\\theta$时，得到X这组样本的概率。因为这里X是已知的，也就是说我抽取到的这100个人的身高可以测出来，也就是已知的了。而$\\theta$是未知了，则上面这个公式只有$\\theta$是未知数，所以它是$\\theta$的函数。这个函数放映的是在不同的参数$\\theta$取值下，取得当前这个样本集的可能性，因此称为参数$\\theta$相对于样本集X的似然函数（likehood function）。记为$L(\\theta)$。"
   ]
  },
  {
   "cell_type": "markdown",
   "metadata": {},
   "source": [
    "#3 极大似然估计的原理\n",
    "给定一个概率分布D，假定概率密度函数(连续分布)或概率聚集函数(离散分布)为f(D),以及一个分布参数$\\theta$，我们可以从这个分布中抽出一个具有n个值的采样，通过利用f(D)，我们就能计算出其概率:$P(x_1,x_2,...,x_n)=f_D(x_1,x_2,...,x_n|\\theta)$\n",
    "但是我们可能不知道$\\theta$的值，如何对其进行估计呢？可以从这个分布中抽出一个具有n个值的采样$\\{X_1,X_2,...,X_n\\}$，然后用这些采样的数据来估计$\\theta$,这样我们就能找到很多个$\\theta$可能的估计。那么最大似然估计会寻找关于$\\theta$的最有可能的值(即，在所有可能的$\\theta$取值中，寻找一个值使这个采用的可能性最大化)\n"
   ]
  },
  {
   "cell_type": "markdown",
   "metadata": {},
   "source": [
    "#4 定义\n",
    "无论随机变量X属于离散型分布或者连续性分布，其分布律或概率密度函数为$P\\{x=x\\}=f(x;\\theta),\\theta \\in \\Theta$的形式为已知，$\\theta$为待估参数，$\\Theta$是$\\theta$可能取值的范围。设$\\{X_1,X_2,...,X_n\\}$是来自X的样本；则$\\{X_1,X_2,...,X_n\\}$的联合分布律为$\\prod_{i=1}^nf(x_i;\\theta)$,又设$\\{x_1,x_2,...,x_n\\}$是$\\{X_1,X_2,...,X_n\\}$的一个样本值；即事件$\\{X_1=x_1,...,X_n=x_n\\}$发生的概率为：$L(\\theta)=L(x_1,x_2,...,x_n;\\theta)=\\prod_{i=1}^nf(x_i;\\theta),\\theta \\in \\Theta$,$L(\\theta)$是叫做样本的似然函数.我们需要找到一个$\\theta$可能的取值$\\hat{\\theta}$，使得似然函数最大,这个值就是极大似然函数的估计值-MLE"
   ]
  },
  {
   "cell_type": "markdown",
   "metadata": {},
   "source": [
    "#5 求解方法\n",
    "- 写出似然函数:$L(\\theta_1,\\theta_2,...,\\theta_k)=L(x_1,...,x_n;\\theta_1,...,\\theta_k)=\\prod_{i=1}^nf(x_i;\\theta_1,\\theta_2,...,\\theta_k)$\n",
    "- 去对数:$lnL(\\theta_1,\\theta_2,...,\\theta_k)=\\sum_{i=1}^nlnf(x_i;\\theta_1,\\theta_2,...,\\theta_k)$\n",
    "- 将对数似然函数对各个参数求偏导并令其为零，得到方程组。\n",
    "- 求解\n"
   ]
  },
  {
   "cell_type": "markdown",
   "metadata": {},
   "source": [
    "#6 常见分布举例"
   ]
  },
  {
   "cell_type": "markdown",
   "metadata": {},
   "source": [
    "##6.1 二项分布\n",
    "设$\\{x_1,x_2,...,x_n\\}$是一个样本值。X的分布律为：$P\\{X=x\\}=p^x(1-p)^{1-x},x \\in \\{0,1\\}$;"
   ]
  },
  {
   "cell_type": "markdown",
   "metadata": {},
   "source": [
    "解：似然函数为：$L(p)=\\prod_{i=1}^np^{x_i}(1-p)^{1-x_i}=p^{\\sum_{i=1}^nx_i}(1-p)^{n-\\sum_{i=1}^nx_i}$,\n",
    "\n",
    "取对数似然：$lnL(p)=(\\sum_{i=1}^nx_i)lnp+(n-\\sum_{i=1}^nx_i)ln(1-p)$.\n",
    "\n",
    "令$\\frac{d}{dp}lnL(p)=\\frac{\\sum_{i=1}^nx_i}{p}-\\frac{n-\\sum_{i=1}^nx_i}{1-p}=0$\n",
    "\n",
    "所以p的极大似然估计量为：$\\hat{p}=\\frac{1}{n}\\sum_{i=1}^nX_i=\\overline{X}$"
   ]
  },
  {
   "cell_type": "markdown",
   "metadata": {},
   "source": [
    "##6.2 $(\\theta+1)x^{\\theta}$\n",
    "设$\\{X_1,X_2,...,X_n\\}$是取自总体X的一个样本，X~\n",
    "$f(x)=\\begin{cases}\n",
    "(\\theta+1)x^{\\theta}, &0<x<1 \\\\\n",
    "0, &otherwise\n",
    "\\end{cases}$,其中$\\theta>-1$，求$\\theta$的极大似然估计"
   ]
  },
  {
   "cell_type": "markdown",
   "metadata": {},
   "source": [
    "解：似然函数为$L(\\theta)=\\prod_{i=1}^n(\\theta+1)x_i^{\\theta}=(\\theta+1)^n(\\prod_{i=1}^nx_i)^{\\theta}, 0<x_i<1$,\n",
    "\n",
    "对数似然函数为:$lnL(\\theta)=nln(\\theta+1)+\\theta\\sum_{i=1}^nlnx_i$，令其导数为0，则有:\n",
    "\n",
    "$\\frac{dlnL(\\theta)}{d\\theta}=\\frac{n}{\\theta+1}+\\sum_{i=1}^nlnx_i=0$,解得$\\hat{\\theta}=-\\frac{n}{\\sum_{i=1}^nlnx_i}-1$"
   ]
  },
  {
   "cell_type": "markdown",
   "metadata": {},
   "source": [
    "##6.3 高斯分布\n",
    "设X~N$(\\mu,\\sigma^2)$;$\\mu,\\sigma^2$为未知参数，${x_1,x_2,...,x_n}$是来自X的一个样本值，求$\\mu,\\sigma^2$的极大似然估计量"
   ]
  },
  {
   "cell_type": "markdown",
   "metadata": {},
   "source": [
    "解：X的概率密度为:$f(x;\\mu,\\sigma^2)=\\frac{1}{\\sqrt{2\\pi}\\sigma}e^{-\\frac{1}{2\\sigma^2}(x-\\mu)^2}$\n",
    "\n",
    "似然函数为：$L(\\mu,\\sigma^2)=\\prod_{i=1}^n\\frac{1}{\\sqrt{2\\pi}\\sigma}e^{-\\frac{1}{2\\sigma^2}(x-\\mu)^2}$,\n",
    "\n",
    "对数似然函数为$lnL(\\mu,\\sigma^2)=-\\frac{n}{2}ln(2\\pi)-\\frac{n}{2}ln(\\sigma^2)-\\frac{1}{2\\sigma^2}\\sum_{i=1}^n(x_i-\\mu)^2$,令\n",
    "$\\begin{cases}\n",
    "\\frac{\\partial{lnL}}{\\partial{\\mu}}=\\frac{1}{\\sigma^2}[\\sum_{i=1}^nx_i-n\\mu]=0 \\\\\n",
    "\\frac{\\partial{lnL}}{\\partial{\\sigma^2}}=-\\frac{n}{2\\sigma^2}+\\frac{1}{2(\\sigma^2)^2}\\sum_{i=1}^n(x_i-\\mu)^2=0\n",
    "\\end{cases}$\n",
    "$\\Rightarrow$ \n",
    "$\\begin{cases}\n",
    "\\sum_{i=1}^nx_i=n\\mu \\\\\n",
    "n\\sigma^2=\\sum_{i=1}^n(x_i-\\mu)^2\n",
    "\\end{cases}$\n",
    "$\\Rightarrow$\n",
    "$\\begin{cases}\n",
    "\\hat{\\mu}=\\frac{1}{n}\\sum_{i=1}^nx_i=\\overline{x} \\\\\n",
    "\\sigma^2=\\frac{1}{n}\\sum_{i=1}^n(x_i-\\overline{x})^2\n",
    "\\end{cases}$"
   ]
  }
 ],
 "metadata": {},
 "nbformat": 4,
 "nbformat_minor": 0
}
