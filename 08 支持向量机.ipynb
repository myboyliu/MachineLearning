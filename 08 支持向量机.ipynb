{
 "cells": [
  {
   "cell_type": "markdown",
   "metadata": {},
   "source": [
    "#支持向量机"
   ]
  },
  {
   "cell_type": "markdown",
   "metadata": {},
   "source": [
    "#1. 概述"
   ]
  },
  {
   "cell_type": "markdown",
   "metadata": {},
   "source": [
    "支持向量机的三种情况：线性可分、近似线性可分、非线性可分.不仅可以做二分类，也可以做多分类\n",
    "- 线性可分：在空间中可以找到一条直线，或一个平面，或一个超平面，把样本可以完美的分开，一类在一边，另一类在另一边，也就是$\\Theta{X} + b$\n",
    "- 近似线性可分：在空间中可以找到一条直线，或一个平面，或一个超平面，把样本可以近似的分开\n",
    "- 非线性可分：在空间中可以找到一条曲线，或一个曲面，把样本可以完美的分开\n",
    "\n",
    "逻辑回归是不能进行非线性可分的"
   ]
  },
  {
   "cell_type": "markdown",
   "metadata": {},
   "source": [
    "#2. 重要概念\n",
    "![images](images/08/28.png)"
   ]
  },
  {
   "cell_type": "markdown",
   "metadata": {},
   "source": [
    "如上图所示，在空间中存在9个点，我们可以找到很多的平面来把它们完美的分为两组，比如中间的两个实线所在的平面，这两个面可以向左右进行平移，当与某个点相交后，可以形成两个不同的虚面，(蓝色的形成两个虚面，红色的形成两个虚面)，那么蓝色的两个虚面的距离和，就叫做D，同样两个红色虚面的距离和，也叫做D，那么使得D最大的分割面，就是最好的分割面,虚面叫做支撑平面，跟支撑平面相交的点，就叫做支撑向量,D叫做间隔.分割面的公式:$\\vec{w}\\bullet\\vec{x}+b=0$.两个支撑平面的公式：$\\vec{w}\\bullet\\vec{x}+b=-1$,$\\vec{w}\\bullet\\vec{x}+b=1$"
   ]
  },
  {
   "cell_type": "markdown",
   "metadata": {},
   "source": [
    "w是平面的法向量(垂直于平面的向量)，-1和+1是分类标签(逻辑回归的分类标签是0和1).假设x'是支撑平面上的一点，那么支撑平面到分割平面的距离，就是这个点x'到分割平面的距离，那么就是:$\\frac{\\vec{w}x^{'}+b}{||w||}=\\frac{1}{||w||}$,那么$D=\\frac{2}{||w||}$，也就是2除以w的模长(w的模长就是w的长度)但是这里有个约束条件，那么就是样本点带入wx+b的公式中，要么结果是<=-1的，要么就是>=1的，总结一下就有如下约束$y*(\\vec{w}\\bullet{x}+b)>=1$,x就是样本点的坐标，等于1的时候，样本点正好落在支撑平面上,所以我们需要求解的问题，就变成了$argmax(D)=argmax(\\frac{2}{||w||})=argmin(\\frac{1}{2}||w||)=argmin(\\frac{1}{2}||w||^2)$，最后一步是为了将来好做处理"
   ]
  },
  {
   "cell_type": "markdown",
   "metadata": {},
   "source": [
    "#3. 解法"
   ]
  },
  {
   "cell_type": "markdown",
   "metadata": {},
   "source": [
    "##3.1 拉格朗日乘子法"
   ]
  },
  {
   "cell_type": "markdown",
   "metadata": {},
   "source": [
    "要找函数$z=f(x,y)$在条件$\\varphi(x,y)=0$下可能的极值点，那么我们可以构造函数$F(x,y)=f(x,y)+\\lambda\\varphi(x,y)$,其中$\\lambda$为某一常数，也叫做拉格朗日乘子。令$\\frac{\\partial{F}}{\\partial{x}}=0,\\frac{\\partial{F}}{\\partial{y}}=0,\\frac{\\partial{F}}{\\partial{\\lambda}}=0$,\n",
    "$\\begin {cases} \n",
    "f_x(x,y)+\\lambda\\varphi_x(x,y)=0 \\\\\\ \n",
    "f_y(x,y)+\\lambda\\varphi_y(x,y)=0\n",
    "\\end {cases} \n",
    "$\n",
    ",$\\varphi(x,y)=0$,解出$x,y,\\lambda$,其中x,y就是可能的极值点。举例说明"
   ]
  },
  {
   "cell_type": "markdown",
   "metadata": {},
   "source": [
    "例题：将正数12分成x,y,z三个正数，使得$\\mu_{max}=x^3y^2z$为最大，求解x,y,z以及$\\mu_{max}$"
   ]
  },
  {
   "cell_type": "markdown",
   "metadata": {},
   "source": [
    "解：由题目可知$x+y+z=12$,所以$\\varphi(x,y,z)=x+y+z-12=0$,令$F(x,y,z)=x^3y^2z+\\lambda(x+y+z-12)$，则\n",
    "$\\begin {cases}\n",
    "\\frac{\\partial{F}}{\\partial{x}}=F_x^{'}=3y^2zx^2+\\lambda=0 \\\\\\\n",
    "\\frac{\\partial{F}}{\\partial{y}}=F_y^{'}=2x^3zy+\\lambda=0 \\\\\\\n",
    "\\frac{\\partial{F}}{\\partial{z}}=F_z^{'}=x^3y^2+\\lambda=0 \\\\\\\n",
    "x+y+z=12\n",
    "\\end {cases}\n",
    "$\n",
    "$\\Rightarrow 2x=3y,y=2z\n",
    "$\n",
    "\n",
    "解得唯一驻点是(6,4,2)，故$\\mu_{max}=6^3*4^2*2=6912$"
   ]
  },
  {
   "cell_type": "markdown",
   "metadata": {},
   "source": [
    "##3.2 广义拉格朗日乘子法"
   ]
  },
  {
   "cell_type": "markdown",
   "metadata": {},
   "source": [
    "假设要求的极值函数为F(x),其中的条件有m个不等式:$[f_1(x)\\leq 0,f_2(x)\\leq 0,...,f_m(x)\\leq 0]$,p个等式:$[h_1(x)=0,h_2(x)=0,...,h_p(x)=0]$，那么可以分别给定m个不等式因子$\\lambda_{m}$，以及p个等式因子$\\nu_{p}$,形成广义拉格朗日函数为:\n",
    "$L(x,y,\\lambda,\\nu)=F(x)+\\sum_{i=1}^p\\nu_ih_i(x)+\\sum_{j=1}^m\\lambda_jf_j(x)$,\n",
    "\n",
    "$\\because h(x)=0 \\Rightarrow \\sum_{j=1}^p\\nu_jh_j(x)=0 \\\\\\\n",
    "\\therefore L(x,y,\\lambda,\\nu)=L(x,y,\\lambda)=F(x)+\\sum_{i=1}^m\\lambda_if_i(x) \\\\\\\n",
    "\\because \\lambda > 0, f(x)\\leq 0 \\\\\\\n",
    "\\therefore L(x,y,\\lambda)\\leq F(x)\n",
    "$"
   ]
  },
  {
   "cell_type": "markdown",
   "metadata": {},
   "source": [
    "KKT条件，就是使得$L(x,y,\\lambda)=F(x)的条件$"
   ]
  },
  {
   "cell_type": "code",
   "execution_count": null,
   "metadata": {},
   "outputs": [],
   "source": [
    ""
   ]
  },
  {
   "cell_type": "code",
   "execution_count": null,
   "metadata": {},
   "outputs": [],
   "source": [
    ""
   ]
  },
  {
   "cell_type": "code",
   "execution_count": 1,
   "metadata": {},
   "outputs": [],
   "source": [
    ""
   ]
  },
  {
   "cell_type": "code",
   "execution_count": null,
   "metadata": {},
   "outputs": [],
   "source": [
    ""
   ]
  }
 ],
 "metadata": {},
 "nbformat": 4,
 "nbformat_minor": 0
}