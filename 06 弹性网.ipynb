{
 "cells": [
  {
   "cell_type": "markdown",
   "metadata": {},
   "source": [
    "#弹性网"
   ]
  },
  {
   "cell_type": "markdown",
   "metadata": {},
   "source": [
    "$L(\\Theta)=argmin_{\\Theta}\\{\\sum_{i=1}^m(y_i-\\sum_{j=1}^px_{ij}\\Theta_j)^2+K\\sum_{j=1}^p(\\alpha{\\Theta}_j^2+(1-\\alpha)|\\Theta_j|)\\}$"
   ]
  }
 ],
 "metadata": {},
 "nbformat": 4,
 "nbformat_minor": 0
}