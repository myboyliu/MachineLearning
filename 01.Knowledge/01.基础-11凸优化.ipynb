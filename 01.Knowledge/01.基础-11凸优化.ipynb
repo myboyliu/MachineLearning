{
 "cells": [
  {
   "cell_type": "markdown",
   "metadata": {},
   "source": [
    "#1 凸优化\n",
    "$y=x^2$是一个凸函数，函数图像上位于$y=x^2$上方的区域构成凸集\n",
    "- 凸函数图像的上方区域，一定是凸集\n",
    "- 一个函数图像的上方区域为凸集，则该函数是凸函数\n",
    "![images](../images/01/06.png)"
   ]
  },
  {
   "cell_type": "markdown",
   "metadata": {},
   "source": [
    "#2 凸集\n",
    "集合C内任意两点之间的线段均在集合C内，则称集合C为凸集\n",
    "\n",
    "$\\forall{x_1,...,x_k} \\in C, \\theta_i \\in [0,1], 且\\sum_{i=1}^k\\theta_i=1,则\\sum_{i=1}^k\\theta_ix_i \\in C$"
   ]
  },
  {
   "cell_type": "markdown",
   "metadata": {},
   "source": [
    "#3 超平面和半空间\n",
    "- 超平面hyperplane:$\\{x|a^Tx=b\\}$\n",
    "- 半空间halfspace:$\\{x|a^T \\leq b\\},\\{x|a^Tx \\geq b\\}$\n",
    "\n",
    "a就是平面的法向量![images](../images/01/07.png)"
   ]
  },
  {
   "cell_type": "markdown",
   "metadata": {},
   "source": [
    "#4 多面体\n",
    "多面体是有限个半空间和超平面的交集$P=\\{x|a_j^Tx \\leq b, c_i^Tx=d_i\\}$\n",
    "- 仿射集(如超平面、直线、射线、线段、班空间都是多面体)\n",
    "- 多面体是凸集\n",
    "![images](../images/01/08.png)"
   ]
  },
  {
   "cell_type": "markdown",
   "metadata": {},
   "source": [
    "#5 保持凸性的运算"
   ]
  },
  {
   "cell_type": "markdown",
   "metadata": {},
   "source": [
    "##5.1 集合交运算"
   ]
  },
  {
   "cell_type": "markdown",
   "metadata": {},
   "source": [
    "##5.2 仿射变换\n",
    "函数$f=Ax+b,A \\in R^{m*n}, b \\in R^m$的形式，称函数是仿射的；即线性函数加常数的形式(仿射可以伸缩、平移、投影)\n",
    "\n",
    "若f是仿射变换，$f:R^n \\rightarrow R^m, f(S)=\\{f(x)|x \\in S\\}$\n",
    "- 若S为凸集，则$f(S)$为凸集\n",
    "- 若$f(S)$为凸集，则S为凸集"
   ]
  },
  {
   "cell_type": "markdown",
   "metadata": {},
   "source": [
    "##5.3 透视变换"
   ]
  },
  {
   "cell_type": "markdown",
   "metadata": {},
   "source": [
    ""
   ]
  },
  {
   "cell_type": "code",
   "execution_count": null,
   "metadata": {},
   "outputs": [],
   "source": [
    ""
   ]
  },
  {
   "cell_type": "code",
   "execution_count": null,
   "metadata": {},
   "outputs": [],
   "source": [
    ""
   ]
  },
  {
   "cell_type": "code",
   "execution_count": null,
   "metadata": {},
   "outputs": [],
   "source": [
    ""
   ]
  },
  {
   "cell_type": "code",
   "execution_count": null,
   "metadata": {},
   "outputs": [],
   "source": [
    ""
   ]
  },
  {
   "cell_type": "code",
   "execution_count": null,
   "metadata": {},
   "outputs": [],
   "source": [
    ""
   ]
  },
  {
   "cell_type": "code",
   "execution_count": 1,
   "metadata": {},
   "outputs": [],
   "source": [
    ""
   ]
  },
  {
   "cell_type": "code",
   "execution_count": null,
   "metadata": {},
   "outputs": [],
   "source": [
    ""
   ]
  }
 ],
 "metadata": {},
 "nbformat": 4,
 "nbformat_minor": 0
}