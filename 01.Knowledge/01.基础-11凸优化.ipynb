{
 "cells": [
  {
   "cell_type": "markdown",
   "metadata": {},
   "source": [
    "#1 凸优化\n",
    "$y=x^2$是一个凸函数，函数图像上位于$y=x^2$上方的区域构成凸集\n",
    "- 凸函数图像的上方区域，一定是凸集\n",
    "- 一个函数图像的上方区域为凸集，则该函数是凸函数\n",
    "![images](../images/01/06.png)"
   ]
  },
  {
   "cell_type": "markdown",
   "metadata": {},
   "source": [
    "#2 凸集\n",
    "集合C内任意两点之间的线段均在集合C内，则称集合C为凸集\n",
    "\n",
    "$\\forall{x_1,...,x_k} \\in C, \\theta_i \\in [0,1], 且\\sum_{i=1}^k\\theta_i=1,则\\sum_{i=1}^k\\theta_ix_i \\in C$"
   ]
  },
  {
   "cell_type": "markdown",
   "metadata": {},
   "source": [
    "#3 超平面和半空间\n",
    "- 超平面hyperplane:$\\{x|a^Tx=b\\}$\n",
    "- 半空间halfspace:$\\{x|a^T \\leq b\\},\\{x|a^Tx \\geq b\\}$\n",
    "\n",
    "a就是平面的法向量![images](../images/01/07.png)"
   ]
  },
  {
   "cell_type": "markdown",
   "metadata": {},
   "source": [
    "#4 多面体\n",
    "多面体是有限个半空间和超平面的交集$P=\\{x|a_j^Tx \\leq b, c_i^Tx=d_i\\}$\n",
    "- 仿射集(如超平面、直线、射线、线段、班空间都是多面体)\n",
    "- 多面体是凸集\n",
    "![images](../images/01/08.png)"
   ]
  },
  {
   "cell_type": "markdown",
   "metadata": {},
   "source": [
    "#5 保持凸性的运算"
   ]
  },
  {
   "cell_type": "markdown",
   "metadata": {},
   "source": [
    "##5.1 集合交运算"
   ]
  },
  {
   "cell_type": "markdown",
   "metadata": {},
   "source": [
    "##5.2 仿射变换\n",
    "函数$f=Ax+b,A \\in R^{m*n}, b \\in R^m$的形式，称函数是仿射的；即线性函数加常数的形式(仿射可以伸缩、平移、投影)\n",
    "\n",
    "若f是仿射变换，$f:R^n \\rightarrow R^m, f(S)=\\{f(x)|x \\in S\\}$\n",
    "- 若S为凸集，则$f(S)$为凸集\n",
    "- 若$f(S)$为凸集，则S为凸集"
   ]
  },
  {
   "cell_type": "markdown",
   "metadata": {},
   "source": [
    "##5.3 透视变换"
   ]
  },
  {
   "cell_type": "markdown",
   "metadata": {},
   "source": [
    "#6 凸优化"
   ]
  },
  {
   "cell_type": "markdown",
   "metadata": {},
   "source": [
    "##6.1 优化问题的基本形式\n",
    "目标：minimize $f_0(x), x \\in R^n$\n",
    "\n",
    "条件：subject to $$f_i(x) \\leq 0, i=1,...,m\\\\\n",
    "h_j(x)=0, j=1,...,p$$\n",
    "- 优化变量：$x \\in R^n$\n",
    "- 不等式约束：$f_i{x} \\leq 0$\n",
    "- 等式约束：$h_j(x)=0$\n",
    "- 无约束优化：$m=p=0$\n",
    "\n",
    "若干概念\n",
    "- 优化问题的域：$f(x)$和$h(x)$的定义域的交集\n",
    "- 可行点：如果x在优化问题的域上，切满足约束条件\n",
    "- 所有的可行点的集合叫做可行域\n",
    "- 最优化的值就是求$f(x)$的下确界"
   ]
  },
  {
   "cell_type": "markdown",
   "metadata": {},
   "source": [
    "##6.2 凸优化问题的基本形式\n",
    "对于上述问题如果要求\n",
    "- $f_i(x)(0 \\leq i \\leq m)$为凸函数\n",
    "- $h_j(x)(1 \\leq j \\leq p)$为仿射函数\n",
    "\n",
    "凸优化问题的重要性质\n",
    "- 可行域为凸集\n",
    "- 局部最优解即为全局最优解"
   ]
  },
  {
   "cell_type": "markdown",
   "metadata": {},
   "source": [
    "##6.3 对偶问题\n",
    "对于一般优化问题，我们可以加入参数$\\lambda, \\nu$，得到拉格朗日函数Largange:$L(x,\\lambda,\\nu) = f_0(x) + \\sum_{i=1}^m\\lambda_if_i(x) + \\sum_{j=1}^p\\nu_jh_j(x)$，可以发现，如果固定x，那么Largange函数$L(x,\\lambda,\\nu)$为关于$\\lambda$和$\\nu$的仿射函数"
   ]
  },
  {
   "cell_type": "markdown",
   "metadata": {},
   "source": [
    "###6.3.1 Largange对偶函数的下确界\n",
    "下确界：考虑一个实数集合M。如果有一个实数S，使得M中任何数都大于或等于S,那么就称S是M的一个下界。在所有那些下界中如果有一个最大的下界，就称为M的下确界\n",
    "\n",
    "$g(\\lambda,\\nu)=inf_{x \\in D}L(x,\\lambda,\\nu)=inf_{x \\in D}(f_0(x) + \\sum_{i=1}^m\\lambda_if_i(x)+\\sum_{i=1}^p\\nu_ih_i(x))$，拉格朗日对偶函数$g(\\lambda,\\nu)$是关于$\\lambda$和$\\nu$的凹函数\n",
    "\n",
    "- 对于$\\forall \\lambda \\geq 0, \\forall \\nu$，若原优化问题有最优解$p^*$，则$g(\\lambda, \\nu) \\leq p^*$"
   ]
  },
  {
   "cell_type": "markdown",
   "metadata": {},
   "source": [
    "###6.3.2 举例说明\n",
    "条件:$Ax=b$，目标是求$minimize:x^Tx, x \\in R^n$\n",
    "\n",
    "解：求得拉格朗日函数为$L(x,\\nu)=x^Tx+\\nu^T(Ax-b)$，对于x求偏导，可以消掉x，然后带入结果，就可以得到拉格朗日函数的对偶函数\n",
    "\n",
    "$\\frac{\\partial{L}}{\\partial{x}}=\\frac{\\partial{(x^Tx+\\nu^T(Ax-b))}}{\\partial{x}}=2x+A^T\\nu$，令其为0，则有\n",
    "$x^*=-\\frac{1}{2}A^T\\nu$，将结果带入拉格朗日函数，则可以得到拉格朗日的对偶函数如下：\n",
    "\n",
    "$g(\\nu)=(-\\frac{1}{2}A^T\\nu)^T \\bullet (-\\frac{1}{2}A^T\\nu) + \\nu^T(A(-\\frac{1}{2}A^T\\nu)-b)=-\\frac{1}{4}\\nu^TAA^\\nu-\\nu^Tb$，因为对偶函数一定是凹函数，所以可以求的其最大值，有\n",
    "\n",
    "$\\frac{\\partial{g}}{\\partial{\\nu}}=\\frac{\\partial{-\\frac{1}{4}\\nu^TAA^\\nu-\\nu^Tb}}{\\partial{\\nu}}=-\\frac{1}{2}AA^T\\nu-b=0 \\Rightarrow AA^T\\nu = -2b$，两边同时乘以$A^T$，$\\Rightarrow A^TAA^T\\nu=-2A^Tb, \\Rightarrow -\\frac{1}{2}A^T\\nu=(A^TA)^{-1}A^Tb, \\therefore x^*=(A^TA)^{-1}A^Tb$，这个跟线性回归最小二乘法求得的结果是一样的，所以线性回归问题具有强对偶性"
   ]
  },
  {
   "cell_type": "markdown",
   "metadata": {},
   "source": [
    "#7 强对偶条件\n",
    "若要对偶函数的最大值即为原问题的最小值，需要满足一些条件，我们知道$$f_0(x^*)=g(\\lambda^*, \\nu^*)=inf_x[f_0(x) + \\sum_{i=1}^m\\lambda_i^*f_i(x) + \\sum_{i=1}^p\\nu_i^*h_i(x)]\\\\\n",
    "\\leq f_0(x^*) + \\sum_{i=1}^m\\lambda_i^*f_i(x) + \\sum_{i=1}^p\\nu_i^*h_i(x)\\\\\n",
    "\\leq f_0(x^*)$$\n",
    "\n",
    "就有KKT(Karush-Kuhn-Tucker)条件\n",
    "$$\\begin{cases}\n",
    "f_i(x^*) \\leq 0 &i=1,...,m\\\\\n",
    "h_i(x^*) = 0 & i=1,...,p\\\\\n",
    "\\lambda_i^* \\geq 0 & i=1,...,m\\\\\n",
    "\\lambda_i^*f_i(x^*) = 0 & i=1,...,m\\\\\n",
    "\\nabla{f_0(x^*)} + \\sum_{i=1}^m\\lambda_i^*\\nabla{f_i(x^*)} + \\sum_{i=1}^p\\nu_i^*\\nabla{h_i(x^*)}=0\n",
    "\\end{cases}$$"
   ]
  }
 ],
 "metadata": {},
 "nbformat": 4,
 "nbformat_minor": 0
}