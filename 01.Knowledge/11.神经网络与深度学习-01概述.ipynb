{
 "cells": [
  {
   "cell_type": "markdown",
   "metadata": {},
   "source": [
    "# 深度学习"
   ]
  },
  {
   "cell_type": "markdown",
   "metadata": {},
   "source": [
    "#1 概述与架构图\n",
    "![images](images/DeepLearning/01.png)"
   ]
  },
  {
   "cell_type": "markdown",
   "metadata": {},
   "source": [
    "##1.1 传统的机器学习与深度学习的区别\n",
    "传统的机器学习流程是：\n",
    "- 数据预处理:归一化、降维和去噪\n",
    "- 特征提取:人为的找到一种模式，对数据进行一种提炼。图像：SIFT、LBP、Fisher、Gabor、Hog。语言：MFCC、小波、Word2Vec\n",
    "- 选择分类器:包括SVM、决策树、随机森林、贝叶斯网络、线性回归或者聚类"
   ]
  },
  {
   "cell_type": "markdown",
   "metadata": {},
   "source": [
    "深度学习的流程是：\n",
    "- 数据准备\n",
    "- 设计模型：CNN、RNN或CNN+RNN\n",
    "- 训练：调结构、损失函数、训练参数\n",
    "\n",
    "CNN：卷积神经网络"
   ]
  },
  {
   "cell_type": "markdown",
   "metadata": {},
   "source": [
    "##1.2 深度学习的应用\n",
    "指挥交通、预测股票、诊断疾病、写小说、编笑话、打游戏、心理咨询、买菜砍价\n",
    "![images](images/DeepLearning/02.png)"
   ]
  },
  {
   "cell_type": "markdown",
   "metadata": {},
   "source": [
    "#2 基本概念与流程\n",
    "![images](images/DeepLearning/03.png)\n",
    "其中x是输入，w是权重,我们的目的是要计算出来w，来最好的拟合x，使得损失函数最小。\n",
    "\n",
    "计算损失函数的方向是前向传播.根据损失函数来更新w的过程，叫做反向传播。一旦损失函数不会在下降了，那么w就调整好了\n",
    "\n",
    "一般分为三个过程：\n",
    "- 前向传播：根据x，w计算出损失函数Loss\n",
    "- 反向传播：根据Loss，计算出w，看看每个w对于最终的Loss产生多大的贡献\n",
    "- 调整w，使得Loss最小\n",
    "\n",
    "这就是神经网络基本的流程"
   ]
  },
  {
   "cell_type": "markdown",
   "metadata": {},
   "source": [
    "![images](images/DeepLearning/04.png)\n",
    "神经网络的结构，其中圆圈代表神经元，粉色或蓝色的叫做层次。所以神经网络是由层堆叠而成，每个层都有若干神经元，层与层之间通过全连接进行连接。连接代表的是权重参数，中间的层叫做隐层。可以看出这里就相当于多个线性分类组合在一起。"
   ]
  }
 ],
 "metadata": {},
 "nbformat": 4,
 "nbformat_minor": 0
}