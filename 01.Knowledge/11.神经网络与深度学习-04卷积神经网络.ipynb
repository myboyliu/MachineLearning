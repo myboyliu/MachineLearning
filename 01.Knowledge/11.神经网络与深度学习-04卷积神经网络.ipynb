{
 "cells": [
  {
   "cell_type": "markdown",
   "metadata": {},
   "source": [
    "# 卷积神经网络"
   ]
  },
  {
   "cell_type": "markdown",
   "metadata": {},
   "source": [
    "#1 链式法则的计算\n",
    "如果有$y=f(x),z=g(y)$，那么就有$\\frac{\\partial{z}}{\\partial{x}}=\\frac{\\partial{z}}{\\partial{y}} \\bullet \\frac{\\partial{y}}{\\partial{x}}$"
   ]
  },
  {
   "cell_type": "markdown",
   "metadata": {},
   "source": [
    "#2 神经网络中链式法则\n",
    "![images](images/DeepLearning/08.png)\n",
    "$\\frac{\\partial{Loss}}{\\partial{m_i}}=\\frac{\\partial{Loss}}{\\partial{y_i}} \\bullet \\frac{\\partial{y_i}}{\\partial{m_i}}=\\Delta{y_i} \\bullet \\frac{\\partial{y_i}}{\\partial{m_i}}$\n",
    "\n",
    "$\\Delta{y_i}=\\Delta{x_{i+1}}\\frac{\\partial{x_{i+1}}}{\\partial{y_i}}=\\Delta{y_{i+1}} \\bullet \\frac{\\partial{y_{i+1}}}{\\partial{x_{i+1}}} \\bullet \\frac{\\partial{x_{i+1}}}{\\partial{y_i}}$"
   ]
  },
  {
   "cell_type": "markdown",
   "metadata": {},
   "source": [
    "##2.1 例子1:$f(x,y,z)=(x+y)*z$"
   ]
  },
  {
   "cell_type": "markdown",
   "metadata": {},
   "source": [
    "![images](images/DeepLearning/09.png)\n",
    "我们的目标是求$\\frac{\\partial{f}}{\\partial{x}},\\frac{\\partial{f}}{\\partial{y}},\\frac{\\partial{f}}{\\partial{z}}$\n",
    "\n",
    "解：$\\frac{\\partial{f}}{\\partial{x}}=\\frac{\\partial{f}}{\\partial{(x+y)}} \\bullet \\frac{\\partial{(x+y)}}{\\partial{x}}=z * 1 = -2.00 * 1 = -2.00$\n",
    "\n",
    "$\\frac{\\partial{f}}{\\partial{y}}=\\frac{\\partial{f}}{\\partial{(x+y)}} \\bullet \\frac{\\partial{(x+y)}}{\\partial{y}}=z * 1 = -2.00 * 1 = -2.00$\n",
    "\n",
    "$\\frac{\\partial{f}}{\\partial{z}}=x+y=3.00 + 1.00 = 4$"
   ]
  },
  {
   "cell_type": "markdown",
   "metadata": {},
   "source": [
    "##2.2 例子2:$f(x,y,w)=\\frac{1}{e^{-[(x_1+x_2)w+max(y_1,y_2)]}}$"
   ]
  },
  {
   "cell_type": "markdown",
   "metadata": {},
   "source": [
    "![images](images/DeepLearning/10.png)我们的目标是求$\\frac{\\partial{f}}{\\partial{x}},\\frac{\\partial{f}}{\\partial{y}},\\frac{\\partial{f}}{\\partial{w}}$\n",
    "\n"
   ]
  },
  {
   "cell_type": "markdown",
   "metadata": {},
   "source": [
    "#3 卷积神经网络-卷积层"
   ]
  },
  {
   "cell_type": "markdown",
   "metadata": {},
   "source": [
    "##3.1 卷积层 Convolutional Layer"
   ]
  },
  {
   "cell_type": "markdown",
   "metadata": {},
   "source": [
    "##3.1.1 构成\n",
    "卷积神经网络的基本结构是有多个卷积核组合形成的，每个卷积核同输入数据卷积运算，形成新的特征\"图\""
   ]
  },
  {
   "cell_type": "markdown",
   "metadata": {},
   "source": [
    "###3.1.2 计算\n",
    "![images](images/DeepLearning/11.png)\n",
    "比如我们有一张32*32*3的图(长32，宽32，RGB位图)以及一个5*5*3的卷积核，那么计算完成之后就会得到一个28*28*1的结果。这是因为将卷积核放入图片的左上角对其，卷积核中心位置的坐标是(2,2)，那么放到图片上也是(2,2)，同理，如果放入图片右上角对其，其中心点坐标是(29,2)，如果放入左下角，中心点就是(2,29)，如果放入右下角，中心点就是(29,29)，所以最后的结果就是28*28的图片。卷积核的RGB位数一定等于输入图片的RGB位数，也就是说一个卷积核会得到一层厚度，N个卷积核就会得到N层厚度![images](images/DeepLearning/12.png)，如果有6个卷积核，那么就会得到一个6层厚度的特征激励图"
   ]
  },
  {
   "cell_type": "code",
   "execution_count": null,
   "metadata": {},
   "outputs": [],
   "source": [
    ""
   ]
  },
  {
   "cell_type": "code",
   "execution_count": null,
   "metadata": {},
   "outputs": [],
   "source": [
    ""
   ]
  },
  {
   "cell_type": "code",
   "execution_count": null,
   "metadata": {},
   "outputs": [],
   "source": [
    ""
   ]
  },
  {
   "cell_type": "code",
   "execution_count": null,
   "metadata": {},
   "outputs": [],
   "source": [
    ""
   ]
  },
  {
   "cell_type": "code",
   "execution_count": null,
   "metadata": {},
   "outputs": [],
   "source": [
    ""
   ]
  },
  {
   "cell_type": "code",
   "execution_count": null,
   "metadata": {},
   "outputs": [],
   "source": [
    ""
   ]
  }
 ],
 "metadata": {},
 "nbformat": 4,
 "nbformat_minor": 0
}