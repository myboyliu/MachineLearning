{
 "cells": [
  {
   "cell_type": "markdown",
   "metadata": {},
   "source": [
    "# 主题模型LDA"
   ]
  },
  {
   "cell_type": "markdown",
   "metadata": {},
   "source": [
    "#1 朴素贝叶斯的问题\n",
    "朴素贝叶斯可以胜任很多的文本分类问题，但是无法解决语料中一词多义和多词一义的问题，他更像词法分析，而非语义分析。可以增加主题方式，一定程度的解决上述问题"
   ]
  },
  {
   "cell_type": "markdown",
   "metadata": {},
   "source": [
    "#2 共轭先验分布\n",
    "由于X为给定样本，P(x)有时被称为“证据”，仅仅是归一化因子，如果不关心$P(\\theta|x)$的具体值，只考察$\\theta$取何值时后验概率P(\\theta|x)最大，则可将分母省去$P(\\theta|x)=\\frac{P(x|\\theta)P(\\theta)}{P(x)} \\propto P(x|\\theta)P(\\theta)$\n",
    "\n",
    "在贝叶斯概率理论中，如果后验概率$P(\\theta|x)$和先验概率$p(\\theta)$满足同样的分布律，那么，先验分布和后验分布被叫做共轭分布， 同时，先验分布叫做似然函数的共轭先验分布"
   ]
  },
  {
   "cell_type": "markdown",
   "metadata": {},
   "source": [
    "##2.1 举例说明\n",
    "投掷一个非均匀硬币，可以使用参数为$\\theta$的伯努利模型，$\\theta$为硬币为正面的概率，那么结果x的分布形式为:$P(x|\\theta)=\\theta^x \\bullet (1-\\theta)^{1-x}$\n",
    "\n",
    "那么我们设$P(x|\\theta)=\\theta^x(1-\\theta)^{1-x}, P(\\theta|\\alpha,\\beta)=\\frac{1}{B(\\alpha,\\beta)}\\theta^{\\alpha-1}(1-\\theta)^{\\beta-1}$，那么$P(\\theta|x)=\\frac{P(x|\\theta)P(\\theta)}{P(x)} \\propto P(x|\\theta)P(\\theta)=\\theta^x(1-\\theta)^{1-x} \\bullet \\frac{1}{B(\\alpha,\\beta)}\\theta^{\\alpha-1}(1-\\theta)^{\\beta-1} \\propto \\theta^x(1-\\theta)^{1-x} \\bullet \\theta^{\\alpha-1}(1-\\theta)^{\\beta-1}=\\theta^{x+\\alpha-1}(1-\\theta)^{(1-x+\\beta)-1}$\n",
    "\n",
    "后验概率是参数为$(x+\\alpha,1-x+\\beta)$的$\\beta$分布，即:伯努利分布/二项分布的共轭先验是$\\beta$分布"
   ]
  },
  {
   "cell_type": "markdown",
   "metadata": {},
   "source": [
    "多项分布的共轭先验分布为Dirichlet分布"
   ]
  },
  {
   "cell_type": "markdown",
   "metadata": {},
   "source": [
    "#3 LDA\n",
    "- 共有m篇文章，一共涉及了K个主题;\n",
    "- 每篇文章(长度为$N_m$)都有各自的主题分布，主题分布是多项分布，该多项分布的参数服从Dirichlet分布，该Dirichlet分布的参数为$\\alpha$\n",
    "- 每个主题都有各自的词分布，词分布为多项分布，该多项分布的参数服从Dirichlet分布，该Dirichlet分布的参数为$\\beta$;\n",
    "- 对于某篇文章中的第n个词，首先从该文章的主题分布中采样一个主题，然后在这个主题对应的词分布中采样一个词。不断重复这个随机生成过程，直到m篇文章全部完成上述过程。"
   ]
  },
  {
   "cell_type": "code",
   "execution_count": null,
   "metadata": {},
   "outputs": [],
   "source": [
    ""
   ]
  }
 ],
 "metadata": {},
 "nbformat": 4,
 "nbformat_minor": 0
}