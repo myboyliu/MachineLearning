{
 "cells": [
  {
   "cell_type": "markdown",
   "metadata": {},
   "source": [
    "# 常见概率分布\n",
    "对于连续型变量，我们求概率密度函数，对于离散型变量，我门求概率分布律\n"
   ]
  },
  {
   "cell_type": "markdown",
   "metadata": {},
   "source": [
    "#1 离散型分布之伯努利分布-Bernouli\n",
    "伯努利分布是一种离散分布,有两种可能的结果。1表示成功，出现的概率为p(其中0<p<1)。0表示失败，出现的概率为q=1-p,最常见的例子就是只抛一次硬币的概率，就符合伯努利分布\n",
    "$$ \n",
    "P_n=\\begin{cases} \n",
    "1-p, & n=0 \\\\ \n",
    "p, & n=1\n",
    "\\end{cases} \n",
    "$$\n",
    "该分布研究的是一种特殊的实验，这种实验只有两个结果要么成功要么失败，且每次实验是独立的并每次实验都有固定的成功概率p。\n",
    "\n",
    "概率公式$f(x)=p^x(1-p)^{1-x},x\\in(0,1)$\n",
    "\n",
    "期望就是$E(X)=\\sum_{i=0}^1x_if(x_i)=1*p+0*(1-p)=p$\n",
    "\n",
    "方差就是$D(X)=E(x^2)-[E(x)]^2=x_1^2f(x_1^2)+x_0^2f(x_0^2)-p^2=1^2*p+0^2(1-p)-p^2=p(1-p)$\n"
   ]
  },
  {
   "cell_type": "markdown",
   "metadata": {},
   "source": [
    "#2 离散型分布之二项分布\n",
    "二项分布就是重复n次的伯努利分布，典型的问题就是随机扔N次硬币，0次正面，1次正面，2次正面，3次正面，4次正面，5次正面...N次正面的概率，组成二项概率分布,可以知道n=1的时候，就是伯努利分布\n",
    "![images](images/01/02.png)\n",
    "假设有随机变量X，表示n次进行实验次数，其中每次成功的概率为P,那么n次中有K次成功的概率，就是$P(X=K)=C_n^K*P^K*(1-P)^{n-K}$\n",
    "当正面的概率越小的时候，整个曲线会向左偏离，同理，如果正面的概率越大，就会向右偏离\n",
    "![images](images/01/03.png)\n",
    "\n",
    "期望就是$np$\n",
    "\n",
    "方差$np(1-p)$\n"
   ]
  },
  {
   "cell_type": "markdown",
   "metadata": {},
   "source": [
    "#3 离散型分布之多项式分布\n",
    "对于二项式分布和伯努利分布来说，它们都只有两个结果，要么成功，要么失败；要么是好，要么是坏；如果结果有多个，那么就变成了多项式分布，比如扔骰子\n",
    "$$ \n",
    "P(X_1=n_1,...,X_k=n_k)=\\begin{cases} \n",
    "\\frac{n!}{n_1!...n_k!}p_1^{n_1}...p_k^{n_k}, & \\sum_{i=1}^kn_i=n \\\\\n",
    "0, & otherwise\n",
    "\\end{cases} \n",
    "$$\n",
    "或者\n",
    "$$ \n",
    "P(X_1=n_1,...,X_k=n_k)=\\begin{cases} \n",
    "n!\\prod_{i=1}^k\\frac{p_i^{n_i}}{n_i!}, & \\sum_{i=1}^kn_i=n \\\\\n",
    "0, & otherwise\n",
    "\\end{cases} \n",
    "$$\n"
   ]
  },
  {
   "cell_type": "markdown",
   "metadata": {},
   "source": [
    "#4 离散型分布之泊松分布\n",
    "当二项式分布中，n趋于无穷大的时候，二项分布就变成了泊松分布\n",
    "泊松定理：设$\\lambda$是一个正整数，$p=\\frac{\\lambda}{n}$,则有$\\lim\\limits_{n\\to\\infty}C_n^K*P^K*(1-P)^{n-K}=e^{-\\lambda}\\frac{\\lambda^K}{K}$\n",
    "\n",
    "证明：$\\because p=\\frac{\\lambda}{n}$\n",
    "$\\therefore \\lim\\limits_{n\\to\\infty}P_n^k=C_n^kp^k(1-p)^{n-k}=\\lim\\limits_{n\\to\\infty}\\frac{n(n-1)...(n-k+1)}{k!}(\\frac{\\lambda}{n})^k(1-\\frac{\\lambda}{n})^{n-k}$\n",
    "\n",
    "$=\\lim\\limits_{n\\to\\infty}\\frac{\\lambda^k}{k!}[\\frac{n}{n}*\\frac{n-1}{n}*\\frac{n-2}{n}...*\\frac{n-k+1}{n}](1-\\frac{\\lambda}{n})^n(1-\\frac{\\lambda}{n})^{-k}$\n",
    "\n",
    "$=\\lim\\limits_{n\\to\\infty}\\frac{\\lambda^k}{k!}[1*(1-\\frac{1}{n})*(1-\\frac{2}{n})*...*(1-\\frac{k-1}{n})](1-\\frac{\\lambda}{n})^n(1-\\frac{\\lambda}{n})^{-k}$\n",
    "\n",
    "$=\\lim\\limits_{n\\to\\infty}\\frac{\\lambda^k}{k!}*1*(1-\\frac{\\lambda}{n})^n(1-\\frac{\\lambda}{n})^{-k}$\n",
    "\n",
    "$=\\lim\\limits_{n\\to\\infty}\\frac{\\lambda^k}{k!}*(1-\\frac{\\lambda}{n})^n*1$\n",
    "\n",
    "$=\\frac{\\lambda^k}{k!}\\lim\\limits_{n\\to\\infty}(1-\\frac{\\lambda}{n})^n$\n",
    "\n",
    "$=\\frac{\\lambda^k}{k!}\\lim\\limits_{n\\to\\infty}(1-\\frac{\\lambda}{n})^{-\\frac{n}{\\lambda}(-\\lambda)}$\n",
    "\n",
    "$=\\frac{\\lambda^k}{k!}e^{-\\lambda}$\n",
    "\n",
    "其中$\\lambda=np$,当n>=10,p<=0.1的时候，近似效果就很好了\n",
    "\n",
    "期望值：$\\lambda$\n",
    "\n",
    "方差：$\\lambda$\n"
   ]
  },
  {
   "cell_type": "code",
   "execution_count": 8,
   "metadata": {},
   "outputs": [
    {
     "data": {
      "image/png": "[encoded data removed]",
      "text/plain": [
       "<matplotlib.figure.Figure at 0x1093a9278>"
      ]
     },
     "metadata": {},
     "output_type": "display_data"
    }
   ],
   "source": [
    "import matplotlib.pyplot as plt\n",
    "x = np.random.poisson(lam=5, size=10000)\n",
    "pillar = 15\n",
    "a = plt.hist(x, bins=pillar, normed=True, range=[0, pillar], color='g', alpha=0.5)\n",
    "plt.grid()\n",
    "plt.show()"
   ]
  },
  {
   "cell_type": "markdown",
   "metadata": {},
   "source": [
    "在实际事例中，当一个随机事件，以固定的平均瞬时速率$\\lambda$(或称密度)随机且独立地出现时，那么这个事件在单位时间(面积或体积)内存现的次数或个数就近似地服从泊松分布$P(\\lambda)$\n",
    "- 某一服务设施在一定时间内到达的人数\n",
    "- 电话交换机接到呼叫的次数\n",
    "- 汽车站台的候客人数\n",
    "- 机器出现的故障数\n",
    "- 自然灾害发生的次数\n",
    "- 一块产品上的缺陷数\n",
    "- 显微镜下单位分区内的细菌分布数\n",
    "- 某放射性物质单位时间内发射出的粒子数"
   ]
  },
  {
   "cell_type": "markdown",
   "metadata": {},
   "source": [
    "#5 连续型分布之均匀分布\n",
    "设X~U(a,b)符合在a，b间的均匀分布，则其概率密度函数为$f(x)=\\begin{cases}\n",
    "\\frac{1}{b-a} & a < x < b\\\\\n",
    "0 & otherwise\n",
    "\\end{cases}$\n",
    "\n",
    "期望$E(X)=\\int_{-\\infty}^{+\\infty}xf(x)dx=\\int_a^b\\frac{1}{b-a}xdx=\\frac{a+b}{2}$\n",
    "\n",
    "方差$D(X)=E(X^2)-[E(X)]^2=\\int_a^bx^2\\frac{1}{b-a}dx-(\\frac{a+b}{2})^2=\\frac{(b-a)^2}{12}$"
   ]
  },
  {
   "cell_type": "code",
   "execution_count": 6,
   "metadata": {},
   "outputs": [
    {
     "data": {
      "image/png": "[encoded data removed]",
      "text/plain": [
       "<matplotlib.figure.Figure at 0x1093a9748>"
      ]
     },
     "metadata": {},
     "output_type": "display_data"
    }
   ],
   "source": [
    "import matplotlib.pyplot as plt\n",
    "x = np.random.rand(10000)\n",
    "t = np.arange(len(x))\n",
    "plt.hist(x, 30, color='m', alpha=0.5, label=u'均匀分布')\n",
    "# plt.plot(t, x, 'r-', label=u'均匀分布')\n",
    "plt.legend(loc='upper left')\n",
    "plt.grid()\n",
    "plt.show()"
   ]
  },
  {
   "cell_type": "markdown",
   "metadata": {},
   "source": [
    "#6 连续型分布之正态分布-高斯分布\n",
    "当$\\lambda$变得很大时，泊松分布就可以近似成正态分布，一般在工作中，大于20就可以近似的用正态分布来解决\n",
    "$f(X)=(\\frac{1}{\\sigma\\sqrt{2\\pi}})e^{\\frac{(x-\\mu)^2}{2\\sigma^2}}$\n",
    "\n",
    "期望值：$\\mu$\n",
    "\n",
    "方差$\\sigma^2$\n"
   ]
  },
  {
   "cell_type": "code",
   "execution_count": 9,
   "metadata": {
    "collapsed": true
   },
   "outputs": [
    {
     "data": {
      "image/png": "[encoded data removed]",
      "text/plain": [
       "<matplotlib.figure.Figure at 0x10efb3978>"
      ]
     },
     "metadata": {},
     "output_type": "display_data"
    }
   ],
   "source": [
    "import numpy as np\n",
    "import matplotlib as mpl\n",
    "import math\n",
    "import matplotlib.pyplot as plt\n",
    "\n",
    "mpl.rcParams['font.sans-serif'] = [u'SimHei']  #FangSong/黑体 FangSong/KaiTi\n",
    "mpl.rcParams['axes.unicode_minus'] = False\n",
    "mu = 0\n",
    "sigma = 1\n",
    "x = np.linspace(mu - 3 * sigma, mu + 3 * sigma, 51)\n",
    "y = np.exp(-(x - mu) ** 2 / (2 * sigma ** 2)) / (math.sqrt(2 * math.pi) * sigma)\n",
    "# plt.plot(x, y, 'ro-', linewidth=2)\n",
    "plt.figure(facecolor='w')\n",
    "plt.plot(x, y, 'r-', x, y, 'go', linewidth=2, markersize=8)\n",
    "plt.xlabel('X', fontsize=15)\n",
    "plt.ylabel('Y', fontsize=15)\n",
    "plt.title(u'高斯分布函数', fontsize=18)\n",
    "plt.grid(True)\n",
    "plt.show()"
   ]
  },
  {
   "cell_type": "markdown",
   "metadata": {},
   "source": [
    "#7 连续型分布之指数分布\n",
    "设随机变量X服从指数分布，那么其概率密度函数为$f(x)=\\begin{cases}\n",
    "\\frac{1}{\\theta}e^{-\\frac{x}{\\theta}} & x > 0\\\\\n",
    "0 & x < 0\n",
    "\\end{cases}, \\theta > 0$\n",
    "\n",
    "期望$E(X)=\\int_{-\\infty}^{+\\infty}xf(x)dx=\\int_0^{\\infty}x \\bullet \\frac{1}{\\theta}e^{-\\frac{x}{\\theta}}dx=\\theta$\n",
    "\n",
    "方差$D(X)=E(X^2)-[E(X)]^2=\\int_0^{\\infty}x^2 \\bullet \\frac{1}{\\theta}e^{-\\frac{x}{\\theta}}dx-{\\theta}^2={\\theta}^2$"
   ]
  },
  {
   "cell_type": "markdown",
   "metadata": {},
   "source": [
    "高斯分布和伯努利分布都是指数族分布"
   ]
  },
  {
   "cell_type": "markdown",
   "metadata": {},
   "source": [
    "![images](images/01/07.png)"
   ]
  },
  {
   "cell_type": "markdown",
   "metadata": {},
   "source": [
    "#8 连续分布之$\\beta$分布\n",
    "设随机变量X符合$\\beta$分布，那么它的概率密度函数为$f(x)=\\begin{cases}\n",
    "\\frac{1}{B(\\alpha,\\beta)}x^{\\alpha-1}(1-x)^{\\beta-1}, & x \\in [0,1]\\\\\n",
    "0, & otherwise\n",
    "\\end{cases}$，其中系数B为:$B(\\alpha,\\beta)=\\int_0^1x^{\\alpha-1}(1-x)^{\\beta-1}dx=\\frac{\\Gamma(a)\\Gamma(\\beta)}{\\Gamma(\\alpha+\\beta)}$\n",
    "\n",
    "比如我们有100个硬币，第一次实验30枚朝上，70枚朝下，我们就是它的概率为$\\theta=0.3$，第二次实验29枚朝上，71枚朝下，我们就说它的概率为$\\theta=0.29$，我们做了若干次实验，那么这个概率$\\theta$符合的分布，就是$\\beta$分布\n",
    "\n",
    "期望:$E(x)=\\int_0^1x \\bullet \\frac{1}{B(\\alpha,\\beta)}x^{\\alpha-1}(1-x)^{\\beta-1}dx=\\frac{1}{B(\\alpha,\\beta)}\\int_0^1x^{\\alpha}(1-x)^{\\beta-1}dx$\n",
    "\n",
    "$\\because B(\\alpha,\\beta)=\\int_0^1x^{\\alpha-1}(1-x)^{\\beta-1}dx=\\frac{\\Gamma(a)\\Gamma(\\beta)}{\\Gamma(\\alpha+\\beta)}, \\therefore E(x)=\\frac{B(\\alpha+1, \\beta)}{B(\\alpha, \\beta)}=\\frac{\\frac{\\Gamma(\\alpha+\\beta)}{\\Gamma(\\alpha)\\Gamma(\\beta)}}{\\frac{\\Gamma(\\alpha+\\beta+1)}{\\Gamma(\\alpha+1)\\Gamma(\\beta)}}=\\frac{\\alpha}{\\alpha+\\beta}$\n",
    "\n",
    "如果$\\alpha=\\beta=1$，那么这个就变成了从0到1的均匀分布"
   ]
  },
  {
   "cell_type": "markdown",
   "metadata": {},
   "source": [
    "#9 连续分布之Dirichlet分布\n",
    "将$\\beta$推广到高维空间，就形成了Dirichlet分布$f(\\overrightarrow{p}|\\overrightarrow{\\alpha})=\\begin{cases}\n",
    "\\frac{1}{\\delta(\\overrightarrow{\\alpha})}\\prod_{k=1}^Kp_k^{\\alpha_k-1}, & p_k \\in [0,1]\\\\\n",
    "0, & otherwise\n",
    "\\end{cases}$，简记$Dir(\\overrightarrow{p}|\\overrightarrow{\\alpha})=\\frac{1}{\\delta(\\overrightarrow{\\alpha})}\\prod_{k=1}^Kp_k^{\\alpha_k-1}$，其中$\\delta(\\overrightarrow{\\alpha})=\\frac{\\prod_{k=1}^K\\Gamma(\\alpha_k)}{\\Gamma(\\sum_{k=1}^K\\alpha_k)}$\n",
    "\n",
    "期望:$E(p_i)=\\frac{\\alpha_i}{\\sum_{k=1}^K\\alpha_k}$"
   ]
  }
 ],
 "metadata": {},
 "nbformat": 4,
 "nbformat_minor": 0
}