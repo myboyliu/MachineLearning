{
 "cells": [
  {
   "cell_type": "markdown",
   "metadata": {},
   "source": [
    "#矩阵"
   ]
  },
  {
   "cell_type": "markdown",
   "metadata": {},
   "source": [
    "#1 矩阵乘法\n",
    "A为$m*s$阶的矩阵，B为$s*n$阶的矩阵，那么$C=A*B$就是$m*n$的矩阵，其中$c_{ij}=\\sum_{k=1}^sa_{ik}b_{kj}$"
   ]
  },
  {
   "cell_type": "markdown",
   "metadata": {},
   "source": [
    "假定按照经济状况将人群分为上、中、下三个阶层，用1，2，3标识。假定当前处于某阶层只和上一代有关，即考察父代为第i阶层，则子代为第j阶层的概率。有如下状态转移矩阵:$\\begin{bmatrix}\n",
    "0.65&0.28&0.07\\\\\n",
    "0.15&0.67&0.18\\\\\n",
    "0.12&0.36&0.52\n",
    "\\end{bmatrix}$，假设在第i代的时候，三个阶层在人群中的人数分别为$\\alpha_1,\\alpha_2,\\alpha_3$，那么请问在i+1代中三个人群所占的人数。\n",
    "\n",
    "解:$\\begin{bmatrix}\n",
    "\\alpha_1\\\\\n",
    "\\alpha_2\\\\\n",
    "\\alpha_3\n",
    "\\end{bmatrix} \\bullet \\begin{bmatrix}\n",
    "0.65&0.28&0.07\\\\\n",
    "0.15&0.67&0.18\\\\\n",
    "0.12&0.36&0.52\n",
    "\\end{bmatrix}= (0.65\\alpha_1+0.15\\alpha_2+0.12\\alpha_3, 0.28\\alpha_1+0.67\\alpha_2+0.36\\alpha_3,0.07\\alpha_1+0.18\\alpha_2+0.52\\alpha_3)$"
   ]
  },
  {
   "cell_type": "markdown",
   "metadata": {},
   "source": [
    "#2 概率转移矩阵\n",
    "第n+1代中处于第j个阶层的概率为$\\pi(X_{n+1}=j)=\\sum_{i=1}^K\\pi(X_n=i) \\bullet P(X_{n+1}=j|X_n=i)$\n",
    "\n",
    "$\\Rightarrow \\pi^{n+1}=\\pi^{n} \\bullet P$，因此矩阵P即为条件概率转移矩阵，其中第i行元素标识在上一个状态为i时的分布概率，也就是说每一行元素的和为1\n",
    "初始概率分布$\\pi$对于最终的分布是没有影响的，最终的分布是矩阵的特征向量"
   ]
  },
  {
   "cell_type": "markdown",
   "metadata": {},
   "source": [
    "#3 矩阵和向量的乘法\n",
    "设A为$m * n$的矩阵，X为$n * 1$的列向量，则$AX$为$m * 1$的列向量，记作$\\overrightarrow{y}=A \\bullet \\overrightarrow{x}$\n",
    "\n",
    "换个角度，X其实可以看做是n维空间中的一个点，AX相当于将一个n为空间的点，转化到了m维空间当中。如果m=n，那么就相当于做了旋转，平移等线性变换"
   ]
  },
  {
   "cell_type": "markdown",
   "metadata": {},
   "source": [
    "#4 矩阵的秩"
   ]
  },
  {
   "cell_type": "markdown",
   "metadata": {},
   "source": [
    "##4.1 K阶子式\n",
    "在$m*n$矩阵A中，任取K行K列，不改变这$K^2$个元素在A中的次数，得到一个K阶方阵，称为矩阵A的K阶子式。显然$m*n$矩阵的K阶子式有$C_m^KC_n^K$个"
   ]
  },
  {
   "cell_type": "markdown",
   "metadata": {},
   "source": [
    "##4.2 矩阵的秩\n",
    "设在矩阵A中有一个不等于0的r阶子式D，且所有r+1阶子式(如果存在的话)全等于0，那么D称为矩阵A的最高阶非零子式，r称为矩阵A的秩，记作$R(A)=r$\n",
    "- $n*n$的可逆矩阵，秩为n\n",
    "- 可逆矩阵又称满秩矩阵\n",
    "- 矩阵的秩等于它行(列)向量组的秩\n",
    "假设有如下方程组\n",
    "$$\\begin{cases}\n",
    "a_{11}x_1+a_{12}x_2+...+a_{1n}x_n=b_1\\\\\n",
    "a_{21}x_1+a_{22}x_2+...+a_{2n}x_n=b_2\\\\\n",
    "...\\\\\n",
    "a_{m1}x_1+a_{m2}x_2+...+a_{mn}x_n=b_m\n",
    "\\end{cases}$$\n",
    "\n",
    "可以表示为$A \\bullet \\overrightarrow{x}=\\overrightarrow{b}$的形式，那么对于n元线性方程组来说，有如下性质\n",
    "- 无解的充要条件是$R(A)<R(A,b)$\n",
    "- 有唯一解的充要条件是$R(A)=R(A,b)=n$\n",
    "- 有无限多解的充要条件是R(A)=R(A,b)<n\n",
    "\n",
    "其中A是一个$m*n$的矩阵，如下\n",
    "$$\\begin{bmatrix}\n",
    "a_{11}&a_{12}&\\dots&a_{1n}\\\\\n",
    "a_{21}&a_{22}&\\dots&a_{2n}\\\\\n",
    "\\vdots&\\vdots&\\ddots&\\vdots\\\\\n",
    "a_{m1}&a_{m2}&\\dots&a_{mn}\n",
    "\\end{bmatrix}$$\n",
    "R(A)就是矩阵A的秩,R(A,b)就是如下矩阵的秩\n",
    "$$\\begin{bmatrix}\n",
    "a_{11}&a_{12}&\\dots&a_{1n}&b_1\\\\\n",
    "a_{21}&a_{22}&\\dots&a_{2n}&b_2\\\\\n",
    "\\vdots&\\vdots&\\ddots&\\vdots&\\vdots\\\\\n",
    "a_{m1}&a_{m2}&\\dots&a_{mn}&b_m\n",
    "\\end{bmatrix}$$\n",
    "推论：\n",
    "- AX=0有非零解的充要条件是$R(A)<n$\n",
    "- AX=b有解的充要条件是$R(A)=R(A,b)$"
   ]
  },
  {
   "cell_type": "markdown",
   "metadata": {},
   "source": [
    "#5 向量组等价\n",
    "向量B能由向量组$A:\\{a_1,a_2,...,a_m\\}$线性表示的充要条件是矩阵$A=(a_1,a_2,...,a_m)$的秩等于矩阵$B=(a_1,a_2,...,a_m,b)$的秩\n",
    "\n",
    "当两个向量组$A=(a_1,a_2,...,a_m)$以及$B=(b_1,b_2,...,b_n)$中的每个向量都能有另一个向量组线性表示，就称为两个向量组等价\n",
    "线性表示\n",
    "\n",
    "比如有两个向量组$A=(a_1,a_2,...,a_m)$以及$B=(b_1,b_2,...,b_n)$，如果B组能有A组线性表示，也就是说对于每个向量$b_j$，存在一个系数列表$k_{1j},k_{2j},...,k_{mj}$，使得$b_j=k_{1j}a_1+k_{2j}a_2+...+k_{mj}a_m=\\begin{bmatrix}\n",
    "a_1&a_2&\\dots&a_m\n",
    "\\end{bmatrix} \\bullet \\begin{bmatrix}\n",
    "k_{1j}\\\\\n",
    "k_{2j}\\\\\n",
    "\\vdots\\\\\n",
    "k_{mj}\n",
    "\\end{bmatrix}$"
   ]
  },
  {
   "cell_type": "markdown",
   "metadata": {},
   "source": [
    "#6 系数矩阵\n",
    "如果向量组B能有向量组A线性表示，那么就可以写出$\\overrightarrow{B}=\\overrightarrow{A} \\bullet K$，矩阵K就是系数矩阵\n",
    "$$\\begin{bmatrix}\n",
    "k_{11}&k_{12}&\\dots&k_{1n}\\\\\n",
    "k_{21}&k_{22}&\\dots&k_{2n}\\\\\n",
    "\\vdots&\\vdots&\\ddots&\\vdots\\\\\n",
    "k_{m1}&k_{m2}&\\dots&k_{mn}\n",
    "\\end{bmatrix}$$\n",
    "由此可知，若$C=A*B$，则矩阵C的列向量能由A的列向量线性表示，B即为这一表示的系数矩阵。对偶的，如果矩阵C的行向量能有B的行向量线性表示，A即为这一标识的系数矩阵\n",
    "\n",
    "向量组$B:\\{b_1,b_2,...,b_n\\}$能由向量组$A:\\{a_1,a_2,...,a_m\\}$线性表示的充要条件是矩阵$A=(a_1,a_2,...,a_m)$的秩等于矩阵$(A,B)=(a_1,a_2,...,a_m,b_1,b_2,...,b_n)$的秩，即$R(A)=R(A,B)$"
   ]
  },
  {
   "cell_type": "markdown",
   "metadata": {},
   "source": [
    "#7 正交阵\n",
    "若n阶矩阵A满足$A^TA=I$，则A为正交矩阵，简称正交阵。A是正交阵的充要条件是A的列(行)向量都要是单位向量，且两两正交。I是一个对角线为1，其余都为0的对称矩阵，也叫做单位阵。也就是说当满足以下条件时，矩阵A是正交阵\n",
    "$$\\begin{cases}\n",
    "\\alpha_i^T\\alpha_j=1 & i = j (保证是单位阵)\\\\\n",
    "\\alpha_i^T\\alpha_j=0 & i \\neq j (保证是正交的)\n",
    "\\end{cases}$$\n",
    "A是正交阵，X为向量，则$AX$称作正交变换。正交变换不改变向量长度"
   ]
  },
  {
   "cell_type": "markdown",
   "metadata": {},
   "source": [
    "#8 特征值和特征向量\n",
    "A是n阶矩阵，若数$\\lambda$和n维非0列向量X满足$AX=\\lambda{X}$，那么数$\\lambda$称为A的特征值，X称为A的对应于特征值$\\lambda$的特征向量\n",
    "\n",
    "根据定义，立刻得到$(A-\\lambda{I})X=0$，令关于$\\lambda$的多项式$|A-\\lambda{I}|=0$，方程$|A-\\lambda{I}|=0$的根为A的特征值；将根$\\lambda_0$带入方程组$(A-\\lambda{I})X=0$，求得到的非零解，即$\\lambda_0$对应的特征向量"
   ]
  },
  {
   "cell_type": "markdown",
   "metadata": {},
   "source": [
    "##8.1 特征值的性质\n",
    "设n阶矩阵$A=(a_{ij})$的特征值为$\\lambda_1,\\lambda_2,...,\\lambda_n$，则\n",
    "- $\\lambda_1+\\lambda_2+...+\\lambda_n=a_{11}+a_{22}+...+a_{nn}$\n",
    "- $\\lambda_1\\lambda_2...\\lambda_n=|A|$，称为A的迹(trace)\n",
    "\n",
    "如果$\\lambda$是方阵A的特征值，那么$\\lambda^n$就是$A^n$的特征值，如果A可逆时，$\\lambda^{-1}$是$A^{-1}$的特征值\n",
    "\n",
    "设$\\lambda_1,\\lambda_2,...,\\lambda_m$是方阵A的m个特征值，$p_1,p_2,...,p_m$是依次与之对应的特征向量，若$\\lambda_1,\\lambda_2,...,\\lambda_m$各不相等，则$p_1,p_2,...,p_m$线性无关"
   ]
  },
  {
   "cell_type": "markdown",
   "metadata": {},
   "source": [
    "#9 正定矩阵\n",
    "对于n阶方阵A，若任意n阶向量X，都有$X^TAX>0, \\forall X \\neq 0$，则称A是正定阵，如果$X^TAX \\geq 0$，则称A是半正定矩阵\n",
    "\n",
    "给定任意的$m*n$的矩阵A，$A^TA$一定是半正定方阵"
   ]
  },
  {
   "cell_type": "markdown",
   "metadata": {},
   "source": [
    "#10 QR分解\n",
    "对于$m*n$的列满秩矩阵A，必有$A_{m*n}=Q_{m*n} \\bullet R_{n*n}$，其中$Q^TQ=I$(即列正交矩阵),R为非奇异上三角矩阵。当要求R的对角线元素为正时，该分解唯一。该分解为QR分解，可用于求解矩阵A的特征值、A的逆等问题"
   ]
  },
  {
   "cell_type": "markdown",
   "metadata": {},
   "source": [
    "#10 一些性质"
   ]
  },
  {
   "cell_type": "markdown",
   "metadata": {},
   "source": [
    "##10.1 $A^TA$一定是对称矩阵\n",
    "证明:$\\because (AB)^T=B^TA^T, \\therefore (A^TA)^T=A^TA$，相当于一个矩阵的转置等于矩阵本身，那它就是对称矩阵"
   ]
  },
  {
   "cell_type": "markdown",
   "metadata": {},
   "source": [
    "##10.2 实对称阵的特征值一定是实数\n",
    "设复数$\\lambda$为对称矩阵A的特征值，复向量X为对应的特征向量，即$AX=\\lambda{X}, X \\neq 0$。用$\\overline{\\lambda}$表示$\\lambda$的共轭复数，$\\overline{X}$表示X的共轭复向量，而A是实矩阵，有$\\overline{A}=A$\n",
    "\n",
    "利用这个结论，我们将实数$\\lambda$带入方程组$(A-\\lambda{I})X=0$，该方程组为实系数方程组，因此，实对称阵的特征向量可以取实向量"
   ]
  },
  {
   "cell_type": "markdown",
   "metadata": {},
   "source": [
    "##11.3 实对称阵不同特征值的特征向量正交\n",
    "令实对称阵为A，其中两个不同的特征值为$\\lambda_1,\\lambda_2$，对应的特征向量为$\\mu_1,\\mu_2$，其中$\\lambda_1,\\lambda_2,\\mu_1,\\mu_2$都是实数和实向量\n",
    "\n",
    "证明，根据题目有$\\begin{cases}\n",
    "A\\mu_1=\\lambda_1\\mu_1\\\\\n",
    "A\\mu_2=\\lambda_2\\mu_2\n",
    "\\end{cases}$，对于等式2，两边乘以$\\mu_1^T$，有$\\mu_1^TA\\mu_2=\\mu_1^T\\lambda_2\\mu_2$\n",
    "\n",
    "$\\Rightarrow (A^T\\mu_1)^T\\mu_2=\\lambda_2\\mu_1^T\\mu_2$，由于A是对称阵，有$A^T=A$\n",
    "\n",
    "$\\Rightarrow (A\\mu_1)^T\\mu_2=\\lambda_2\\mu_1^T\\mu_2,\\because A\\mu_1=\\lambda_1\\mu_1. \\therefore (\\lambda_1\\mu_1)^T\\mu_2=\\lambda_2\\mu_1^T\\mu_2$\n",
    "\n",
    "因为$\\lambda$是一个实数，所以$\\lambda_1^T=\\lambda_1$, $\\Rightarrow \\lambda_1\\mu_1^T\\mu_2=\\lambda_2\\mu_1^T\\mu_2 \\Rightarrow (\\lambda_1-\\lambda_2)\\mu_1^T\\mu_2=0$\n",
    "\n",
    "$\\because \\lambda_1 \\neq \\lambda_2, \\therefore \\mu_1^T\\mu_2=0$，所以$\\mu_1,\\mu_2$是正交的\n",
    "\n",
    "根据这个性质，可以将一个实对称矩阵对角化\n",
    "\n",
    "如果A是一个实对称阵，其中$\\mu\\{\\mu_1,\\mu_2,...,\\mu_n\\}$是特征向量，$\\lambda\\{\\lambda_1,\\lambda_2,...,\\lambda_n\\}$是其对应的特征向量，根据定义，有$A\\mu_n=\\lambda_n\\mu_n$，则$A \\bullet \\begin{bmatrix}\n",
    "\\mu_1&\\mu_2&\\dots&\\mu_n\n",
    "\\end{bmatrix}=\\begin{bmatrix}\n",
    "\\lambda_1\\mu_1&\\lambda_2\\mu_2&\\dots&\\lambda_n\\mu_n\n",
    "\\end{bmatrix}=\\begin{bmatrix}\n",
    "\\lambda_1&\\\\\n",
    "&\\lambda_2\\\\\n",
    "&&\\ddots\\\\\n",
    "&&&\\lambda_n\n",
    "\\end{bmatrix} \\bullet \\begin{bmatrix}\n",
    "\\mu_1&\\mu_2&\\dots&\\mu_n\n",
    "\\end{bmatrix}$\n",
    "\n",
    "令$U=\\begin{bmatrix}\n",
    "\\mu_1&\\mu_2&\\dots&\\mu_n\n",
    "\\end{bmatrix}$，$\\Lambda=\\begin{bmatrix}\n",
    "\\lambda_1&\\\\\n",
    "&\\lambda_2\\\\\n",
    "&&\\ddots\\\\\n",
    "&&&\\lambda_n\n",
    "\\end{bmatrix}$，则有$AU=\\Lambda{U}, \\Rightarrow U^{-1}AU=\\Lambda$，由于U中的各个向量都是正交的，所以我们一定可以做一个标准化，使得$U^TU=I, \\therefore U^(-1)=U^T \\Rightarrow U^TAU=\\Lambda$，这样我们就将矩阵A对角化为矩阵$\\Lambda$了\n",
    "\n",
    "结论\n",
    "\n",
    "设A为n阶对称阵，则必有正交阵P，使得$P^{-1}AP=P^TAP=\\Lambda$，$\\Lambda$是以A的n个特征值为对角元的对角阵，该变换称为\"合同变换\"，A和$\\Lambda$互为合同矩阵"
   ]
  },
  {
   "cell_type": "markdown",
   "metadata": {},
   "source": [
    "##11.4 正定阵的判定\n",
    "以下三个性质是等价的\n",
    "- 对称阵A为正定阵\n",
    "- A的特征值都是正\n",
    "- A的顺序主子式大于0\n",
    "\n",
    "顺序主子式\n",
    "假设A是一个$n*n$的矩阵，那么$\\begin{bmatrix}\n",
    "a_{11}\n",
    "\\end{bmatrix}$就是一阶主子式，$\\begin{bmatrix}\n",
    "a_{11}&a_{12}\\\\\n",
    "a_{21}&a_{22}\n",
    "\\end{bmatrix}$就是二阶主子式，依次类推"
   ]
  }
 ],
 "metadata": {},
 "nbformat": 4,
 "nbformat_minor": 0
}