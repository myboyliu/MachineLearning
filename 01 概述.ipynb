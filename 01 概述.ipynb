{
 "cells": [
  {
   "cell_type": "markdown",
   "metadata": {},
   "source": [
    "#Python机器学习123"
   ]
  },
  {
   "cell_type": "markdown",
   "metadata": {},
   "source": [
    "#1. 算法分类"
   ]
  },
  {
   "cell_type": "markdown",
   "metadata": {},
   "source": [
    "##1.1 第一种算法分类\n",
    "- 有监督学习：有训练数据集。KNN、决策树、回归等等\n",
    "- 无监督学习：没有训练数据集。聚类等等\n",
    "- 半监督学习：强化学习。人学走路。"
   ]
  },
  {
   "cell_type": "markdown",
   "metadata": {},
   "source": [
    "##1.2 第二种分类方法\n",
    "###1.2.1 分类和回归\n",
    "预测算法，最终生成一个模型。预测的变量是连续型数据变量，就是回归；如果是离散型的数据变量，那就是分类。\n",
    "这里所说的变量，是表示类别的应变量，不是表示特征的因变量\n",
    "- 回归算法：线性回归、广义线性回归\n",
    "- 分类算法：逻辑回归、支持向量积、决策树"
   ]
  },
  {
   "cell_type": "markdown",
   "metadata": {},
   "source": [
    "###1.2.2 聚类"
   ]
  },
  {
   "cell_type": "markdown",
   "metadata": {},
   "source": [
    "###1.2.3 关联分析"
   ]
  },
  {
   "cell_type": "markdown",
   "metadata": {},
   "source": [
    "###1.2.4 降维"
   ]
  },
  {
   "cell_type": "markdown",
   "metadata": {},
   "source": [
    "#2. 概率基础"
   ]
  },
  {
   "cell_type": "markdown",
   "metadata": {},
   "source": [
    "##2.1 先验概率\n",
    "P(A)：事件${A_1,A_2,...,A_n}$看作是导致时间B发生的原因，在不知道事件B是否发生的情况下，它们的概率是${P(A_1),P(A_2),...,P(A_n)}$，通常称为先验概率\n"
   ]
  },
  {
   "cell_type": "markdown",
   "metadata": {},
   "source": [
    "##2.2 后验概率-条件概率\n",
    "P(A|B)：如果B已经发生，那么对A1,A2,...An发生的可能性大小P(A1|B),P(A2|B),...,P(An|B)有了新的估价\n",
    "$$P(A|B) = \\frac{P(AB)}{P(B)}$$"
   ]
  },
  {
   "cell_type": "markdown",
   "metadata": {},
   "source": [
    "##2.3 乘法公式\n",
    "- 如果A、B是两个独立的事件(A的发生不会影响B的发生),那么就有$P(AB) = P(A) * P(B)$\n",
    "- 如果A、B是两个不独立的事件(A的发生会影响B的发生),那么就有$P(AB)=P(B|A)P(A)=P(A|B)P(B)$"
   ]
  },
  {
   "cell_type": "markdown",
   "metadata": {},
   "source": [
    "比如抽奖，一共有100个人，只有10个奖，那么抽完放回抽奖箱和抽完不放回抽奖箱，是完全不一样的，前者会导致独立事件的发生，后者则会导致非独立事件的发生，设\n",
    "A：第一个人抽中奖，B：第二个人抽中奖，C：第三个人抽中奖"
   ]
  },
  {
   "cell_type": "markdown",
   "metadata": {},
   "source": [
    "解：那么就有$P(A) = 10/100 = 0.1$。如果放回抽奖箱，那么$P(B) = 10/100 = 0.1$,如果不放回抽奖箱，那么P(B)的计算就不简单了，P(B)应该是$P(B|A) + P(B|!A) = 19/99$,那么P(AB)是多少呢，如果独立，那么A、B同时中奖的概率就是$P(A) * P(B) = 0.1 * 0.1 = 0.01$，如果不独立呢，$P(AB) = P(A) * P(B|A) = 0.1 * 1/11$\n",
    "\n",
    "乘法公式的推广：\n",
    "- 独立事件：$P(A_1)P(A_2)...P(A_n)$\n",
    "- 非独立事件$P(A_1A_2...A_n)=P(A_1)P(A_2|A_1)P(A_3|A_1A_2)...P(A_n|A_1A_2...A_{n-1})$"
   ]
  },
  {
   "cell_type": "markdown",
   "metadata": {},
   "source": [
    "##2.4 加法公式\n",
    "$$P({A}\\cup{B})=P(A)+P(B)$$\n",
    "A、B两个事件互斥"
   ]
  },
  {
   "cell_type": "markdown",
   "metadata": {},
   "source": [
    "##2.5 全概率公式\n",
    "$$P(B)=P(A_1B+A_2B+...+A_nB)=\\sum_{i=1}^nP(A_iB)=\\sum_{i=1}^nP(A_i)P(B|A_i)$$\n",
    "B和A不是一个级别的东西"
   ]
  },
  {
   "cell_type": "markdown",
   "metadata": {},
   "source": [
    "设A为市场占有率,B为次品率，本例题求解的就是P(B),根据题目得到以下概率：\n",
    "\n",
    "$P(A_1) = 0.3$,$P(A_2) = 0.2,P(A_3) = 0.5$\n",
    "\n",
    "$P(B|A_1) = 0.03 ： 第一家工厂的次品率, P(B|A_2) = 0.03 ： 第二家工厂的次品率,P(B|A_3) = 0.01 ： 第三家工厂的次品率$\n",
    "\n",
    "那么$P(B) = P(A_1)P(B|A_1)+P(A_2)P(B|A_2)+P(A_3)P(B|A_3) = 0.3 * 0.03 + 0.2 * 0.03 + 0.5 * 0.01 = 0.09 + 0.06 + 0.05 = 0.2$"
   ]
  },
  {
   "cell_type": "markdown",
   "metadata": {},
   "source": [
    "#3 统计学基础"
   ]
  },
  {
   "cell_type": "markdown",
   "metadata": {},
   "source": [
    "##3.1 概述\n",
    "统计学主要分为：描述统计学，推论统计学"
   ]
  },
  {
   "cell_type": "markdown",
   "metadata": {},
   "source": [
    "##3.2 基本概念\n",
    "假设有如下数列 1，1，3，4，6，8，9，199\n",
    "- 均数：也叫平均数，算数平均数，就是所有数字的和除以数字的个数，主要考察数列的集中趋势。均值为231/7 = 33\n",
    "- 中位数：数列按照从小到大排序，然后获取中间的那个数字就是中位数，如果中间的是两个数字，那么中位数就是这两个数的平均数，主要也是考察数列的集中趋势,中位数为6\n",
    "- 众数：数列中出现最多次数的数字，众数为1\n",
    "- 极差：数列中最大的数减去最小的数。考察数列中的数的紧凑程度，极差为198\n",
    "- 中程数：数列中最大数和最小数的平均值，主要考察数列的集中趋势，中程数为99\n",
    "- 总体均值$\\mu=\\frac{\\sum_{i=1}^Nx_{i}}{N}$\n",
    "- 总体方差$\\sigma^2=\\frac{\\sum_{i=1}^N(x_{i}-\\mu)^2}{N}$\n",
    "总体方差也可以用这个公式计算$\\sigma^2=\\frac{\\sum_{i=1}^Nx_{i}^2}{N}-\\mu^2$\n",
    "所以上述队列的总体方差就是(2048+900+841+729+625+576+38416)/8=5516.875\n",
    "- 样本均值$\\overline{x}=\\frac{\\sum_{i=1}^nx_{i}}{n}$\n",
    "- 样本方差$S^2=\\frac{\\sum_{i=1}^n(x_{i}-\\overline{x})^2}{n-1}$\n",
    "样本方差使用n-1是为了保证无偏\n",
    "- 标准差$\\sigma=\\sqrt{\\sigma^2}$\n",
    "- 期望：在概率论和统计学中，数学期望(mean)（或均值，亦简称期望）是试验中每次可能结果的概率乘以其结果的总和。是最基本的数学特征之一。它反映随机变量平均取值的大小。$E(X)=E(x_1)+E(x_2)+...+E(x_n)=x_1p_2+x_2p_2+...+x_np_n=\\sum_{i=1}^nx_ip_i=\\sum_{i=1}^nx_nf(x_n)$其实就是n*p\n",
    "- 随机变量的方差：$D(X)=E[(X-E(X))^2]=E(X^2)-[E(X)]^2$描述数列集中趋势可以使用均数、中位数、众数和中程数，但是这不能分好的反应数列中的数的发散程度。"
   ]
  },
  {
   "cell_type": "markdown",
   "metadata": {},
   "source": [
    "#4. 常见概率分布\n",
    "对于连续型变量，我们求概率密度函数，对于离散型变量，我门求概率分布律"
   ]
  },
  {
   "cell_type": "markdown",
   "metadata": {},
   "source": [
    "##4.1 离散型分布之伯努利分布-Bernouli\n",
    "伯努利分布是一种离散分布,有两种可能的结果。1表示成功，出现的概率为p(其中0<p<1)。0表示失败，出现的概率为q=1-p,最常见的例子就是只抛一次硬币的概率，就符合伯努利分布\n",
    "$$ \n",
    "P_n=\\begin {cases} \n",
    "1-p, & n=0 \\\\\\ \n",
    "p, & n=1\n",
    "\\end {cases} \n",
    "$$\n",
    "该分布研究的是一种特殊的实验，这种实验只有两个结果要么成功要么失败，且每次实验是独立的并每次实验都有固定的成功概率p。"
   ]
  },
  {
   "cell_type": "markdown",
   "metadata": {},
   "source": [
    "概率公式$f(x)=p^x(1-p)^{1-x},x\\in(0,1)$"
   ]
  },
  {
   "cell_type": "markdown",
   "metadata": {},
   "source": [
    "期望就是$E(X)=\\sum_{i=0}^1x_if(x_i)=1*p+0*(1-p)=p$"
   ]
  },
  {
   "cell_type": "markdown",
   "metadata": {},
   "source": [
    "对于伯努利分布来说$E(X^2)=E(X)$，所以方差就是$p(1-p)$"
   ]
  },
  {
   "cell_type": "markdown",
   "metadata": {},
   "source": [
    "##4.2 离散型分布之二项分布\n",
    "二项分布就是重复n次的伯努利分布，典型的问题就是随机扔N次硬币，0次正面，1次正面，2次正面，3次正面，4次正面，5次正面...N次正面的概率，组成二项概率分布,可以知道n=1的时候，就是伯努利分布\n",
    "![images](images/01/23.png)"
   ]
  },
  {
   "cell_type": "markdown",
   "metadata": {},
   "source": [
    "假设有随机变量X，表示n次进行实验次数，其中每次成功的概率为P,那么n次中有K次成功的概率，就是$P(X=K)=C_n^K*P^K*(1-P)^{n-K}$\n",
    "当正面的概率越小的时候，整个曲线会向左偏离，同理，如果正面的概率越大，就会向右偏离\n",
    "![images](images/01/24.png)"
   ]
  },
  {
   "cell_type": "markdown",
   "metadata": {},
   "source": [
    "期望就是$np$"
   ]
  },
  {
   "cell_type": "markdown",
   "metadata": {},
   "source": [
    "方差$np(1-p)$"
   ]
  },
  {
   "cell_type": "markdown",
   "metadata": {},
   "source": [
    "##4.2 离散型分布之多项式分布\n",
    "对于二项式分布和伯努利分布来说，它们都只有两个结果，要么成功，要么失败；要么是好，要么是坏；如果结果有多个，那么就变成了多项式分布，比如扔骰子\n",
    "$$ \n",
    "P(X_1=n_1,...,X_k=n_k)=\\begin {cases} \n",
    "\\frac{n!}{n_1!...n_k!}p_1^{n_1}...p_k^{n_k}, & \\sum_{i=1}^kn_i=n \\\\\\ \n",
    "0, & otherwise\n",
    "\\end {cases} \n",
    "$$\n",
    "或者\n",
    "$$ \n",
    "P(X_1=n_1,...,X_k=n_k)=\\begin {cases} \n",
    "n!\\Pi_{i=1}^k\\frac{p_i^{n_i}}{n_i!}, & \\sum_{i=1}^kn_i=n \\\\\\ \n",
    "0, & otherwise\n",
    "\\end {cases} \n",
    "$$"
   ]
  },
  {
   "cell_type": "markdown",
   "metadata": {},
   "source": [
    "##4.3 离散型分布之泊松分布\n",
    "当二项式分布中，n趋于无穷大的时候，二项分布就变成了泊松分布\n",
    "泊松定理：设$\\lambda$是一个正整数，$p=\\frac{\\lambda}{n}$,则有$\\lim_{n\\to\\infty}C_n^K*P^K*(1-P)^{n-K}=e^{-\\lambda}\\frac{\\lambda^K}{K}$"
   ]
  },
  {
   "cell_type": "markdown",
   "metadata": {},
   "source": [
    "证明：\n",
    "$$\n",
    "\\begin {aligned} \n",
    "\\because {p=\\frac{\\lambda}{n}}\n",
    "\\therefore lim_{n\\to\\infty}P_n^k&=C_n^kp^k(1-p)^{n-k}=lim_{n\\to\\infty}\\frac{n(n-1)...(n-k+1)}{k!}(\\frac{\\lambda}{n})^k(1-\\frac{\\lambda}{n})^{n-k} \\\\\\\n",
    "&=lim_{n\\to\\infty}\\frac{\\lambda^k}{k!}\\frac{n(n-1)...(n-k+1)}{n^k}(1-\\frac{\\lambda}{n})^n(1-\\frac{\\lambda}{n})^{-k} \\\\\\\n",
    "&=lim_{n\\to\\infty}\\frac{\\lambda^k}{k!}[\\frac{n}{n}*\\frac{n-1}{n}*\\frac{n-2}{n}...*\\frac{n-k+1}{n}](1-\\frac{\\lambda}{n})^n(1-\\frac{\\lambda}{n})^{-k} \\\\\\\n",
    "&=lim_{n\\to\\infty}\\frac{\\lambda^k}{k!}[1*(1-\\frac{1}{n})*(1-\\frac{2}{n})*...*(1-\\frac{k-1}{n})](1-\\frac{\\lambda}{n})^n(1-\\frac{\\lambda}{n})^{-k} \\\\\\\n",
    "&=lim_{n\\to\\infty}\\frac{\\lambda^k}{k!}*1*(1-\\frac{\\lambda}{n})^n(1-\\frac{\\lambda}{n})^{-k} \\\\\\\n",
    "&=lim_{n\\to\\infty}\\frac{\\lambda^k}{k!}*(1-\\frac{\\lambda}{n})^n*1 \\\\\\\n",
    "&=\\frac{\\lambda^k}{k!}lim_{n\\to\\infty}(1-\\frac{\\lambda}{n})^n \\\\\\\n",
    "&=\\frac{\\lambda^k}{k!}lim_{n\\to\\infty}(1-\\frac{\\lambda}{n})^{-\\frac{n}{\\lambda}(-\\lambda)} \\\\\\\n",
    "&=\\frac{\\lambda^k}{k!}e^{-\\lambda}\n",
    "\\end {aligned} \n",
    "$$"
   ]
  },
  {
   "cell_type": "markdown",
   "metadata": {},
   "source": [
    "\n",
    "其中$\\lambda=np$,当n>=10,p<=0.1的时候，近似效果就很好了"
   ]
  },
  {
   "cell_type": "markdown",
   "metadata": {},
   "source": [
    "期望值：$\\lambda$"
   ]
  },
  {
   "cell_type": "markdown",
   "metadata": {},
   "source": [
    "方差：$\\lambda$"
   ]
  },
  {
   "cell_type": "markdown",
   "metadata": {},
   "source": [
    "##4.4 连续型分布之正态分布-高斯分布\n",
    "当ℷ变得很大时，泊松分布就可以近似成正态分布，一般在工作中，大于20就可以近似的用正态分布来解决\n",
    "$f(X)=(\\frac{1}{\\sigma\\sqrt{2\\pi}})e^{\\frac{(x-\\mu)^2}{2\\sigma^2}}$"
   ]
  },
  {
   "cell_type": "markdown",
   "metadata": {},
   "source": [
    "期望值：$\\mu$"
   ]
  },
  {
   "cell_type": "markdown",
   "metadata": {},
   "source": [
    "方差$\\sigma^2$"
   ]
  }
 ],
 "metadata": {},
 "nbformat": 4,
 "nbformat_minor": 0
}