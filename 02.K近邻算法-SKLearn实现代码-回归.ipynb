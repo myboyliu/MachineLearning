{
 "cells": [
  {
   "cell_type": "markdown",
   "metadata": {},
   "source": [
    "#1 使用KNN回归算法拟合随机数曲线"
   ]
  },
  {
   "cell_type": "code",
   "execution_count": 7,
   "metadata": {},
   "outputs": [
    {
     "data": {
      "image/png": "[encoded data removed]",
      "text/plain": [
       "<matplotlib.figure.Figure at 0x11dd37278>"
      ]
     },
     "metadata": {},
     "output_type": "display_data"
    }
   ],
   "source": [
    "import numpy as np\n",
    "import matplotlib.pyplot as plt\n",
    "from sklearn.neighbors import KNeighborsRegressor\n",
    "\n",
    "def xss(y, y_hat):\n",
    "    y = y.ravel()\n",
    "    y_hat = y_hat.ravel()\n",
    "    # Version 1\n",
    "    tss = ((y - np.average(y)) ** 2).sum()\n",
    "    rss = ((y_hat - y) ** 2).sum()\n",
    "    ess = ((y_hat - np.average(y)) ** 2).sum()\n",
    "    r2 = 1 - rss / tss\n",
    "    tss_list.append(tss)\n",
    "    rss_list.append(rss)\n",
    "    ess_list.append(ess)\n",
    "    ess_rss_list.append(rss + ess)\n",
    "    corr_coef = np.corrcoef(y, y_hat)[0, 1]\n",
    "    return r2, corr_coef\n",
    "\n",
    "np.random.seed(0)\n",
    "np.set_printoptions(linewidth=1000)\n",
    "N = 9\n",
    "x = np.linspace(0, 8, N) + np.random.randn(N)\n",
    "x = np.sort(x)\n",
    "y = x**2 - 4*x - 3 + np.random.randn(N)\n",
    "x.shape = -1, 1\n",
    "y.shape = -1, 1\n",
    "\n",
    "model = KNeighborsRegressor()\n",
    "model.fit(x, y)\n",
    "\n",
    "x_hat = np.linspace(x.min(), x.max(), num=10)\n",
    "x_hat.shape = -1, 1\n",
    "y_hat = model.predict(x_hat)\n",
    "\n",
    "plt.subplot(2, 2, 1)\n",
    "plt.plot(x, y, 'ro', ms=3, zorder=N)\n",
    "plt.plot(x_hat, y_hat, color='r', lw=2, label='KNN回归', alpha=0.75)\n",
    "plt.legend(loc='upper left')\n",
    "plt.grid(True)\n",
    "plt.title('KNN回归', fontsize=18)\n",
    "plt.xlabel('X', fontsize=16)\n",
    "plt.ylabel('Y', fontsize=16)\n",
    "\n",
    "plt.tight_layout(1, rect=(0, 0, 1, 0.95))\n",
    "plt.show()"
   ]
  }
 ],
 "metadata": {},
 "nbformat": 4,
 "nbformat_minor": 0
}