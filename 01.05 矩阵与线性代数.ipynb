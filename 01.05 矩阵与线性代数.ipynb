{
 "cells": [
  {
   "cell_type": "markdown",
   "metadata": {},
   "source": [
    "#矩阵与线性代数"
   ]
  },
  {
   "cell_type": "markdown",
   "metadata": {},
   "source": [
    "#1 线性代数"
   ]
  },
  {
   "cell_type": "markdown",
   "metadata": {},
   "source": [
    "##1.1 定义\n",
    "方阵的行列式\n",
    "- 1阶方阵的行列式为该元素本身\n",
    "- n阶方阵的行列式等于它的任一行(或列)的各元素与其对应的代数余子式乘积之和\n",
    "\n"
   ]
  },
  {
   "cell_type": "markdown",
   "metadata": {},
   "source": [
    "1 * 1的方阵，其行列式等于该元素本身。$A=(a_{11})$，则$|A|=a_{11}$。\n",
    "\n",
    "2 * 2的方阵，其行列式用主对角线元素乘积减去次对角线元素的乘积。$A=\\begin{bmatrix}\n",
    "a_{11}&a_{12}\\\\\n",
    "a_{21}&a_{22}\n",
    "\\end{bmatrix}$，则$|A|=a_{11}a_{22}-a_{12}a_{21}$\n",
    "\n",
    "3 * 3方阵：$A=\\begin{bmatrix}\n",
    "a_{11}&a_{12}&a_{13}\\\\\n",
    "a_{21}&a_{22}&a_{23}\\\\\n",
    "a_{31}&a_{32}&a_{33}\n",
    "\\end{bmatrix}$，则$|A|=a_{11}a_{22}a_{33}+a_{12}a_{23}a_{31}+a_{13}a_{21}a_{32}-a_{11}a_{23}a_{32}-a_{12}a_{21}a_{33}-a_{13}a_{22}a_{31}$"
   ]
  },
  {
   "cell_type": "markdown",
   "metadata": {},
   "source": [
    "##1.2 代数余子式\n",
    "在一个n阶行列式A中，把(i,j)元素$a_{ij}$所在的第i行和第j列划去后，留下的n-1阶方阵的行列式叫做元素$a_{ij}$的余子式，记作$M_{ij}$，$A_{ij}=(-1)^{i+j}M_{ij}$"
   ]
  },
  {
   "cell_type": "markdown",
   "metadata": {},
   "source": [
    "$A=\\begin{bmatrix}\n",
    "a_{11}&a_{12}&a_{13}\\\\\n",
    "a_{21}&a_{22}&a_{23}\\\\\n",
    "a_{31}&a_{32}&_{33}\n",
    "\\end{bmatrix}$，$\\begin{cases}\n",
    "\\forall 1 \\leq j \\leq n, |A|=\\sum_{i=1}^na_{ij} \\bullet (-1)^{i+j}M_{ij}\\\\\n",
    "\\forall 1 \\leq i \\leq n, |A|=\\sum_{j=1}^na_{ij} \\bullet (-1)^{i+j}M_{ij}\n",
    "\\end{cases}$，$|A|=a_{11}a_{22}a_{33}+a_{12}a_{23}a_{31}+a_{13}a_{21}a_{32}-a_{11}a_{23}a_{32}-a_{12}a_{21}a_{33}-a_{13}a_{22}a_{31}$"
   ]
  },
  {
   "cell_type": "markdown",
   "metadata": {},
   "source": [
    "##1.3 伴随矩阵\n",
    "对于n*n方阵的任意元素$a_{ij}$都有各自的代数余子式$A_{ij}=(-1)^{i+j}M_{ij}$，则可有构成n*n的方阵$A^*=\\begin{bmatrix}\n",
    "A_{11}&A_{21}&\\dots&A_{n1}\\\\\n",
    "A_{12}&A_{22}&\\dots&A_{n2}\\\\\n",
    "\\vdots&\\vdots&\\ddots&\\vdots\\\\\n",
    "A_{1n}&A_{2n}&\\dots&A_{nn}\n",
    "\\end{bmatrix}$，$A^*$称为A的伴随矩阵，注意$A_{ij}$位于$A^*$的第j列第i行\n",
    "\n",
    "则有性质$|A|=A_{ii}A_{ii}^*$，$I=\\frac{AA^*}{|A|}$，$A^{-1}=\\frac{A^*}{|A|}$"
   ]
  },
  {
   "cell_type": "markdown",
   "metadata": {},
   "source": [
    "##1.4 范德蒙行列式Vandermonde\n",
    "$D_n=\\begin{vmatrix}\n",
    "1&1&\\dots&1\\\\\n",
    "x_1&x_2&\\dots&x_n\\\\\n",
    "\\vdots&\\vdots&\\ddots&\\vdots\\\\\n",
    "x_1^{n-1}&x_2^{n-1}&\\vdots&x_n^{n-1}\n",
    "\\end{vmatrix}$，$\\forall x_i \\neq x_j$，那么$D_n=\\prod_{i,j(n \\geq i > j \\geq 1)}(x_i-x_j) \\neq 0$，由于$D_n \\neq 0$，那么它一定是有逆的"
   ]
  },
  {
   "cell_type": "markdown",
   "metadata": {},
   "source": [
    "假设有一个函数关系，其上由n个点，坐标为$(x_1,y_1), (x_2,y_2),...,(x_n,y_n)$，那么一定有一个最高阶为n-1次的函数，可以经过这些点。$f(x)=\\alpha_0+\\alpha_1X+\\alpha_2X^2+...+\\alpha_nX^{n-1}$。用方程表示如下：\n",
    "$$\\begin{cases}\n",
    "\\alpha_0+\\alpha_1x_1+\\alpha_2x_1^2+...+\\alpha_{n-1}x_1^{n-1}=y_1\\\\\n",
    "\\alpha_0+\\alpha_1x_2+\\alpha_2x_2^2+...+\\alpha_{n-1}x_2^{n-1}=y_2\\\\\n",
    "...\\\\\n",
    "\\alpha_0+\\alpha_1x_n+\\alpha_2x_n^2+...+\\alpha_{n-1}x_n^{n-1}=y_n\\\\\n",
    "\\end{cases}$$\n",
    "\n",
    "可以用矩阵表示如下:\n",
    "$$\\begin{bmatrix}\n",
    "1&x_1&x_1^2&\\dots&x_1^{n-1}\\\\\n",
    "1&x_2&x_2^2&\\dots&x_2^{n-1}\\\\\n",
    "\\vdots&\\vdots&\\ddots&\\vdots\\\\\n",
    "1&x_n&x_n^2&\\dots&x_n^{n-1}\n",
    "\\end{bmatrix}\\begin{bmatrix}\n",
    "\\alpha_0\\\\\n",
    "\\alpha_1\\\\\n",
    "\\vdots\\\\\n",
    "\\alpha_{n-1}\\\\\n",
    "\\end{bmatrix}=\\begin{bmatrix}\n",
    "y_1\\\\\n",
    "y_2\\\\\n",
    "\\vdots\\\\\n",
    "y_n\n",
    "\\end{bmatrix}$$\n",
    "那么就有$X\\overrightarrow{\\alpha}=\\overrightarrow{Y},\\therefore \\overrightarrow{\\alpha}=X^{-1}\\overrightarrow{Y}$，由于$X=D_n^T$，所以只要$x_i \\neq x_j$，那么$\\overrightarrow{\\alpha}$就是有值的"
   ]
  },
  {
   "cell_type": "markdown",
   "metadata": {},
   "source": [
    "如果我们不做$n-1$这样的高阶函数，我们做一个$K < n$阶的函数，那么就是拟合，如果k=1，就是线性拟合.如果y是连续的，那么就是回归"
   ]
  },
  {
   "cell_type": "markdown",
   "metadata": {},
   "source": [
    "#2 矩阵"
   ]
  },
  {
   "cell_type": "markdown",
   "metadata": {},
   "source": [
    "##2.1 矩阵乘法\n",
    "A为$m*s$阶的矩阵，B为$s*n$阶的矩阵，那么$C=A*B$就是$m*n$的矩阵，其中$c_{ij}=\\sum_{k=1}^sa_{ik}b_{kj}$"
   ]
  },
  {
   "cell_type": "markdown",
   "metadata": {},
   "source": [
    "假定按照经济状况将人群分为上、中、下三个阶层，用1，2，3标识。假定当前处于某阶层只和上一代有关，即考察父代为第i阶层，则子代为第j阶层的概率。有如下状态转移矩阵:$\\begin{bmatrix}\n",
    "0.65&0.28&0.07\\\\\n",
    "0.15&0.67&0.18\\\\\n",
    "0.12&0.36&0.52\n",
    "\\end{bmatrix}$，假设在第i代的时候，三个阶层在人群中的人数分别为$\\alpha_1,\\alpha_2,\\alpha_3$，那么请问在i+1代中三个人群所占的人数。\n",
    "\n",
    "解:$\\begin{bmatrix}\n",
    "\\alpha_1\\\\\n",
    "\\alpha_2\\\\\n",
    "\\alpha_3\n",
    "\\end{bmatrix} \\bullet \\begin{bmatrix}\n",
    "0.65&0.28&0.07\\\\\n",
    "0.15&0.67&0.18\\\\\n",
    "0.12&0.36&0.52\n",
    "\\end{bmatrix}= (0.65\\alpha_1+0.15\\alpha_2+0.12\\alpha_3, 0.28\\alpha_1+0.67\\alpha_2+0.36\\alpha_3,0.07\\alpha_1+0.18\\alpha_2+0.52\\alpha_3)$"
   ]
  },
  {
   "cell_type": "markdown",
   "metadata": {},
   "source": [
    "##2.2 概率转移矩阵\n",
    "第n+1代中处于第j个阶层的概率为$\\pi(X_{n+1}=j)=\\sum_{i=1}^K\\pi(X_n=i) \\bullet P(X_{n+1}=j|X_n=i)$\n",
    "\n",
    "$\\Rightarrow \\pi^{n+1}=\\pi^{n} \\bullet P$，因此矩阵P即为条件概率转移矩阵，其中第i行元素标识在上一个状态为i时的分布概率，也就是说每一行元素的和为1"
   ]
  },
  {
   "cell_type": "markdown",
   "metadata": {},
   "source": [
    "初始概率分布$\\pi$对于最终的分布是没有影响的，最终的分布是矩阵的特征向量"
   ]
  },
  {
   "cell_type": "markdown",
   "metadata": {},
   "source": [
    "##2.3 矩阵和向量的乘法\n",
    "设A为$m * n$的矩阵，X为$n * 1$的列向量，则$AX$为$m * 1$的列向量，记作$\\overrightarrow{y}=A \\bullet \\overrightarrow{x}$\n",
    "\n",
    "换个角度，X其实可以看做是n维空间中的一个点，AX相当于将一个n为空间的点，转化到了m维空间当中。如果m=n，那么就相当于做了旋转，平移等线性变换"
   ]
  },
  {
   "cell_type": "markdown",
   "metadata": {},
   "source": [
    "##2.4 矩阵的秩"
   ]
  },
  {
   "cell_type": "markdown",
   "metadata": {},
   "source": [
    "##2.4.1 K阶子式\n",
    "在$m*n$矩阵A中，任取K行K列，不改变这$K^2$个元素在A中的次数，得到一个K阶方阵，称为矩阵A的K阶子式。显然$m*n$矩阵的K阶子式有$C_m^KC_n^K$个"
   ]
  },
  {
   "cell_type": "markdown",
   "metadata": {},
   "source": [
    "##2.4.2 矩阵的秩\n",
    "设在矩阵A中有一个不等于0的r阶子式D，且所有r+1阶子式(如果存在的话)全等于0，那么D称为矩阵A的最高阶非零子式，r称为矩阵A的秩，记作$R(A)=r$\n",
    "- $n*n$的可逆矩阵，秩为n\n",
    "- 可逆矩阵又称满秩矩阵\n",
    "- 矩阵的秩等于它行(列)向量组的秩"
   ]
  },
  {
   "cell_type": "markdown",
   "metadata": {},
   "source": [
    "假设有如下方程组\n",
    "$$\\begin{cases}\n",
    "a_{11}x_1+a_{12}x_2+...+a_{1n}x_n=b_1\\\\\n",
    "a_{21}x_1+a_{22}x_2+...+a_{2n}x_n=b_2\\\\\n",
    "...\\\\\n",
    "a_{m1}x_1+a_{m2}x_2+...+a_{mn}x_n=b_m\n",
    "\\end{cases}$$\n",
    "可以表示为$A \\bullet \\overrightarrow{x}=\\overrightarrow{b}$的形式，那么对于n元线性方程组来说，有如下性质\n",
    "- 无解的充要条件是$R(A)<R(A,b)$\n",
    "- 有唯一解的充要条件是$R(A)=R(A,b)=n$\n",
    "- 有无限多解的充要条件是R(A)=R(A,b)<n\n",
    "\n",
    "其中A是一个$m*n$的矩阵，如下\n",
    "$$\\begin{bmatrix}\n",
    "a_{11}&a_{12}&\\dots&a_{1n}\\\\\n",
    "a_{21}&a_{22}&\\dots&a_{2n}\\\\\n",
    "\\vdots&\\vdots&\\ddots&\\vdots\\\\\n",
    "a_{m1}&a_{m2}&\\dots&a_{mn}\n",
    "\\end{bmatrix}$$\n",
    "R(A)就是矩阵A的秩,R(A,b)就是如下矩阵的秩\n",
    "$$\\begin{bmatrix}\n",
    "a_{11}&a_{12}&\\dots&a_{1n}&b_1\\\\\n",
    "a_{21}&a_{22}&\\dots&a_{2n}&b_2\\\\\n",
    "\\vdots&\\vdots&\\ddots&\\vdots&\\vdots\\\\\n",
    "a_{m1}&a_{m2}&\\dots&a_{mn}&b_m\n",
    "\\end{bmatrix}$$"
   ]
  },
  {
   "cell_type": "code",
   "execution_count": null,
   "metadata": {},
   "outputs": [],
   "source": [
    ""
   ]
  },
  {
   "cell_type": "code",
   "execution_count": null,
   "metadata": {},
   "outputs": [],
   "source": [
    ""
   ]
  },
  {
   "cell_type": "code",
   "execution_count": null,
   "metadata": {},
   "outputs": [],
   "source": [
    ""
   ]
  }
 ],
 "metadata": {},
 "nbformat": 4,
 "nbformat_minor": 0
}