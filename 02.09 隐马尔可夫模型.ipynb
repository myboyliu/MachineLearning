{
 "cells": [
  {
   "cell_type": "markdown",
   "metadata": {},
   "source": [
    "# 隐马尔可夫模型"
   ]
  },
  {
   "cell_type": "markdown",
   "metadata": {},
   "source": [
    "#1 问题的引入\n",
    "##1.1 确定性的生成模式\n",
    "- 确定性的生成模式: 状态的转变是固定的，如红绿灯的变化规律，下一状态是已知的\n",
    "- 非确定的生成模式: 状态的改变却是不确定的，如根据今天的天气推测明天的天气，这个状态的变化是不明确的\n",
    "\n",
    "但是我们希望研究非确定性的生成模式，一种办法就是假设这个模型的每个状态都只依赖于前一个的状态，这个假设被称为马尔科夫假设"
   ]
  },
  {
   "cell_type": "markdown",
   "metadata": {},
   "source": [
    "#2 隐马尔可夫模型\n",
    "想要了解隐马尔可夫模型，就需要先了解马尔可夫模型"
   ]
  },
  {
   "cell_type": "markdown",
   "metadata": {},
   "source": [
    "##2.1 马尔可夫过程\n",
    "马尔可夫过程代表数学中具有马尔可夫性质的离散随机过程。在该过程中，每个状态的转移只依赖于之前的n个状态，这个过程被称为1个n阶的模型，其中n是影响转移状态的数目。最简单的马尔科夫过程就是一阶过程，每一个状态的转移只依赖于其之前的那一个状态。注意这和确定性系统不一样，因为这种转移是有概率的，而不是确定性的"
   ]
  },
  {
   "cell_type": "markdown",
   "metadata": {},
   "source": [
    "##2.2 马尔可夫链\n",
    "马尔可夫链是随机变量$X_1,X_2,...,X_n$的一个数列。这些变量的范围，即他们所有可能取值的集合，被称为“状态空间”，而$X_n$的值则是在时间n的状态。如果$X_{n+1}$对于过去状态的条件概率分布仅是$X_n$的一个函数，则$P(X_{n+1}=x|X_0,X_1,...,X_n)=P(X_{n+1}=x|X_n)$。这里x为过程中的某个状态，这个恒等式可以看作是马尔可夫性质.\n",
    "\n",
    "在马尔可夫模型中，每一个状态都是可观察的序列，是状态关于时间的随机过程，也称为可视马尔可夫模型"
   ]
  },
  {
   "cell_type": "code",
   "execution_count": null,
   "metadata": {},
   "outputs": [],
   "source": [
    ""
   ]
  },
  {
   "cell_type": "code",
   "execution_count": null,
   "metadata": {},
   "outputs": [],
   "source": [
    ""
   ]
  },
  {
   "cell_type": "code",
   "execution_count": null,
   "metadata": {},
   "outputs": [],
   "source": [
    ""
   ]
  },
  {
   "cell_type": "code",
   "execution_count": null,
   "metadata": {},
   "outputs": [],
   "source": [
    ""
   ]
  },
  {
   "cell_type": "code",
   "execution_count": null,
   "metadata": {},
   "outputs": [],
   "source": [
    ""
   ]
  },
  {
   "cell_type": "code",
   "execution_count": null,
   "metadata": {},
   "outputs": [],
   "source": [
    ""
   ]
  },
  {
   "cell_type": "code",
   "execution_count": null,
   "metadata": {},
   "outputs": [],
   "source": [
    ""
   ]
  },
  {
   "cell_type": "code",
   "execution_count": null,
   "metadata": {},
   "outputs": [],
   "source": [
    ""
   ]
  },
  {
   "cell_type": "code",
   "execution_count": null,
   "metadata": {},
   "outputs": [],
   "source": [
    ""
   ]
  }
 ],
 "metadata": {},
 "nbformat": 4,
 "nbformat_minor": 0
}