{
 "cells": [
  {
   "cell_type": "markdown",
   "metadata": {},
   "source": [
    "#岭回归"
   ]
  },
  {
   "cell_type": "markdown",
   "metadata": {},
   "source": [
    "岭回归是一种专用于共线性数据分析的有偏估计回归方法，实质上是一种改良的最小二乘估计法，通过放弃最小二乘法的无偏性，以损失部分信息、降低精度\n",
    "为代价获得回归系数更为符合实际、更可靠的回归方法，对病态数据的拟合要强于普通最小二乘法。"
   ]
  },
  {
   "cell_type": "markdown",
   "metadata": {},
   "source": [
    "我们可以做如下变化：\n",
    "$\\hat{\\Theta}(K)=(X^TX+KI)^{-1}X^Ty$\n",
    "其中I是一个单位阵，也就是一个对角线为1，其余都是0的正矩阵，K是一个系数，但是这个解不是精确解"
   ]
  },
  {
   "cell_type": "markdown",
   "metadata": {},
   "source": [
    "它的损失函数如下\n",
    "$L(\\Theta)=argmin_{\\Theta}\\{\\sum_{i=1}^m(y_i-\\sum_{j=1}^px_{ij}\\Theta_j)^2+K\\sum_{j=1}^p\\Theta_j^2\\}$这个跟普通线性回归的区别就是K的部分，K的部分叫做正则项，原来的部分叫做损失项，整个叫做结构化风险，前面的部分叫做经验性风险，我们现在的目标是要结构化风险最小"
   ]
  },
  {
   "cell_type": "code",
   "execution_count": null,
   "metadata": {},
   "outputs": [],
   "source": [
    ""
   ]
  }
 ],
 "metadata": {},
 "nbformat": 4,
 "nbformat_minor": 0
}