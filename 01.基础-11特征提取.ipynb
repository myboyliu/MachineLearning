{
 "cells": [
  {
   "cell_type": "markdown",
   "metadata": {},
   "source": [
    "#1 特征提取\n",
    "机器学习的过程包括两大部分\n",
    "- 特征提取:包括预处理、特征提取方法、维数约简、混合异构特征\n",
    "- 机器学习:包括分类器、回归器、聚类器，强化学习\n",
    "\n",
    "特征提取将输入空间整理到特征空间上"
   ]
  }
 ],
 "metadata": {},
 "nbformat": 4,
 "nbformat_minor": 0
}