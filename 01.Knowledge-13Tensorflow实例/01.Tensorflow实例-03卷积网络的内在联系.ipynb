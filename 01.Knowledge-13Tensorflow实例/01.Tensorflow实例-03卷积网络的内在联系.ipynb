{
 "cells": [
  {
   "cell_type": "markdown",
   "metadata": {
    "collapsed": true
   },
   "source": [
    "# 卷积网络的内在联系\n",
    "我们主要参考例子05-简单卷积神经网络.py这个例子"
   ]
  },
  {
   "cell_type": "markdown",
   "metadata": {},
   "source": [
    "#1 条件一"
   ]
  },
  {
   "cell_type": "markdown",
   "metadata": {},
   "source": [
    "##1.1 条件\n",
    "- 学习率learning_rate:0.001\n",
    "- 每个批次的样本数量：100\n",
    "- 批次：550\n",
    "- 优化器:AdamOptimizer\n"
   ]
  },
  {
   "cell_type": "markdown",
   "metadata": {},
   "source": [
    "##1.2 结果\n",
    "- train_loss:0.135250041\n",
    "- train_accuracy:0.959999996\n",
    "- test_loss:0.151041115\n",
    "- test_accuracy:0.958200004\n",
    "- validation_loss:0.154508842\n",
    "- validation_accuracy:0.955800002\n",
    "\n",
    "损失曲线![images](images/01.png)\n",
    "正确率曲线![images](images/02.png)"
   ]
  }
 ],
 "metadata": {
  "kernelspec": {
   "display_name": "Python 2",
   "language": "python",
   "name": "python2"
  },
  "language_info": {
   "codemirror_mode": {
    "name": "ipython",
    "version": 2
   },
   "file_extension": ".py",
   "mimetype": "text/x-python",
   "name": "python",
   "nbconvert_exporter": "python",
   "pygments_lexer": "ipython2",
   "version": "2.7.6"
  }
 },
 "nbformat": 4,
 "nbformat_minor": 0
}
