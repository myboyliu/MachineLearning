{
 "cells": [
  {
   "cell_type": "markdown",
   "metadata": {},
   "source": [
    "#1 西瓜3.0a数据的K近邻算法实现"
   ]
  },
  {
   "cell_type": "code",
   "execution_count": 9,
   "metadata": {},
   "outputs": [
    {
     "name": "stdout",
     "output_type": "stream",
     "text": [
      "Xtrain.shape: (7, 2) , Xtest.shape: (10, 2)\nYtrain.shape: (7,) , Ytest.shape: (10,)\n"
     ]
    },
    {
     "name": "stdout",
     "output_type": "stream",
     "text": [
      "Done!\nAccuracy: 100.00%\n[]\n"
     ]
    },
    {
     "data": {
      "image/png": "[encoded data removed]",
      "text/plain": [
       "<matplotlib.figure.Figure at 0x1252a4668>"
      ]
     },
     "metadata": {},
     "output_type": "display_data"
    }
   ],
   "source": [
    "import numpy as np\n",
    "import matplotlib.pyplot as plt\n",
    "import matplotlib as mpl\n",
    "import tensorflow as tf\n",
    "import pandas as pd\n",
    "from sklearn.model_selection import train_test_split\n",
    "\n",
    "dataLoad = pd.read_csv('data/watermelon30a.txt', header=None)\n",
    "x,y = dataLoad.values[:, :-1], dataLoad[2].tolist()\n",
    "y = pd.Categorical(y).codes\n",
    "\n",
    "train_x, test_x, train_y, test_y = train_test_split(x, y, train_size=0.45, random_state=123,\n",
    "                                                    stratify=y)\n",
    "\n",
    "mpl.rcParams['font.sans-serif'] = [u'SimHei']\n",
    "mpl.rcParams['axes.unicode_minus'] = False\n",
    "\n",
    "print('Xtrain.shape:', train_x.shape, ', Xtest.shape:', test_x.shape)\n",
    "print('Ytrain.shape:', train_y.shape, ', Ytest.shape:', test_y.shape)\n",
    "# \n",
    "xtrain = tf.placeholder(\"float\", [None, train_x.shape[1]])\n",
    "xtest = tf.placeholder(\"float\", [test_x.shape[1]])\n",
    "# \n",
    "distance = tf.reduce_sum(tf.abs(tf.subtract(xtrain, xtest)), axis=1)\n",
    "pred = tf.arg_min(distance, 0)\n",
    "# \n",
    "accuracy = 0\n",
    "\n",
    "init = tf.global_variables_initializer()\n",
    "\n",
    "error_list = []\n",
    "with tf.Session() as sess:\n",
    "    sess.run(init)\n",
    "    Ntest = len(test_x)\n",
    "    for i in range(Ntest):\n",
    "        nn_index = sess.run(pred, feed_dict={xtrain:train_x, xtest:test_x[i, :]})\n",
    "\n",
    "        pred_class_label = np.argmax(train_y[nn_index])\n",
    "        true_class_label = np.argmax(test_y[i])\n",
    "\n",
    "        if pred_class_label == true_class_label:\n",
    "            accuracy += 1\n",
    "        else:\n",
    "            error_list.append([pred_class_label, true_class_label, i])\n",
    "    print(\"Done!\")\n",
    "    accuracy /= Ntest\n",
    "    print(\"Accuracy: %.2f%%\" % (100 * accuracy))\n",
    "    print(error_list)\n",
    "\n",
    "    colors = [\"darkblue\",\"darkgreen\"]\n",
    "    for n, color in enumerate(colors):\n",
    "        idx = np.where(test_y == n)[0]\n",
    "        plt.scatter(test_x[idx, 0],test_x[idx, 1],c=color, s =40, label=\"Class %s\" % n)\n",
    "    plt.figure(1,2,1, facecolor='w')\n",
    "    plt.scatter(test_x[error_list, 0],test_x[error_list,1],c='darkred', s =40)\n",
    "    plt.xlabel(\"sepal width [cm]\")\n",
    "    plt.ylabel(\"petal length [cm]\")\n",
    "    plt.legend(loc=\"upper left\")\n",
    "    plt.title(\"Watermelon Classification results\")\n",
    "    plt.show()"
   ]
  },
  {
   "cell_type": "markdown",
   "metadata": {},
   "source": [
    "#2 鸢尾花数据两特征的K近邻算法分类实现"
   ]
  },
  {
   "cell_type": "code",
   "execution_count": 11,
   "metadata": {},
   "outputs": [
    {
     "name": "stdout",
     "output_type": "stream",
     "text": [
      "Xtrain.shape: (105, 2) , Xtest.shape: (45, 2)\nYtrain.shape: (105,) , Ytest.shape: (45,)\n"
     ]
    },
    {
     "name": "stdout",
     "output_type": "stream",
     "text": [
      "Done!\nAccuracy: 100.00%\n[]\n"
     ]
    }
   ],
   "source": [
    "import numpy as np\n",
    "import matplotlib.pyplot as plt\n",
    "import matplotlib as mpl\n",
    "import tensorflow as tf\n",
    "import pandas as pd\n",
    "from sklearn.model_selection import train_test_split\n",
    "\n",
    "data = pd.read_csv('data/iris.data', header=None)\n",
    "x = data.values[:, :2]\n",
    "y = pd.Categorical(data[4]).codes\n",
    "\n",
    "train_x, test_x, train_y, test_y = train_test_split(x, y, train_size=0.7, random_state=123,\n",
    "                                                    stratify=y)\n",
    "mpl.rcParams['font.sans-serif'] = [u'SimHei']\n",
    "mpl.rcParams['axes.unicode_minus'] = False\n",
    "cm_light = mpl.colors.ListedColormap(['#A0FFA0', '#FFA0A0', '#A0A0FF'])\n",
    "cm_dark = mpl.colors.ListedColormap(['g', 'r', 'b'])\n",
    "\n",
    "print('Xtrain.shape:', train_x.shape, ', Xtest.shape:', test_x.shape)\n",
    "print('Ytrain.shape:', train_y.shape, ', Ytest.shape:', test_y.shape)\n",
    "# \n",
    "xtrain = tf.placeholder(\"float\", [None, train_x.shape[1]])\n",
    "xtest = tf.placeholder(\"float\", [test_x.shape[1]])\n",
    "# \n",
    "distance = tf.reduce_sum(tf.abs(tf.add(xtrain, tf.negative(xtest))), axis=1)\n",
    "pred = tf.arg_min(distance, 0)\n",
    "# \n",
    "accuracy = 0\n",
    "\n",
    "init = tf.global_variables_initializer()\n",
    "\n",
    "error_list = []\n",
    "with tf.Session() as sess:\n",
    "    sess.run(init)\n",
    "    Ntest = len(test_x)\n",
    "    for i in range(Ntest):\n",
    "        nn_index = sess.run(pred, feed_dict={xtrain:train_x, xtest:test_x[i, :]})\n",
    "        pred_class_label = np.argmax(train_y[nn_index])\n",
    "        true_class_label = np.argmax(test_y[i])\n",
    "\n",
    "        if pred_class_label == true_class_label:\n",
    "            accuracy += 1\n",
    "        else:\n",
    "            error_list.append([pred_class_label, true_class_label, i])\n",
    "    print(\"Done!\")\n",
    "    accuracy /= Ntest\n",
    "    print(\"Accuracy: %.2f%%\" % (100 * accuracy))\n",
    "    print(error_list)"
   ]
  },
  {
   "cell_type": "markdown",
   "metadata": {},
   "source": [
    "#3 Mnist手写数字数据集的K近邻实现"
   ]
  },
  {
   "cell_type": "code",
   "execution_count": 12,
   "metadata": {},
   "outputs": [
    {
     "name": "stdout",
     "output_type": "stream",
     "text": [
      "Extracting MNIST_data/train-images-idx3-ubyte.gz\n"
     ]
    },
    {
     "name": "stdout",
     "output_type": "stream",
     "text": [
      "Extracting MNIST_data/train-labels-idx1-ubyte.gz\nExtracting MNIST_data/t10k-images-idx3-ubyte.gz\nExtracting MNIST_data/t10k-labels-idx1-ubyte.gz\n"
     ]
    },
    {
     "name": "stdout",
     "output_type": "stream",
     "text": [
      "Xtrain.shape: (5000, 784) , Xtest.shape: (200, 784)\nYtrain.shape: (5000, 10) , Ytest.shape: (200, 10)\n"
     ]
    },
    {
     "name": "stdout",
     "output_type": "stream",
     "text": [
      "Done!\nAccuracy: 93.00%\n[[1, 7, 6], [0, 8, 43], [5, 8, 55], [5, 3, 59], [7, 4, 68], [2, 8, 80], [1, 4, 91], [7, 4, 92], [7, 9, 104], [5, 9, 109], [5, 6, 167], [3, 8, 174], [1, 4, 177], [6, 5, 180]]\n3\n[6, 43, 55, 59, 68, 80, 91, 92, 104, 109, 167, 174, 177, 180]\n"
     ]
    },
    {
     "data": {
      "image/png": "[encoded data removed]",
      "text/plain": [
       "<matplotlib.figure.Figure at 0x1281f4780>"
      ]
     },
     "metadata": {},
     "output_type": "display_data"
    }
   ],
   "source": [
    "from tensorflow.examples.tutorials.mnist import input_data\n",
    "import tensorflow as tf\n",
    "import numpy as np\n",
    "import matplotlib.colors\n",
    "import matplotlib.pyplot as plt\n",
    "\n",
    "mnist = input_data.read_data_sets(\"MNIST_data/\", one_hot=True)\n",
    "\n",
    "Xtrain, Ytrain = mnist.train.next_batch(5000)\n",
    "Xtest, Ytest = mnist.test.next_batch(200)\n",
    "\n",
    "matplotlib.rcParams['font.sans-serif'] = [u'SimHei']\n",
    "matplotlib.rcParams['axes.unicode_minus'] = False\n",
    "\n",
    "print('Xtrain.shape:', Xtrain.shape, ', Xtest.shape:', Xtest.shape)\n",
    "print('Ytrain.shape:', Ytrain.shape, ', Ytest.shape:', Ytest.shape)\n",
    "\n",
    "xtrain = tf.placeholder(\"float\", [None, 784])\n",
    "xtest = tf.placeholder(\"float\", [784])\n",
    "\n",
    "distance = tf.reduce_sum(tf.abs(tf.add(xtrain, tf.negative(xtest))), axis=1)\n",
    "pred = tf.arg_min(distance, 0)\n",
    "\n",
    "accuracy = 0\n",
    "\n",
    "init = tf.global_variables_initializer()\n",
    "\n",
    "error_list = []\n",
    "with tf.Session() as sess:\n",
    "    sess.run(init)\n",
    "    Ntest = len(Xtest)\n",
    "    for i in range(Ntest):\n",
    "        nn_index = sess.run(pred, feed_dict={xtrain:Xtrain, xtest:Xtest[i, :]})\n",
    "        pred_class_label = np.argmax(Ytrain[nn_index])\n",
    "        true_class_label = np.argmax(Ytest[i])\n",
    "\n",
    "        if pred_class_label == true_class_label:\n",
    "            accuracy += 1\n",
    "        else:\n",
    "            error_list.append([pred_class_label, true_class_label, i])\n",
    "    print(\"Done!\")\n",
    "    accuracy /= Ntest\n",
    "    print(\"Accuracy: %.2f%%\" % (100 * accuracy))\n",
    "    print(error_list)\n",
    "    plt.figure(figsize=(14, 5), facecolor='w')\n",
    "\n",
    "    h_count = 6\n",
    "    v_count = int(len(error_list) / h_count + 1)\n",
    "    print(v_count)\n",
    "    errIndex = [x[2] for x in error_list]\n",
    "    # errIndex=[1,2,3,4,5,6,7,8]\n",
    "    print(errIndex)\n",
    "    index1 = 0\n",
    "    for index, image in enumerate(mnist.test.images):\n",
    "        if index in errIndex:\n",
    "            plt.subplot(v_count, h_count, index1 + 1)\n",
    "            first_image = np.array(image)\n",
    "            pixels = first_image.reshape((28, 28))\n",
    "            plt.imshow(pixels, cmap='gray')\n",
    "            plt.title(u'错分为：%i，真实值：%i' % (error_list[index1][0], error_list[index1][1]))\n",
    "            index1 += 1\n",
    "\n",
    "        if index1 >= len(errIndex):\n",
    "            break\n",
    "    plt.tight_layout()\n",
    "    plt.show()"
   ]
  },
  {
   "cell_type": "markdown",
   "metadata": {},
   "source": [
    "#4 非线性回归"
   ]
  },
  {
   "cell_type": "code",
   "execution_count": 15,
   "metadata": {},
   "outputs": [
    {
     "data": {
      "image/png": "[encoded data removed]",
      "text/plain": [
       "<matplotlib.figure.Figure at 0x131f31e80>"
      ]
     },
     "metadata": {},
     "output_type": "display_data"
    }
   ],
   "source": [
    "import numpy as np\n",
    "import matplotlib.pyplot as plt\n",
    "import matplotlib as mpl\n",
    "import tensorflow as tf\n",
    "from sklearn.model_selection import train_test_split\n",
    "\n",
    "# x_data = np.linspace(-3, 3, 10)[:,np.newaxis]\n",
    "# noise = np.random.normal(0, 0.02, x_data.shape)\n",
    "# y_data = np.sin(4 * x_data) + x_data + noise\n",
    "\n",
    "x_data = np.linspace(-0.5, 0.5, 100)[:, np.newaxis]\n",
    "noise = np.random.normal(0, 0.02, x_data.shape)\n",
    "y_data = np.square(x_data) + noise\n",
    "\n",
    "x = tf.placeholder(tf.float32, [None, 1])\n",
    "y = tf.placeholder(tf.float32, [None, 1])\n",
    "\n",
    "Weights_L1 = tf.Variable(tf.random_normal([1, 10]))\n",
    "biases_L1 = tf.Variable(tf.zeros([1,10]))\n",
    "Wx_plus_b_L1 = tf.matmul(x, Weights_L1) + biases_L1\n",
    "L1 = tf.nn.tanh(Wx_plus_b_L1)\n",
    "\n",
    "Weights_L2 = tf.Variable(tf.random_normal([10, 1]))\n",
    "biases_L2 = tf.Variable(tf.zeros([1,1]))\n",
    "Wx_plus_b_L2 = tf.matmul(L1, Weights_L2) + biases_L2\n",
    "prediction = tf.nn.tanh(Wx_plus_b_L2)\n",
    "\n",
    "loss = tf.reduce_mean(tf.square(y - prediction))\n",
    "train_step = tf.train.GradientDescentOptimizer(0.01).minimize(loss)\n",
    "\n",
    "with tf.Session() as sess:\n",
    "    sess.run(tf.global_variables_initializer())\n",
    "    for _ in range(4000):\n",
    "        sess.run(train_step, feed_dict={x:x_data, y:y_data})\n",
    "\n",
    "    prediction_value = sess.run(prediction, feed_dict={x:x_data})\n",
    "    plt.figure(facecolor='w')\n",
    "    # X_train.sort(axis=0)\n",
    "    plt.scatter(x_data, y_data)\n",
    "    plt.plot(x_data, prediction_value, 'r-', lw=5)\n",
    "    plt.show()"
   ]
  },
  {
   "cell_type": "markdown",
   "metadata": {},
   "source": [
    "#5 线性回归"
   ]
  },
  {
   "cell_type": "code",
   "execution_count": 16,
   "metadata": {},
   "outputs": [
    {
     "name": "stdout",
     "output_type": "stream",
     "text": [
      "~~~~~~~开始设计计算图~~~~~~~\n~~~~~~~设计计算图结束~~~~~~~\n~~~~~~~开启会话~~~~~~~\n"
     ]
    },
    {
     "name": "stdout",
     "output_type": "stream",
     "text": [
      "Step: 0100 train_loss= 0.249131054 W= [ 0.83408737] , b= [ 0.17165874]\n"
     ]
    },
    {
     "name": "stdout",
     "output_type": "stream",
     "text": [
      "Step: 0200 train_loss= 0.372145176 W= [ 0.89872378] , b= [ 0.26355448]\n"
     ]
    },
    {
     "name": "stdout",
     "output_type": "stream",
     "text": [
      "Step: 0300 train_loss= 0.418127120 W= [ 0.90426892] , b= [ 0.30965266]\n"
     ]
    },
    {
     "name": "stdout",
     "output_type": "stream",
     "text": [
      "Step: 0400 train_loss= 0.440072596 W= [ 0.90500557] , b= [ 0.3325597]\n"
     ]
    },
    {
     "name": "stdout",
     "output_type": "stream",
     "text": [
      "Step: 0500 train_loss= 0.451024145 W= [ 0.90521789] , b= [ 0.34392586]\n"
     ]
    },
    {
     "name": "stdout",
     "output_type": "stream",
     "text": [
      "Step: 0600 train_loss= 0.456495821 W= [ 0.90531152] , b= [ 0.34956449]\n"
     ]
    },
    {
     "name": "stdout",
     "output_type": "stream",
     "text": [
      "Step: 0700 train_loss= 0.459221303 W= [ 0.90535694] , b= [ 0.35236147]\n"
     ]
    },
    {
     "name": "stdout",
     "output_type": "stream",
     "text": [
      "Step: 0800 train_loss= 0.460576326 W= [ 0.90537953] , b= [ 0.3537491]\n"
     ]
    },
    {
     "name": "stdout",
     "output_type": "stream",
     "text": [
      "Step: 0900 train_loss= 0.461249322 W= [ 0.90539074] , b= [ 0.35443732]\n"
     ]
    },
    {
     "name": "stdout",
     "output_type": "stream",
     "text": [
      "Step: 1000 train_loss= 0.461583495 W= [ 0.9053964] , b= [ 0.35477889]\n~~~~~~~训练结束~~~~~~~\n"
     ]
    },
    {
     "data": {
      "image/png": "[encoded data removed]",
      "text/plain": [
       "<matplotlib.figure.Figure at 0x125289048>"
      ]
     },
     "metadata": {},
     "output_type": "display_data"
    }
   ],
   "source": [
    "import os\n",
    "import tensorflow as tf\n",
    "import numpy as np\n",
    "import matplotlib.pyplot as plt\n",
    "from sklearn.model_selection import train_test_split\n",
    "import matplotlib as mpl\n",
    "\n",
    "os.environ['TF_CPP_MIN_LOG_LEVEL']='2'\n",
    "mpl.rcParams['font.sans-serif'] = [u'simHei']\n",
    "mpl.rcParams['axes.unicode_minus'] = False\n",
    "\n",
    "N = 10\n",
    "N1 = 6\n",
    "x = np.linspace(-3, 3, N)\n",
    "rng = np.random.RandomState(42)\n",
    "y = np.sin(4 * x) + x + rng.uniform(size=len(x))\n",
    "\n",
    "X = x[:, np.newaxis]\n",
    "X_train, X_test, y_train, y_test = train_test_split(X, y, test_size=0.25,\n",
    "                                                    random_state=42)\n",
    "print('~~~~~~~开始设计计算图~~~~~~~')\n",
    "with tf.Graph().as_default():\n",
    "    with tf.name_scope('Input'):\n",
    "        X = tf.placeholder(tf.float32)\n",
    "        Y_true = tf.placeholder(tf.float32)\n",
    "\n",
    "    with tf.name_scope('Inference'):\n",
    "        W = tf.Variable(tf.zeros([1]))\n",
    "        b = tf.Variable(tf.zeros([1]))\n",
    "\n",
    "        # 前向预测模型 inference\n",
    "        Y_pred = tf.add(tf.multiply(X, W), b) # w * x + b\n",
    "\n",
    "    with tf.name_scope('Loss'):\n",
    "        # Loss - MSE损失   \n",
    "        TrainLoss = tf.reduce_mean(tf.pow(Y_true - Y_pred, 2)) / 2\n",
    "\n",
    "    with tf.name_scope('Train'):\n",
    "        # 反向梯度计算\n",
    "        Optimizer = tf.train.GradientDescentOptimizer(learning_rate=0.001)\n",
    "        TrainOp = Optimizer.minimize(TrainLoss)\n",
    "\n",
    "    with tf.name_scope('Evaluate'):\n",
    "        # 添加评估节点\n",
    "        EvaluteLoss = tf.reduce_mean(tf.pow(Y_true - Y_pred, 2)) / 2\n",
    "\n",
    "    InitOp = tf.global_variables_initializer()\n",
    "\n",
    "    # writer = tf.summary.FileWriter(logdir='logs', graph=tf.get_default_graph())\n",
    "    # writer.close()\n",
    "    print('~~~~~~~设计计算图结束~~~~~~~')\n",
    "    print('~~~~~~~开启会话~~~~~~~')\n",
    "    sess = tf.Session()\n",
    "    sess.run(InitOp)\n",
    "\n",
    "    for step in range(1000):\n",
    "        for tx, ty in zip(X_train, y_train):\n",
    "            _, train_loss, train_w, train_b = sess.run([TrainOp, TrainLoss, W, b], feed_dict={X:tx, Y_true:ty})\n",
    "\n",
    "        if (step + 1) % 100 == 0:\n",
    "            print(\"Step:\", \"%04d\" % (step + 1), \"train_loss=\", \"{:.9f}\".format(train_loss), \"W=\", train_w, \", b=\", train_b)\n",
    "\n",
    "    print('~~~~~~~训练结束~~~~~~~')\n",
    "    plt.plot(X_train, y_train, 'o')\n",
    "    plt.plot(X_train, train_w * X_train + train_b, 'g-', linewidth=2, label=\"1阶\")\n",
    "\n",
    "    plt.legend(loc='best')\n",
    "    plt.show()"
   ]
  },
  {
   "cell_type": "markdown",
   "metadata": {},
   "source": [
    "#6 Mnist手写数字-计算图"
   ]
  },
  {
   "cell_type": "code",
   "execution_count": 17,
   "metadata": {},
   "outputs": [
    {
     "name": "stdout",
     "output_type": "stream",
     "text": [
      "~~~~~开始设计计算图\n"
     ]
    },
    {
     "name": "stdout",
     "output_type": "stream",
     "text": [
      "~~~~~将计算图写入事件文件~~~~~\n~~~~~开始运行计算图~~~~~\n"
     ]
    },
    {
     "name": "stdout",
     "output_type": "stream",
     "text": [
      "Extracting MNIST_data/train-images-idx3-ubyte.gz\n"
     ]
    },
    {
     "name": "stdout",
     "output_type": "stream",
     "text": [
      "Extracting MNIST_data/train-labels-idx1-ubyte.gz\nExtracting MNIST_data/t10k-images-idx3-ubyte.gz\nExtracting MNIST_data/t10k-labels-idx1-ubyte.gz\n"
     ]
    },
    {
     "name": "stdout",
     "output_type": "stream",
     "text": [
      "模型准确率： 0.8714\n0.8714\n"
     ]
    },
    {
     "ename": "SystemExit",
     "evalue": "",
     "traceback": [
      "An exception has occurred, use %tb to see the full traceback.\n",
      "\u001b[0;31mSystemExit\u001b[0m\n"
     ],
     "output_type": "error"
    },
    {
     "name": "stderr",
     "output_type": "stream",
     "text": [
      "/anaconda/lib/python3.6/site-packages/IPython/core/interactiveshell.py:2889: UserWarning: To exit: use 'exit', 'quit', or Ctrl-D.\n  warn(\"To exit: use 'exit', 'quit', or Ctrl-D.\", stacklevel=1)\n"
     ]
    }
   ],
   "source": [
    "import os\n",
    "import tensorflow as tf\n",
    "from tensorflow.examples.tutorials.mnist import input_data\n",
    "import argparse\n",
    "import sys\n",
    "\n",
    "os.environ['TF_CPP_MIN_LOG_LEVEL']='2'\n",
    "\n",
    "def main(_):\n",
    "    print('~~~~~开始设计计算图')\n",
    "    with tf.Graph().as_default():\n",
    "        with tf.name_scope('Input'):\n",
    "            X = tf.placeholder(tf.float32, shape=[None, 784], name='X')\n",
    "            Y_true = tf.placeholder(tf.float32, shape=[None, 10], name='Y_true') # 10个神经元\n",
    "\n",
    "        with tf.name_scope('Inference'):\n",
    "            W = tf.Variable(tf.zeros([784, 10]), name=\"Weight\")\n",
    "            b = tf.Variable(tf.zeros([10]), name=\"Bias\")\n",
    "            logits = tf.add(tf.matmul(X, W), b)\n",
    "            with tf.name_scope('Softmax'):\n",
    "                Y_pred = tf.nn.softmax(logits=logits)\n",
    "\n",
    "        with tf.name_scope('Loss'):\n",
    "            TrainLoss = tf.reduce_mean(-tf.reduce_sum(Y_true * tf.log(Y_pred), axis=1))\n",
    "\n",
    "        with tf.name_scope('Train'):\n",
    "            Optimizer = tf.train.GradientDescentOptimizer(learning_rate=0.01)\n",
    "            TrainOp = Optimizer.minimize(TrainLoss)\n",
    "\n",
    "        with tf.name_scope('Evaluate'):\n",
    "            correct_prediction = tf.equal(tf.argmax(Y_pred, 1), tf.argmax(Y_true, 1))\n",
    "            accuracy = tf.reduce_mean(tf.cast(correct_prediction, tf.float32))\n",
    "\n",
    "        InitOp = tf.global_variables_initializer()\n",
    "        # \n",
    "        # with tf.name_scope('Evaluate'):\n",
    "        #     EvalLoss = tf.reduce_mean(tf.pow((Y_pred - Y_true), 2)) / 2\n",
    "\n",
    "        print('~~~~~将计算图写入事件文件~~~~~')\n",
    "        writer = tf.summary.FileWriter(logdir='logs/mnist_softmax', graph=tf.get_default_graph())\n",
    "        writer.close()\n",
    "        print('~~~~~开始运行计算图~~~~~')\n",
    "        mnist = input_data.read_data_sets(FLAGS.data_dir, one_hot=True)\n",
    "        sess = tf.InteractiveSession()\n",
    "        sess.run(InitOp)\n",
    "\n",
    "        for step in range(1000):\n",
    "            batch_xs, batch_ys = mnist.train.next_batch(100)\n",
    "            _, train_loss, train_W, train_b = sess.run([TrainOp, TrainLoss, W, b],\n",
    "                                                       feed_dict={X:batch_xs, Y_true: batch_ys})\n",
    "            # print(\"train step:\", step, \", train_loss:\", train_loss)\n",
    "\n",
    "        accuracy_score = sess.run(accuracy,feed_dict={X: mnist.test.images,\n",
    "                                                      Y_true: mnist.test.labels})\n",
    "        y_predd = sess.run(Y_pred,feed_dict={X: mnist.test.images,\n",
    "                                             W: train_W, b : train_b})\n",
    "        print(\"模型准确率：\", accuracy_score)\n",
    "        y_pre = sess.run(tf.argmax(y_predd, 1))\n",
    "        y_tru = sess.run(tf.argmax(mnist.test.labels, 1))\n",
    "\n",
    "        result = y_pre == y_tru\n",
    "\n",
    "        print(len(result[result == True]) / len(y_predd))\n",
    "\n",
    "if __name__ == '__main__':\n",
    "    parser = argparse.ArgumentParser()\n",
    "    #为参数解析器添加参数：data_dir(指定数据集存放路径)\n",
    "    parser.add_argument('--data_dir', type=str,\n",
    "                        default='MNIST_data/',  #参数默认值\n",
    "                        help='数据集存放路径')\n",
    "    FLAGS, unparsed = parser.parse_known_args() #解析参数\n",
    "    #运行TensorFlow应用\n",
    "    tf.app.run(main=main, argv=[sys.argv[0]] + unparsed)"
   ]
  },
  {
   "cell_type": "code",
   "execution_count": null,
   "metadata": {},
   "outputs": [],
   "source": [
    ""
   ]
  },
  {
   "cell_type": "code",
   "execution_count": null,
   "metadata": {},
   "outputs": [],
   "source": [
    ""
   ]
  }
 ],
 "metadata": {
  "kernelspec": {
   "display_name": "Python 2",
   "language": "python",
   "name": "python2"
  },
  "language_info": {
   "codemirror_mode": {
    "name": "ipython",
    "version": 2.0
   },
   "file_extension": ".py",
   "mimetype": "text/x-python",
   "name": "python",
   "nbconvert_exporter": "python",
   "pygments_lexer": "ipython2",
   "version": "2.7.6"
  }
 },
 "nbformat": 4,
 "nbformat_minor": 0
}