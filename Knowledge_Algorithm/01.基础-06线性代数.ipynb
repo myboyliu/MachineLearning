{
 "cells": [
  {
   "cell_type": "markdown",
   "metadata": {},
   "source": [
    "#矩阵与线性代数"
   ]
  },
  {
   "cell_type": "markdown",
   "metadata": {},
   "source": [
    "#1 定义\n",
    "方阵的行列式\n",
    "- 1阶方阵的行列式为该元素本身\n",
    "- n阶方阵的行列式等于它的任一行(或列)的各元素与其对应的代数余子式乘积之和\n",
    "\n",
    "\n",
    "1 * 1的方阵，其行列式等于该元素本身。$A=(a_{11})$，则$|A|=a_{11}$。\n",
    "\n",
    "2 * 2的方阵，其行列式用主对角线元素乘积减去次对角线元素的乘积。$A=\\begin{bmatrix}\n",
    "a_{11}&a_{12}\\\\\n",
    "a_{21}&a_{22}\n",
    "\\end{bmatrix}$，则$|A|=a_{11}a_{22}-a_{12}a_{21}$\n",
    "\n",
    "3 * 3方阵：$A=\\begin{bmatrix}\n",
    "a_{11}&a_{12}&a_{13}\\\\\n",
    "a_{21}&a_{22}&a_{23}\\\\\n",
    "a_{31}&a_{32}&a_{33}\n",
    "\\end{bmatrix}$，则$|A|=a_{11}a_{22}a_{33}+a_{12}a_{23}a_{31}+a_{13}a_{21}a_{32}-a_{11}a_{23}a_{32}-a_{12}a_{21}a_{33}-a_{13}a_{22}a_{31}$"
   ]
  },
  {
   "cell_type": "markdown",
   "metadata": {},
   "source": [
    "#2 代数余子式\n",
    "在一个n阶行列式A中，把(i,j)元素$a_{ij}$所在的第i行和第j列划去后，留下的n-1阶方阵的行列式叫做元素$a_{ij}$的余子式，记作$M_{ij}$，$A_{ij}=(-1)^{i+j}M_{ij}$\n",
    "$A=\\begin{bmatrix}\n",
    "a_{11}&a_{12}&a_{13}\\\\\n",
    "a_{21}&a_{22}&a_{23}\\\\\n",
    "a_{31}&a_{32}&_{33}\n",
    "\\end{bmatrix}$，$\\begin{cases}\n",
    "\\forall 1 \\leq j \\leq n, |A|=\\sum_{i=1}^na_{ij} \\bullet (-1)^{i+j}M_{ij}\\\\\n",
    "\\forall 1 \\leq i \\leq n, |A|=\\sum_{j=1}^na_{ij} \\bullet (-1)^{i+j}M_{ij}\n",
    "\\end{cases}$，$|A|=a_{11}a_{22}a_{33}+a_{12}a_{23}a_{31}+a_{13}a_{21}a_{32}-a_{11}a_{23}a_{32}-a_{12}a_{21}a_{33}-a_{13}a_{22}a_{31}$\n"
   ]
  },
  {
   "cell_type": "markdown",
   "metadata": {},
   "source": [
    "#3 伴随矩阵\n",
    "对于n*n方阵的任意元素$a_{ij}$都有各自的代数余子式$A_{ij}=(-1)^{i+j}M_{ij}$，则可有构成n*n的方阵$A^*=\\begin{bmatrix}\n",
    "A_{11}&A_{21}&\\dots&A_{n1}\\\\\n",
    "A_{12}&A_{22}&\\dots&A_{n2}\\\\\n",
    "\\vdots&\\vdots&\\ddots&\\vdots\\\\\n",
    "A_{1n}&A_{2n}&\\dots&A_{nn}\n",
    "\\end{bmatrix}$，$A^*$称为A的伴随矩阵，注意$A_{ij}$位于$A^*$的第j列第i行\n",
    "\n",
    "则有性质$|A|=A_{ii}A_{ii}^*$，$I=\\frac{AA^*}{|A|}$，$A^{-1}=\\frac{A^*}{|A|}$\n"
   ]
  },
  {
   "cell_type": "markdown",
   "metadata": {},
   "source": [
    "#4 范德蒙行列式Vandermonde\n",
    "$D_n=\\begin{vmatrix}\n",
    "1&1&\\dots&1\\\\\n",
    "x_1&x_2&\\dots&x_n\\\\\n",
    "\\vdots&\\vdots&\\ddots&\\vdots\\\\\n",
    "x_1^{n-1}&x_2^{n-1}&\\vdots&x_n^{n-1}\n",
    "\\end{vmatrix}$，$\\forall x_i \\neq x_j$，那么$D_n=\\prod_{i,j(n \\geq i > j \\geq 1)}(x_i-x_j) \\neq 0$，由于$D_n \\neq 0$，那么它一定是有逆的\n"
   ]
  },
  {
   "cell_type": "markdown",
   "metadata": {},
   "source": [
    "假设有一个函数关系，其上由n个点，坐标为$(x_1,y_1), (x_2,y_2),...,(x_n,y_n)$，那么一定有一个最高阶为n-1次的函数，可以经过这些点。$f(x)=\\alpha_0+\\alpha_1X+\\alpha_2X^2+...+\\alpha_nX^{n-1}$。用方程表示如下：\n",
    "$$\\begin{cases}\n",
    "\\alpha_0+\\alpha_1x_1+\\alpha_2x_1^2+...+\\alpha_{n-1}x_1^{n-1}=y_1\\\\\n",
    "\\alpha_0+\\alpha_1x_2+\\alpha_2x_2^2+...+\\alpha_{n-1}x_2^{n-1}=y_2\\\\\n",
    "...\\\\\n",
    "\\alpha_0+\\alpha_1x_n+\\alpha_2x_n^2+...+\\alpha_{n-1}x_n^{n-1}=y_n\\\\\n",
    "\\end{cases}$$\n",
    "\n",
    "可以用矩阵表示如下:\n",
    "$$\\begin{bmatrix}\n",
    "1&x_1&x_1^2&\\dots&x_1^{n-1}\\\\\n",
    "1&x_2&x_2^2&\\dots&x_2^{n-1}\\\\\n",
    "\\vdots&\\vdots&\\ddots&\\vdots\\\\\n",
    "1&x_n&x_n^2&\\dots&x_n^{n-1}\n",
    "\\end{bmatrix}\\begin{bmatrix}\n",
    "\\alpha_0\\\\\n",
    "\\alpha_1\\\\\n",
    "\\vdots\\\\\n",
    "\\alpha_{n-1}\\\\\n",
    "\\end{bmatrix}=\\begin{bmatrix}\n",
    "y_1\\\\\n",
    "y_2\\\\\n",
    "\\vdots\\\\\n",
    "y_n\n",
    "\\end{bmatrix}$$\n",
    "那么就有$X\\overrightarrow{\\alpha}=\\overrightarrow{Y},\\therefore \\overrightarrow{\\alpha}=X^{-1}\\overrightarrow{Y}$，由于$X=D_n^T$，所以只要$x_i \\neq x_j$，那么$\\overrightarrow{\\alpha}$就是有值的\n",
    "如果我们不做$n-1$这样的高阶函数，我们做一个$K < n$阶的函数，那么就是拟合，如果k=1，就是线性拟合.如果y是连续的，那么就是回归"
   ]
  }
 ],
 "metadata": {},
 "nbformat": 4,
 "nbformat_minor": 0
}